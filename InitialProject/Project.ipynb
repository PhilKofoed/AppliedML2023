{
 "cells": [
  {
   "cell_type": "code",
   "execution_count": null,
   "metadata": {},
   "outputs": [],
   "source": [
    "import matplotlib.pyplot as plt\n",
    "import numpy as np\n",
    "import pandas as pd\n",
    "import h5py\n",
    "import seaborn as sns\n",
    "\n",
    "from sklearn import preprocessing, cluster\n",
    "from sklearn.decomposition import PCA, KernelPCA\n",
    "from sklearn.model_selection import train_test_split, cross_val_score, RandomizedSearchCV\n",
    "from sklearn.inspection import permutation_importance\n",
    "from sklearn.metrics import roc_auc_score, roc_curve, RocCurveDisplay, mean_absolute_error\n",
    "from sklearn.manifold import TSNE\n",
    "import tensorflow as tf\n",
    "\n",
    "from lightgbm import LGBMClassifier, LGBMRegressor\n",
    "\n",
    "plt.style.use(\"../KD_style.mplstyle\")\n"
   ]
  },
  {
   "cell_type": "code",
   "execution_count": 38,
   "metadata": {},
   "outputs": [
    {
     "data": {
      "text/plain": [
       "<module 'tensorflow' from 'C:\\\\Users\\\\Philip\\\\AppData\\\\Roaming\\\\Python\\\\Python311\\\\site-packages\\\\tensorflow\\\\__init__.py'>"
      ]
     },
     "execution_count": 38,
     "metadata": {},
     "output_type": "execute_result"
    }
   ],
   "source": [
    "tf"
   ]
  },
  {
   "cell_type": "code",
   "execution_count": 2,
   "metadata": {},
   "outputs": [],
   "source": [
    "def load_data(name):\n",
    "    with h5py.File(f'{name}.h5', 'r') as f:\n",
    "        filename = name.split('/')[1]\n",
    "        df = pd.DataFrame(f[name][:], dtype=np.float64)\n",
    "        df = df.drop(\"index\", axis = 1)\n",
    "        return df\n",
    "\n",
    "train = load_data('./train')\n",
    "train = train.sample(frac=1, random_state= 42)\n",
    "final_test  = load_data('./test')\n"
   ]
  },
  {
   "cell_type": "code",
   "execution_count": 34,
   "metadata": {},
   "outputs": [
    {
     "name": "stdout",
     "output_type": "stream",
     "text": [
      "Index(['eventNumber', 'runNumber', 'actualInteractionsPerCrossing',\n",
      "       'averageInteractionsPerCrossing', 'correctedActualMu',\n",
      "       'correctedAverageMu', 'correctedScaledActualMu',\n",
      "       'correctedScaledAverageMu', 'NvtxReco', 'p_nTracks',\n",
      "       ...\n",
      "       'p_E5x7_Lr0', 'p_E5x7_Lr1', 'p_E5x7_Lr2', 'p_E5x7_Lr3', 'p_E7x11_Lr0',\n",
      "       'p_E7x11_Lr1', 'p_E7x11_Lr2', 'p_E7x11_Lr3', 'p_E7x7_Lr0',\n",
      "       'p_E7x7_Lr1'],\n",
      "      dtype='object', length=165)\n"
     ]
    }
   ],
   "source": [
    "print(train.keys())"
   ]
  },
  {
   "cell_type": "code",
   "execution_count": 36,
   "metadata": {},
   "outputs": [],
   "source": [
    "use_keys = ['actualInteractionsPerCrossing',\n",
    "'averageInteractionsPerCrossing',\n",
    "'correctedActualMu',\n",
    "'correctedAverageMu',\n",
    "'correctedScaledActualMu',\n",
    "'correctedScaledAverageMu',\n",
    "'NvtxReco',\n",
    "'p_nTracks',\n",
    "'p_pt_track',\n",
    "'p_eta',\n",
    "'p_phi',\n",
    "'p_charge',\n",
    "'p_qOverP',\n",
    "'p_z0',\n",
    "'p_d0',\n",
    "'p_sigmad0',\n",
    "'p_d0Sig',\n",
    "'p_EptRatio',\n",
    "'p_dPOverP',\n",
    "'p_z0theta',\n",
    "'p_etaCluster',\n",
    "'p_phiCluster',\n",
    "'p_eCluster',\n",
    "'p_rawEtaCluster',\n",
    "'p_rawPhiCluster',\n",
    "'p_rawECluster',\n",
    "'p_eClusterLr0',\n",
    "'p_eClusterLr1',\n",
    "'p_eClusterLr2',\n",
    "'p_eClusterLr3',\n",
    "'p_etaClusterLr1',\n",
    "'p_etaClusterLr2',\n",
    "'p_phiClusterLr2',\n",
    "'p_eAccCluster',\n",
    "'p_f0Cluster',\n",
    "'p_etaCalo',\n",
    "'p_phiCalo',\n",
    "'p_eTileGap3Cluster',\n",
    "'p_cellIndexCluster',\n",
    "'p_phiModCalo',\n",
    "'p_etaModCalo',\n",
    "'p_dPhiTH3',\n",
    "'p_R12',\n",
    "'p_fTG3',\n",
    "'p_weta2',\n",
    "'p_Reta',\n",
    "'p_Rphi',\n",
    "'p_Eratio',\n",
    "'p_f1',\n",
    "'p_f3',\n",
    "'p_Rhad',\n",
    "'p_Rhad1',\n",
    "'p_deltaEta1',\n",
    "'p_deltaPhiRescaled2',\n",
    "'p_TRTPID',\n",
    "'p_TRTTrackOccupancy',\n",
    "'p_numberOfInnermostPixelHits',\n",
    "'p_numberOfPixelHits',\n",
    "'p_numberOfSCTHits',\n",
    "'p_numberOfTRTHits',\n",
    "'p_numberOfTRTXenonHits',\n",
    "'p_chi2',\n",
    "'p_ndof',\n",
    "'p_SharedMuonTrack',\n",
    "'p_E7x7_Lr2',\n",
    "'p_E7x7_Lr3',\n",
    "'p_E_Lr0_HiG',\n",
    "'p_E_Lr0_LowG',\n",
    "'p_E_Lr0_MedG',\n",
    "'p_E_Lr1_HiG',\n",
    "'p_E_Lr1_LowG',\n",
    "'p_E_Lr1_MedG',\n",
    "'p_E_Lr2_HiG',\n",
    "'p_E_Lr2_LowG',\n",
    "'p_E_Lr2_MedG',\n",
    "'p_E_Lr3_HiG',\n",
    "'p_E_Lr3_LowG',\n",
    "'p_E_Lr3_MedG',\n",
    "'p_ambiguityType',\n",
    "'p_asy1',\n",
    "'p_author',\n",
    "'p_barys1',\n",
    "'p_core57cellsEnergyCorrection',\n",
    "'p_deltaEta0',\n",
    "'p_deltaEta2',\n",
    "'p_deltaEta3',\n",
    "'p_deltaPhi0',\n",
    "'p_deltaPhi1',\n",
    "'p_deltaPhi2',\n",
    "'p_deltaPhi3',\n",
    "'p_deltaPhiFromLastMeasurement',\n",
    "'p_deltaPhiRescaled0',\n",
    "'p_deltaPhiRescaled1',\n",
    "'p_deltaPhiRescaled3',\n",
    "'p_e1152',\n",
    "'p_e132',\n",
    "'p_e235',\n",
    "'p_e255',\n",
    "'p_e2ts1',\n",
    "'p_ecore',\n",
    "'p_emins1',\n",
    "'p_etconeCorrBitset',\n",
    "'p_ethad',\n",
    "'p_ethad1',\n",
    "'p_f1core',\n",
    "'p_f3core',\n",
    "'p_maxEcell_energy',\n",
    "'p_maxEcell_gain',\n",
    "'p_maxEcell_time',\n",
    "'p_maxEcell_x',\n",
    "'p_maxEcell_y',\n",
    "'p_maxEcell_z',\n",
    "'p_nCells_Lr0_HiG',\n",
    "'p_nCells_Lr0_LowG',\n",
    "'p_nCells_Lr0_MedG',\n",
    "'p_nCells_Lr1_HiG',\n",
    "'p_nCells_Lr1_LowG',\n",
    "'p_nCells_Lr1_MedG',\n",
    "'p_nCells_Lr2_HiG',\n",
    "'p_nCells_Lr2_LowG',\n",
    "'p_nCells_Lr2_MedG',\n",
    "'p_nCells_Lr3_HiG',\n",
    "'p_nCells_Lr3_LowG',\n",
    "'p_nCells_Lr3_MedG',\n",
    "'p_pos',\n",
    "'p_pos7',\n",
    "'p_poscs1',\n",
    "'p_poscs2',\n",
    "'p_ptconeCorrBitset',\n",
    "'p_ptconecoreTrackPtrCorrection',\n",
    "'p_r33over37allcalo',\n",
    "'p_topoetconeCorrBitset',\n",
    "'p_topoetconecoreConeEnergyCorrection',\n",
    "'p_topoetconecoreConeSCEnergyCorrection',\n",
    "'p_weta1',\n",
    "'p_widths1',\n",
    "'p_widths2',\n",
    "'p_wtots1',\n",
    "'p_e233',\n",
    "'p_e237',\n",
    "'p_e277',\n",
    "'p_e2tsts1',\n",
    "'p_ehad1',\n",
    "'p_emaxs1',\n",
    "'p_fracs1',\n",
    "'p_DeltaE',\n",
    "'p_E3x5_Lr0',\n",
    "'p_E3x5_Lr1',\n",
    "'p_E3x5_Lr2',\n",
    "'p_E3x5_Lr3',\n",
    "'p_E5x7_Lr0',\n",
    "'p_E5x7_Lr1',\n",
    "'p_E5x7_Lr2',\n",
    "'p_E5x7_Lr3',\n",
    "'p_E7x11_Lr0',\n",
    "'p_E7x11_Lr1',\n",
    "'p_E7x11_Lr2',\n",
    "'p_E7x11_Lr3',\n",
    "'p_E7x7_Lr0',\n",
    "'p_E7x7_Lr1']"
   ]
  },
  {
   "cell_type": "code",
   "execution_count": 4,
   "metadata": {},
   "outputs": [],
   "source": [
    "X_train, X_test, y_train, y_test = train_test_split(train[use_keys], train[\"Truth\"], test_size=0.2, random_state=42)\n",
    "X_train_sub = X_train.iloc[:5000]\n",
    "y_train_sub = y_train.iloc[:5000]"
   ]
  },
  {
   "cell_type": "code",
   "execution_count": 42,
   "metadata": {},
   "outputs": [
    {
     "name": "stdout",
     "output_type": "stream",
     "text": [
      "|   iter    |  target   | min_ch... | num_le... |\n",
      "-------------------------------------------------\n",
      "| \u001b[0m1        \u001b[0m | \u001b[0m-6.266e+0\u001b[0m | \u001b[0m149.8    \u001b[0m | \u001b[0m285.3    \u001b[0m |\n",
      "| \u001b[95m2        \u001b[0m | \u001b[95m-6.236e+0\u001b[0m | \u001b[95m292.8    \u001b[0m | \u001b[95m180.4    \u001b[0m |\n",
      "| \u001b[95m3        \u001b[0m | \u001b[95m-6.14e+03\u001b[0m | \u001b[95m62.41    \u001b[0m | \u001b[95m48.49    \u001b[0m |\n",
      "| \u001b[0m4        \u001b[0m | \u001b[0m-6.282e+0\u001b[0m | \u001b[0m23.23    \u001b[0m | \u001b[0m260.1    \u001b[0m |\n",
      "| \u001b[0m5        \u001b[0m | \u001b[0m-6.243e+0\u001b[0m | \u001b[0m240.4    \u001b[0m | \u001b[0m213.0    \u001b[0m |\n",
      "| \u001b[0m6        \u001b[0m | \u001b[0m-6.958e+0\u001b[0m | \u001b[0m159.6    \u001b[0m | \u001b[0m2.0      \u001b[0m |\n",
      "| \u001b[95m7        \u001b[0m | \u001b[95m-6.131e+0\u001b[0m | \u001b[95m64.58    \u001b[0m | \u001b[95m48.74    \u001b[0m |\n",
      "| \u001b[0m8        \u001b[0m | \u001b[0m-6.189e+0\u001b[0m | \u001b[0m79.14    \u001b[0m | \u001b[0m108.1    \u001b[0m |\n",
      "| \u001b[0m9        \u001b[0m | \u001b[0m-6.23e+03\u001b[0m | \u001b[0m138.0    \u001b[0m | \u001b[0m182.7    \u001b[0m |\n",
      "| \u001b[0m10       \u001b[0m | \u001b[0m-6.246e+0\u001b[0m | \u001b[0m321.1    \u001b[0m | \u001b[0m273.1    \u001b[0m |\n",
      "| \u001b[0m11       \u001b[0m | \u001b[0m-6.227e+0\u001b[0m | \u001b[0m0.3702   \u001b[0m | \u001b[0m147.4    \u001b[0m |\n",
      "| \u001b[0m12       \u001b[0m | \u001b[0m-6.26e+03\u001b[0m | \u001b[0m389.5    \u001b[0m | \u001b[0m199.1    \u001b[0m |\n",
      "| \u001b[0m13       \u001b[0m | \u001b[0m-6.238e+0\u001b[0m | \u001b[0m351.6    \u001b[0m | \u001b[0m100.5    \u001b[0m |\n",
      "| \u001b[0m14       \u001b[0m | \u001b[0m-6.278e+0\u001b[0m | \u001b[0m399.1    \u001b[0m | \u001b[0m16.97    \u001b[0m |\n",
      "| \u001b[0m15       \u001b[0m | \u001b[0m-6.235e+0\u001b[0m | \u001b[0m64.85    \u001b[0m | \u001b[0m181.9    \u001b[0m |\n",
      "| \u001b[0m16       \u001b[0m | \u001b[0m-6.261e+0\u001b[0m | \u001b[0m399.9    \u001b[0m | \u001b[0m298.7    \u001b[0m |\n",
      "| \u001b[0m17       \u001b[0m | \u001b[0m-6.259e+0\u001b[0m | \u001b[0m240.9    \u001b[0m | \u001b[0m300.0    \u001b[0m |\n",
      "| \u001b[0m18       \u001b[0m | \u001b[0m-6.222e+0\u001b[0m | \u001b[0m215.5    \u001b[0m | \u001b[0m139.4    \u001b[0m |\n",
      "| \u001b[0m19       \u001b[0m | \u001b[0m-6.228e+0\u001b[0m | \u001b[0m277.3    \u001b[0m | \u001b[0m97.23    \u001b[0m |\n",
      "| \u001b[0m20       \u001b[0m | \u001b[0m-6.245e+0\u001b[0m | \u001b[0m311.3    \u001b[0m | \u001b[0m17.69    \u001b[0m |\n",
      "| \u001b[0m21       \u001b[0m | \u001b[0m-6.207e+0\u001b[0m | \u001b[0m141.5    \u001b[0m | \u001b[0m118.3    \u001b[0m |\n",
      "| \u001b[0m22       \u001b[0m | \u001b[0m-6.163e+0\u001b[0m | \u001b[0m1.264    \u001b[0m | \u001b[0m86.14    \u001b[0m |\n",
      "| \u001b[0m23       \u001b[0m | \u001b[0m-6.958e+0\u001b[0m | \u001b[0m1.824    \u001b[0m | \u001b[0m2.638    \u001b[0m |\n",
      "| \u001b[0m24       \u001b[0m | \u001b[0m-6.282e+0\u001b[0m | \u001b[0m81.52    \u001b[0m | \u001b[0m299.2    \u001b[0m |\n",
      "| \u001b[0m25       \u001b[0m | \u001b[0m-6.247e+0\u001b[0m | \u001b[0m400.0    \u001b[0m | \u001b[0m132.0    \u001b[0m |\n",
      "| \u001b[0m26       \u001b[0m | \u001b[0m-6.236e+0\u001b[0m | \u001b[0m181.3    \u001b[0m | \u001b[0m228.8    \u001b[0m |\n",
      "| \u001b[0m27       \u001b[0m | \u001b[0m-6.162e+0\u001b[0m | \u001b[0m37.43    \u001b[0m | \u001b[0m99.11    \u001b[0m |\n",
      "| \u001b[0m28       \u001b[0m | \u001b[0m-6.247e+0\u001b[0m | \u001b[0m100.4    \u001b[0m | \u001b[0m235.6    \u001b[0m |\n",
      "| \u001b[0m29       \u001b[0m | \u001b[0m-6.268e+0\u001b[0m | \u001b[0m0.0      \u001b[0m | \u001b[0m207.3    \u001b[0m |\n",
      "| \u001b[0m30       \u001b[0m | \u001b[0m-6.319e+0\u001b[0m | \u001b[0m0.0      \u001b[0m | \u001b[0m300.0    \u001b[0m |\n",
      "| \u001b[0m31       \u001b[0m | \u001b[0m-6.24e+03\u001b[0m | \u001b[0m341.1    \u001b[0m | \u001b[0m158.7    \u001b[0m |\n",
      "| \u001b[0m32       \u001b[0m | \u001b[0m-6.168e+0\u001b[0m | \u001b[0m93.05    \u001b[0m | \u001b[0m73.51    \u001b[0m |\n",
      "| \u001b[0m33       \u001b[0m | \u001b[0m-6.246e+0\u001b[0m | \u001b[0m398.8    \u001b[0m | \u001b[0m76.78    \u001b[0m |\n",
      "| \u001b[0m34       \u001b[0m | \u001b[0m-6.241e+0\u001b[0m | \u001b[0m333.9    \u001b[0m | \u001b[0m221.7    \u001b[0m |\n",
      "| \u001b[0m35       \u001b[0m | \u001b[0m-6.224e+0\u001b[0m | \u001b[0m186.9    \u001b[0m | \u001b[0m173.7    \u001b[0m |\n",
      "=================================================\n",
      "{'min_child_samples': 64, 'num_leaves': 48}\n",
      "6072.841734924624\n",
      "6057.6230292646505\n",
      "p_eCluster 1.0650  +/- 0.0019\n",
      "p_rawECluster 0.0088  +/- 0.0001\n",
      "p_deltaEta2 0.0086  +/- 0.0001\n",
      "p_eAccCluster 0.0080  +/- 0.0001\n",
      "p_qOverP 0.0070  +/- 0.0001\n",
      "p_d0     0.0066  +/- 0.0001\n",
      "p_E3x5_Lr1 0.0051  +/- 0.0001\n",
      "p_eClusterLr1 0.0051  +/- 0.0001\n",
      "p_EptRatio 0.0050  +/- 0.0001\n",
      "p_deltaPhiRescaled2 0.0049  +/- 0.0000\n",
      "p_deltaEta1 0.0046  +/- 0.0001\n",
      "p_nCells_Lr1_HiG 0.0038  +/- 0.0001\n",
      "p_deltaPhi2 0.0036  +/- 0.0001\n",
      "p_fracs1 0.0036  +/- 0.0001\n",
      "p_pt_track 0.0032  +/- 0.0001\n",
      "p_ecore  0.0032  +/- 0.0001\n",
      "p_sigmad0 0.0031  +/- 0.0000\n",
      "p_nTracks 0.0028  +/- 0.0001\n",
      "p_widths1 0.0025  +/- 0.0000\n",
      "p_d0Sig  0.0020  +/- 0.0001\n",
      "p_r33over37allcalo 0.0018  +/- 0.0000\n",
      "p_core57cellsEnergyCorrection 0.0017  +/- 0.0000\n",
      "p_Eratio 0.0017  +/- 0.0000\n",
      "p_e237   0.0016  +/- 0.0000\n",
      "p_E5x7_Lr1 0.0012  +/- 0.0000\n",
      "p_nCells_Lr2_HiG 0.0012  +/- 0.0000\n",
      "p_weta1  0.0010  +/- 0.0000\n",
      "p_DeltaE 0.0009  +/- 0.0000\n",
      "p_Rphi   0.0008  +/- 0.0000\n",
      "p_wtots1 0.0008  +/- 0.0000\n",
      "p_Reta   0.0008  +/- 0.0000\n",
      "p_e2tsts1 0.0008  +/- 0.0000\n",
      "p_ptconecoreTrackPtrCorrection 0.0007  +/- 0.0000\n",
      "NvtxReco 0.0006  +/- 0.0000\n",
      "p_ambiguityType 0.0005  +/- 0.0000\n",
      "p_cellIndexCluster 0.0005  +/- 0.0000\n",
      "p_deltaPhi1 0.0005  +/- 0.0000\n",
      "p_topoetconecoreConeEnergyCorrection 0.0005  +/- 0.0000\n",
      "p_E_Lr1_HiG 0.0004  +/- 0.0000\n",
      "p_nCells_Lr3_HiG 0.0004  +/- 0.0000\n",
      "p_weta2  0.0004  +/- 0.0000\n",
      "p_maxEcell_time 0.0004  +/- 0.0000\n",
      "p_E7x11_Lr3 0.0004  +/- 0.0000\n",
      "p_Rhad   0.0004  +/- 0.0000\n",
      "p_deltaPhiFromLastMeasurement 0.0003  +/- 0.0000\n",
      "p_deltaPhiRescaled1 0.0003  +/- 0.0000\n",
      "p_E_Lr2_HiG 0.0003  +/- 0.0000\n",
      "p_e235   0.0003  +/- 0.0000\n",
      "p_dPhiTH3 0.0003  +/- 0.0000\n",
      "p_E3x5_Lr2 0.0003  +/- 0.0000\n",
      "p_dPOverP 0.0003  +/- 0.0000\n",
      "p_chi2   0.0003  +/- 0.0000\n",
      "p_e2ts1  0.0003  +/- 0.0000\n",
      "p_deltaPhi0 0.0003  +/- 0.0000\n",
      "p_pos7   0.0002  +/- 0.0000\n",
      "p_poscs2 0.0002  +/- 0.0000\n",
      "p_deltaPhiRescaled3 0.0002  +/- 0.0000\n",
      "p_ehad1  0.0002  +/- 0.0000\n",
      "p_emins1 0.0002  +/- 0.0000\n",
      "p_deltaPhi3 0.0002  +/- 0.0000\n",
      "p_f3core 0.0002  +/- 0.0000\n",
      "p_E_Lr1_MedG 0.0002  +/- 0.0000\n",
      "p_ndof   0.0002  +/- 0.0000\n",
      "p_E5x7_Lr2 0.0002  +/- 0.0000\n",
      "p_maxEcell_energy 0.0002  +/- 0.0000\n",
      "p_eClusterLr2 0.0002  +/- 0.0000\n",
      "p_deltaEta3 0.0002  +/- 0.0000\n",
      "p_E_Lr2_MedG 0.0002  +/- 0.0000\n",
      "p_eClusterLr3 0.0002  +/- 0.0000\n",
      "p_barys1 0.0001  +/- 0.0000\n",
      "p_ethad1 0.0001  +/- 0.0000\n",
      "p_ethad  0.0001  +/- 0.0000\n",
      "p_maxEcell_y 0.0001  +/- 0.0000\n",
      "p_Rhad1  0.0001  +/- 0.0000\n",
      "p_poscs1 0.0001  +/- 0.0000\n",
      "actualInteractionsPerCrossing 0.0001  +/- 0.0000\n",
      "p_emaxs1 0.0001  +/- 0.0000\n",
      "p_E3x5_Lr3 0.0001  +/- 0.0000\n",
      "p_e233   0.0001  +/- 0.0000\n",
      "p_E5x7_Lr3 0.0001  +/- 0.0000\n",
      "p_phiModCalo 0.0001  +/- 0.0000\n",
      "p_etaModCalo 0.0001  +/- 0.0000\n",
      "p_f1core 0.0001  +/- 0.0000\n",
      "p_numberOfPixelHits 0.0001  +/- 0.0000\n",
      "p_f3     0.0001  +/- 0.0000\n",
      "p_topoetconecoreConeSCEnergyCorrection 0.0001  +/- 0.0000\n",
      "p_TRTPID 0.0001  +/- 0.0000\n",
      "p_E7x7_Lr3 0.0001  +/- 0.0000\n",
      "p_asy1   0.0001  +/- 0.0000\n",
      "p_TRTTrackOccupancy 0.0001  +/- 0.0000\n",
      "p_z0     0.0001  +/- 0.0000\n",
      "p_pos    0.0001  +/- 0.0000\n",
      "p_eta    0.0001  +/- 0.0000\n",
      "p_z0theta 0.0001  +/- 0.0000\n",
      "p_E7x11_Lr1 0.0001  +/- 0.0000\n",
      "p_phiCluster 0.0001  +/- 0.0000\n",
      "p_e132   0.0001  +/- 0.0000\n",
      "p_E_Lr3_HiG 0.0001  +/- 0.0000\n",
      "p_nCells_Lr1_MedG 0.0001  +/- 0.0000\n",
      "p_E7x11_Lr0 0.0001  +/- 0.0000\n",
      "p_phi    0.0001  +/- 0.0000\n",
      "p_maxEcell_z 0.0001  +/- 0.0000\n",
      "p_R12    0.0001  +/- 0.0000\n",
      "p_e255   0.0001  +/- 0.0000\n",
      "p_charge 0.0001  +/- 0.0000\n",
      "p_maxEcell_x 0.0001  +/- 0.0000\n",
      "p_e1152  0.0000  +/- 0.0000\n",
      "p_E7x7_Lr1 0.0000  +/- 0.0000\n",
      "p_phiCalo 0.0000  +/- 0.0000\n",
      "p_E7x11_Lr2 0.0000  +/- 0.0000\n",
      "p_deltaEta0 0.0000  +/- 0.0000\n",
      "p_f1     0.0000  +/- 0.0000\n",
      "p_E7x7_Lr0 0.0000  +/- 0.0000\n",
      "p_etaCluster 0.0000  +/- 0.0000\n",
      "p_E5x7_Lr0 0.0000  +/- 0.0000\n",
      "p_e277   0.0000  +/- 0.0000\n",
      "p_E7x7_Lr2 0.0000  +/- 0.0000\n",
      "p_etaCalo 0.0000  +/- 0.0000\n",
      "p_numberOfSCTHits 0.0000  +/- 0.0000\n",
      "p_numberOfTRTHits 0.0000  +/- 0.0000\n",
      "p_E3x5_Lr0 0.0000  +/- 0.0000\n",
      "p_etaClusterLr2 0.0000  +/- 0.0000\n",
      "p_nCells_Lr2_MedG 0.0000  +/- 0.0000\n",
      "p_f0Cluster 0.0000  +/- 0.0000\n",
      "p_fTG3   0.0000  +/- 0.0000\n",
      "p_eTileGap3Cluster 0.0000  +/- 0.0000\n",
      "p_numberOfTRTXenonHits 0.0000  +/- 0.0000\n"
     ]
    }
   ],
   "source": [
    "from bayes_opt import BayesianOptimization\n",
    "from sklearn.model_selection import cross_val_score\n",
    "\n",
    "def bayes_optimize_params(X_train, X_test, y_train, y_test, classifier, param_dict_range, rng):\n",
    "    \n",
    "    def opt_func(**kwargs):\n",
    "        for kw in kwargs:\n",
    "            kwargs[kw] = int(kwargs[kw])\n",
    "        model = classifier(random_state = rng, **kwargs).fit(X_train, y_train)\n",
    "        return roc_auc_score(y_test, model.predict_proba(X_test).T[1])\n",
    "    \n",
    "    optimizer = BayesianOptimization(f = opt_func,\n",
    "                                     pbounds = param_dict_range,\n",
    "                                     random_state = rng,\n",
    "                                     verbose=0)\n",
    "    optimizer.maximize(n_iter = 25)    \n",
    "    params = {}\n",
    "    for param in optimizer.max[\"params\"]:\n",
    "        params[param] = int(optimizer.max[\"params\"][param])\n",
    "    return params\n",
    "\n",
    "def bayes_optimize_params_cv(X, y, classifier, param_dict_range, rng):\n",
    "    \n",
    "    def opt_func(**kwargs):\n",
    "        \n",
    "        for kw in kwargs:\n",
    "            kwargs[kw] = int(kwargs[kw])\n",
    "        score = cross_val_score(classifier(**kwargs), X, y, scoring = \"roc_auc\", cv = 4).mean()\n",
    "        return score\n",
    "    \n",
    "    optimizer = BayesianOptimization(f = opt_func,\n",
    "                                     pbounds = param_dict_range,\n",
    "                                     random_state = rng,\n",
    "                                     verbose=2)\n",
    "    optimizer.maximize(n_iter = 30)    \n",
    "    params = {}\n",
    "    for param in optimizer.max[\"params\"]:\n",
    "        params[param] = int(optimizer.max[\"params\"][param])\n",
    "    return params\n",
    "    \n",
    "def optimize_tree_sk_classifier(X, y, classifier, param_dict_range, pre_process = None, rng = 42, test_size = 0.2, max_fi_size = 10**6):\n",
    "    if pre_process:\n",
    "        X = pd.DataFrame(pre_process.fit_transform(X), columns=X.keys())\n",
    "    X_train, X_test, y_train, y_test = train_test_split(X, y, test_size=test_size, random_state=rng)\n",
    "    params = bayes_optimize_params_cv(X, y, classifier, param_dict_range, rng)\n",
    "    print(params)\n",
    "    model = classifier(random_state = rng, **params).fit(X_train, y_train)\n",
    "    \n",
    "    fig, ax = plt.subplots()\n",
    "    RocCurveDisplay.from_predictions(y_test, model.predict_proba(X_test).T[1], name = \"hopefully good\", ax = ax)\n",
    "    default_model = classifier(random_state = rng).fit(X_train, y_train)\n",
    "    RocCurveDisplay.from_predictions(y_test, default_model.predict_proba(X_test).T[1], name = \"untuned\", ax = ax)\n",
    "    plt.show()\n",
    "    \n",
    "    r1 = permutation_importance(model, X, y, n_repeats=5, random_state=0)\n",
    "    important_keys1 = []\n",
    "    for i in r1.importances_mean.argsort()[::-1]:\n",
    "        if r1.importances_mean[i] - 2 * r1.importances_std[i] > 0:\n",
    "                print(f\"{model.feature_name_[i]:<8}\",\n",
    "                f\"{r1.importances_mean[i]:.4f}\",\n",
    "                f\" +/- {r1.importances_std[i]:.4f}\")\n",
    "                important_keys1.append(model.feature_name_[i])\n",
    "    return params, important_keys1\n",
    "\n",
    "def bayes_optimize_params_cv_regression(X, y, regressor, param_dict_range, rng):\n",
    "    \n",
    "    def opt_func(**kwargs):\n",
    "        \n",
    "        for kw in kwargs:\n",
    "            kwargs[kw] = int(kwargs[kw])\n",
    "        score = cross_val_score(regressor(**kwargs), X, y, scoring = \"neg_mean_absolute_error\", cv = 5).mean()\n",
    "        return score\n",
    "    \n",
    "    optimizer = BayesianOptimization(f = opt_func,\n",
    "                                     pbounds = param_dict_range,\n",
    "                                     random_state = rng,\n",
    "                                     verbose=2)\n",
    "    optimizer.maximize(n_iter = 30)    \n",
    "    params = {}\n",
    "    for param in optimizer.max[\"params\"]:\n",
    "        params[param] = int(optimizer.max[\"params\"][param])\n",
    "    return params\n",
    "\n",
    "def optimize_tree_sk_regression(X, y, regressor, param_dict_range, pre_process = None, rng = 42, test_size = 0.2, max_fi_size = 10**6):\n",
    "    if pre_process:\n",
    "        X = pd.DataFrame(pre_process.fit_transform(X), columns=X.keys())\n",
    "    X_train, X_test, y_train, y_test = train_test_split(X, y, test_size=test_size, random_state=rng)\n",
    "    params = bayes_optimize_params_cv_regression(X, y, regressor, param_dict_range, rng)\n",
    "    print(params)\n",
    "    model = regressor(random_state = rng, **params).fit(X_train, y_train)\n",
    "    y_pred = model.predict(X_test)\n",
    "    print(mean_absolute_error(y_test, y_pred))\n",
    "    model_un = regressor(random_state = rng).fit(X_train, y_train)\n",
    "    y_pred = model_un.predict(X_test)\n",
    "    print(mean_absolute_error(y_test, y_pred))\n",
    "\n",
    "    # fig, ax = plt.subplots()\n",
    "    # RocCurveDisplay.from_predictions(y_test, model.predict_proba(X_test).T[1], name = \"hopefully good\", ax = ax)\n",
    "    # default_model = regressor(random_state = rng).fit(X_train, y_train)\n",
    "    # RocCurveDisplay.from_predictions(y_test, default_model.predict_proba(X_test).T[1], name = \"untuned\", ax = ax)\n",
    "    \n",
    "    r1 = permutation_importance(model, X, y, n_repeats=5, random_state=0)\n",
    "    important_keys1 = []\n",
    "    for i in r1.importances_mean.argsort()[::-1]:\n",
    "        if r1.importances_mean[i] - 2 * r1.importances_std[i] > 0:\n",
    "                print(f\"{model.feature_name_[i]:<8}\",\n",
    "                f\"{r1.importances_mean[i]:.4f}\",\n",
    "                f\" +/- {r1.importances_std[i]:.4f}\")\n",
    "                important_keys1.append(model.feature_name_[i])\n",
    "    return params, important_keys1\n",
    "\n",
    "param_dict_range = {\"min_child_samples\": (0, 400), \n",
    "                    \"num_leaves\": (2,300)}\n",
    "params, imp_keys = optimize_tree_sk_regression(train[use_keys][train[\"Truth\"].values == 1], train[\"p_truth_E\"][train[\"Truth\"].values == 1].values, LGBMRegressor, param_dict_range)"
   ]
  },
  {
   "cell_type": "code",
   "execution_count": 43,
   "metadata": {},
   "outputs": [
    {
     "name": "stdout",
     "output_type": "stream",
     "text": [
      "|   iter    |  target   | min_ch... | num_le... |\n",
      "-------------------------------------------------\n",
      "| \u001b[0m1        \u001b[0m | \u001b[0m-6.231e+0\u001b[0m | \u001b[0m74.91    \u001b[0m | \u001b[0m190.2    \u001b[0m |\n",
      "| \u001b[95m2        \u001b[0m | \u001b[95m-6.211e+0\u001b[0m | \u001b[95m146.4    \u001b[0m | \u001b[95m120.5    \u001b[0m |\n",
      "| \u001b[95m3        \u001b[0m | \u001b[95m-6.115e+0\u001b[0m | \u001b[95m31.2     \u001b[0m | \u001b[95m32.89    \u001b[0m |\n",
      "| \u001b[0m4        \u001b[0m | \u001b[0m-6.179e+0\u001b[0m | \u001b[0m11.62    \u001b[0m | \u001b[0m173.5    \u001b[0m |\n",
      "| \u001b[0m5        \u001b[0m | \u001b[0m-6.211e+0\u001b[0m | \u001b[0m120.2    \u001b[0m | \u001b[0m142.2    \u001b[0m |\n",
      "| \u001b[0m6        \u001b[0m | \u001b[0m-6.954e+0\u001b[0m | \u001b[0m0.0      \u001b[0m | \u001b[0m2.0      \u001b[0m |\n",
      "| \u001b[95m7        \u001b[0m | \u001b[95m-6.113e+0\u001b[0m | \u001b[95m30.92    \u001b[0m | \u001b[95m34.44    \u001b[0m |\n",
      "| \u001b[0m8        \u001b[0m | \u001b[0m-6.115e+0\u001b[0m | \u001b[0m64.24    \u001b[0m | \u001b[0m37.91    \u001b[0m |\n",
      "| \u001b[0m9        \u001b[0m | \u001b[0m-6.157e+0\u001b[0m | \u001b[0m54.78    \u001b[0m | \u001b[0m83.51    \u001b[0m |\n",
      "| \u001b[0m10       \u001b[0m | \u001b[0m-6.171e+0\u001b[0m | \u001b[0m104.2    \u001b[0m | \u001b[0m71.92    \u001b[0m |\n",
      "| \u001b[0m11       \u001b[0m | \u001b[0m-6.185e+0\u001b[0m | \u001b[0m109.8    \u001b[0m | \u001b[0m15.79    \u001b[0m |\n",
      "| \u001b[0m12       \u001b[0m | \u001b[0m-6.157e+0\u001b[0m | \u001b[0m15.04    \u001b[0m | \u001b[0m118.4    \u001b[0m |\n",
      "| \u001b[0m13       \u001b[0m | \u001b[0m-6.186e+0\u001b[0m | \u001b[0m59.74    \u001b[0m | \u001b[0m133.0    \u001b[0m |\n",
      "| \u001b[0m14       \u001b[0m | \u001b[0m-6.179e+0\u001b[0m | \u001b[0m156.5    \u001b[0m | \u001b[0m51.22    \u001b[0m |\n",
      "| \u001b[0m15       \u001b[0m | \u001b[0m-6.954e+0\u001b[0m | \u001b[0m171.9    \u001b[0m | \u001b[0m2.0      \u001b[0m |\n",
      "| \u001b[0m16       \u001b[0m | \u001b[0m-6.199e+0\u001b[0m | \u001b[0m191.2    \u001b[0m | \u001b[0m88.84    \u001b[0m |\n",
      "| \u001b[0m17       \u001b[0m | \u001b[0m-6.231e+0\u001b[0m | \u001b[0m200.0    \u001b[0m | \u001b[0m155.2    \u001b[0m |\n",
      "| \u001b[0m18       \u001b[0m | \u001b[0m-6.247e+0\u001b[0m | \u001b[0m147.8    \u001b[0m | \u001b[0m199.0    \u001b[0m |\n",
      "| \u001b[0m19       \u001b[0m | \u001b[0m-6.954e+0\u001b[0m | \u001b[0m70.97    \u001b[0m | \u001b[0m2.0      \u001b[0m |\n",
      "| \u001b[0m20       \u001b[0m | \u001b[0m-6.151e+0\u001b[0m | \u001b[0m74.25    \u001b[0m | \u001b[0m61.34    \u001b[0m |\n",
      "| \u001b[0m21       \u001b[0m | \u001b[0m-6.162e+0\u001b[0m | \u001b[0m121.9    \u001b[0m | \u001b[0m45.03    \u001b[0m |\n",
      "| \u001b[0m22       \u001b[0m | \u001b[0m-6.193e+0\u001b[0m | \u001b[0m142.4    \u001b[0m | \u001b[0m81.93    \u001b[0m |\n",
      "| \u001b[0m23       \u001b[0m | \u001b[0m-6.114e+0\u001b[0m | \u001b[0m14.78    \u001b[0m | \u001b[0m79.96    \u001b[0m |\n",
      "| \u001b[0m24       \u001b[0m | \u001b[0m-6.188e+0\u001b[0m | \u001b[0m92.98    \u001b[0m | \u001b[0m109.6    \u001b[0m |\n",
      "| \u001b[0m25       \u001b[0m | \u001b[0m-6.249e+0\u001b[0m | \u001b[0m197.8    \u001b[0m | \u001b[0m199.6    \u001b[0m |\n",
      "| \u001b[0m26       \u001b[0m | \u001b[0m-6.238e+0\u001b[0m | \u001b[0m36.23    \u001b[0m | \u001b[0m197.6    \u001b[0m |\n",
      "| \u001b[0m27       \u001b[0m | \u001b[0m-6.232e+0\u001b[0m | \u001b[0m159.4    \u001b[0m | \u001b[0m158.9    \u001b[0m |\n",
      "| \u001b[0m28       \u001b[0m | \u001b[0m-6.195e+0\u001b[0m | \u001b[0m34.5     \u001b[0m | \u001b[0m152.6    \u001b[0m |\n",
      "| \u001b[0m29       \u001b[0m | \u001b[0m-6.234e+0\u001b[0m | \u001b[0m111.3    \u001b[0m | \u001b[0m181.5    \u001b[0m |\n",
      "| \u001b[0m30       \u001b[0m | \u001b[0m-6.234e+0\u001b[0m | \u001b[0m0.0      \u001b[0m | \u001b[0m200.0    \u001b[0m |\n",
      "| \u001b[0m31       \u001b[0m | \u001b[0m-6.126e+0\u001b[0m | \u001b[0m47.09    \u001b[0m | \u001b[0m55.99    \u001b[0m |\n",
      "| \u001b[0m32       \u001b[0m | \u001b[0m-6.23e+03\u001b[0m | \u001b[0m198.8    \u001b[0m | \u001b[0m120.3    \u001b[0m |\n",
      "| \u001b[0m33       \u001b[0m | \u001b[0m-6.195e+0\u001b[0m | \u001b[0m0.2942   \u001b[0m | \u001b[0m145.6    \u001b[0m |\n",
      "| \u001b[0m34       \u001b[0m | \u001b[0m-6.204e+0\u001b[0m | \u001b[0m200.0    \u001b[0m | \u001b[0m56.47    \u001b[0m |\n",
      "| \u001b[0m35       \u001b[0m | \u001b[0m-6.208e+0\u001b[0m | \u001b[0m84.79    \u001b[0m | \u001b[0m153.8    \u001b[0m |\n",
      "=================================================\n",
      "{'min_child_samples': 30, 'num_leaves': 34}\n",
      "6060.881017169018\n",
      "6082.13720245086\n",
      "p_eCluster 1.0077  +/- 0.0019\n",
      "p_rawECluster 0.0147  +/- 0.0001\n",
      "p_eAccCluster 0.0111  +/- 0.0001\n",
      "p_deltaEta2 0.0091  +/- 0.0001\n",
      "p_d0     0.0076  +/- 0.0000\n",
      "p_qOverP 0.0073  +/- 0.0001\n",
      "p_E3x5_Lr1 0.0072  +/- 0.0001\n",
      "p_eClusterLr1 0.0064  +/- 0.0001\n",
      "p_deltaPhiRescaled2 0.0054  +/- 0.0001\n",
      "p_sigmad0 0.0050  +/- 0.0001\n",
      "p_deltaEta1 0.0047  +/- 0.0000\n",
      "p_pt_track 0.0046  +/- 0.0001\n",
      "p_ecore  0.0044  +/- 0.0001\n",
      "p_deltaPhi2 0.0043  +/- 0.0001\n",
      "p_EptRatio 0.0040  +/- 0.0001\n",
      "p_widths1 0.0039  +/- 0.0000\n",
      "p_fracs1 0.0037  +/- 0.0001\n",
      "p_nCells_Lr1_HiG 0.0036  +/- 0.0000\n",
      "p_nTracks 0.0027  +/- 0.0001\n",
      "p_d0Sig  0.0020  +/- 0.0001\n",
      "p_E5x7_Lr1 0.0015  +/- 0.0000\n",
      "p_e2tsts1 0.0014  +/- 0.0000\n",
      "p_nCells_Lr2_HiG 0.0013  +/- 0.0001\n",
      "p_wtots1 0.0013  +/- 0.0000\n",
      "p_r33over37allcalo 0.0013  +/- 0.0001\n",
      "p_e237   0.0012  +/- 0.0000\n",
      "p_cellIndexCluster 0.0012  +/- 0.0000\n",
      "p_Reta   0.0011  +/- 0.0000\n",
      "p_DeltaE 0.0011  +/- 0.0000\n",
      "p_Eratio 0.0011  +/- 0.0001\n",
      "p_core57cellsEnergyCorrection 0.0010  +/- 0.0000\n",
      "p_Rphi   0.0010  +/- 0.0000\n",
      "p_deltaPhi1 0.0009  +/- 0.0000\n",
      "p_topoetconecoreConeEnergyCorrection 0.0009  +/- 0.0000\n",
      "p_weta1  0.0008  +/- 0.0000\n",
      "p_E_Lr1_HiG 0.0007  +/- 0.0000\n",
      "p_ptconecoreTrackPtrCorrection 0.0007  +/- 0.0000\n",
      "NvtxReco 0.0005  +/- 0.0000\n",
      "p_nCells_Lr3_HiG 0.0005  +/- 0.0000\n",
      "p_ambiguityType 0.0004  +/- 0.0000\n"
     ]
    }
   ],
   "source": [
    "param_dict_range = {\"min_child_samples\": (0, 200), \n",
    "                    \"num_leaves\": (2,200)}\n",
    "\n",
    "params2, imp_keys2 = optimize_tree_sk_regression(train[imp_keys[:40]][train[\"Truth\"].values == 1], train[\"p_truth_E\"][train[\"Truth\"].values == 1].values, LGBMRegressor, param_dict_range)"
   ]
  },
  {
   "cell_type": "code",
   "execution_count": 52,
   "metadata": {},
   "outputs": [],
   "source": [
    "self_imp_keys = np.array(sorted(zip(LGBMRegressor(**params).fit(train[use_keys][train[\"Truth\"].values == 1], train[\"p_truth_E\"][train[\"Truth\"].values == 1].values).feature_importances_, use_keys), reverse=True))[:,1][:20]"
   ]
  },
  {
   "cell_type": "code",
   "execution_count": null,
   "metadata": {},
   "outputs": [],
   "source": []
  },
  {
   "cell_type": "code",
   "execution_count": null,
   "metadata": {},
   "outputs": [],
   "source": []
  },
  {
   "cell_type": "code",
   "execution_count": 72,
   "metadata": {},
   "outputs": [
    {
     "name": "stdout",
     "output_type": "stream",
     "text": [
      "{'min_child_samples': 30, 'num_leaves': 34}\n"
     ]
    }
   ],
   "source": [
    "print(params2)"
   ]
  },
  {
   "cell_type": "code",
   "execution_count": 53,
   "metadata": {},
   "outputs": [
    {
     "name": "stdout",
     "output_type": "stream",
     "text": [
      "['p_eCluster' 'p_deltaEta2' 'p_deltaPhiRescaled2' 'p_deltaEta1'\n",
      " 'p_EptRatio' 'p_deltaPhi2' 'p_qOverP' 'p_d0' 'p_pt_track' 'p_sigmad0'\n",
      " 'p_nCells_Lr2_HiG' 'p_d0Sig' 'p_nCells_Lr1_HiG' 'p_nTracks' 'p_DeltaE'\n",
      " 'p_ecore' 'p_deltaPhi1' 'p_Rphi' 'p_e2tsts1'\n",
      " 'p_core57cellsEnergyCorrection']\n"
     ]
    }
   ],
   "source": [
    "print(self_imp_keys)"
   ]
  },
  {
   "cell_type": "code",
   "execution_count": 56,
   "metadata": {},
   "outputs": [
    {
     "name": "stdout",
     "output_type": "stream",
     "text": [
      "-6206.2895921467125\n",
      "-6113.42651993202\n"
     ]
    }
   ],
   "source": [
    "print(cross_val_score(LGBMRegressor(**params2), train[self_imp_keys][train[\"Truth\"].values == 1], train[\"p_truth_E\"][train[\"Truth\"].values == 1].values, cv = 5, scoring = \"neg_mean_absolute_error\").mean())\n",
    "print(cross_val_score(LGBMRegressor(**params2), train[imp_keys2][train[\"Truth\"].values == 1], train[\"p_truth_E\"][train[\"Truth\"].values == 1].values, cv = 5, scoring = \"neg_mean_absolute_error\").mean())"
   ]
  },
  {
   "cell_type": "code",
   "execution_count": 69,
   "metadata": {},
   "outputs": [],
   "source": [
    "lbgm_reg_model = LGBMRegressor(**params2).fit(train[imp_keys2][train[\"Truth\"].values == 1], train[\"p_truth_E\"][train[\"Truth\"].values == 1].values)\n",
    "final = lbgm_reg_model.predict(final_test[imp_keys2])"
   ]
  },
  {
   "cell_type": "code",
   "execution_count": 71,
   "metadata": {},
   "outputs": [],
   "source": [
    "final_df = pd.DataFrame(final).to_csv(\"Regression_PhilipKofoed-Djursner_lightgbm.txt\", header = None)\n",
    "with open(\"Regression_PhilipKofoed-Djursner_lightgbm_VariableList.txt\", \"w\") as f:\n",
    "    for key in imp_keys2[:15]:\n",
    "        f.write(f\"{key}\\n\")"
   ]
  },
  {
   "cell_type": "code",
   "execution_count": 3,
   "metadata": {},
   "outputs": [],
   "source": [
    "cluster_keys = [\"p_sigmad0\", \"p_deltaEta1\", \"p_deltaPhiRescaled2\", \"p_ptconecoreTrackPtrCorrection\", \"p_Rphi\"]"
   ]
  },
  {
   "cell_type": "code",
   "execution_count": 57,
   "metadata": {},
   "outputs": [],
   "source": [
    "X_clust1 = preprocessing.RobustScaler().fit_transform(final_test[cluster_keys])"
   ]
  },
  {
   "cell_type": "code",
   "execution_count": 15,
   "metadata": {},
   "outputs": [],
   "source": [
    "tsne1 = TSNE().fit_transform(X_clust1)"
   ]
  },
  {
   "cell_type": "code",
   "execution_count": 20,
   "metadata": {},
   "outputs": [
    {
     "data": {
      "text/plain": [
       "<matplotlib.collections.PathCollection at 0x23747a26b50>"
      ]
     },
     "execution_count": 20,
     "metadata": {},
     "output_type": "execute_result"
    },
    {
     "data": {
      "image/png": "[encoded data removed]",
      "text/plain": [
       "<Figure size 560x400 with 1 Axes>"
      ]
     },
     "metadata": {},
     "output_type": "display_data"
    }
   ],
   "source": [
    "plt.scatter(*tsne1.T, s=2)"
   ]
  },
  {
   "cell_type": "code",
   "execution_count": 58,
   "metadata": {},
   "outputs": [],
   "source": [
    "db1 = cluster.DBSCAN(0.5).fit(X_clust1)\n"
   ]
  },
  {
   "cell_type": "code",
   "execution_count": 62,
   "metadata": {},
   "outputs": [
    {
     "name": "stdout",
     "output_type": "stream",
     "text": [
      "DBSCAN()\n"
     ]
    }
   ],
   "source": [
    "print(db1)"
   ]
  },
  {
   "cell_type": "code",
   "execution_count": 63,
   "metadata": {},
   "outputs": [],
   "source": [
    "pd.DataFrame(db1.labels_).to_csv(\"Clustering_PhilipKofoed-Djursner_DBSCAN.txt\", header = None)"
   ]
  },
  {
   "cell_type": "code",
   "execution_count": 26,
   "metadata": {},
   "outputs": [
    {
     "name": "stdout",
     "output_type": "stream",
     "text": [
      "Estimated number of clusters: 6\n",
      "Estimated number of noise points: 2\n"
     ]
    }
   ],
   "source": [
    "for db in [db1]:\n",
    "    labels = db.labels_\n",
    "    n_clusters_ = len(set(labels)) - (1 if -1 in labels else 0)\n",
    "    n_noise_ = list(labels).count(-1)\n",
    "\n",
    "    print(\"Estimated number of clusters: %d\" % n_clusters_)\n",
    "    print(\"Estimated number of noise points: %d\" % n_noise_)"
   ]
  },
  {
   "cell_type": "code",
   "execution_count": 28,
   "metadata": {},
   "outputs": [
    {
     "data": {
      "image/png": "[encoded data removed]",
      "text/plain": [
       "<Figure size 560x400 with 1 Axes>"
      ]
     },
     "metadata": {},
     "output_type": "display_data"
    }
   ],
   "source": [
    "for label in set(db.labels_):\n",
    "    i = np.where(label == db.labels_)\n",
    "    plt.scatter(tsne1.T[0][i], tsne1.T[1][i])"
   ]
  },
  {
   "cell_type": "code",
   "execution_count": 27,
   "metadata": {},
   "outputs": [
    {
     "ename": "ValueError",
     "evalue": "'color' kwarg must be a color or sequence of color specs.  For a sequence of values to be color-mapped, use the 'c' argument instead.",
     "output_type": "error",
     "traceback": [
      "\u001b[1;31m---------------------------------------------------------------------------\u001b[0m",
      "\u001b[1;31mValueError\u001b[0m                                Traceback (most recent call last)",
      "File \u001b[1;32mc:\\Users\\Philip\\AppData\\Local\\Programs\\Python\\Python311\\Lib\\site-packages\\matplotlib\\axes\\_axes.py:4314\u001b[0m, in \u001b[0;36mAxes._parse_scatter_color_args\u001b[1;34m(c, edgecolors, kwargs, xsize, get_next_color_func)\u001b[0m\n\u001b[0;32m   4313\u001b[0m \u001b[39mtry\u001b[39;00m:\n\u001b[1;32m-> 4314\u001b[0m     mcolors\u001b[39m.\u001b[39;49mto_rgba_array(kwcolor)\n\u001b[0;32m   4315\u001b[0m \u001b[39mexcept\u001b[39;00m \u001b[39mValueError\u001b[39;00m \u001b[39mas\u001b[39;00m err:\n",
      "File \u001b[1;32mc:\\Users\\Philip\\AppData\\Local\\Programs\\Python\\Python311\\Lib\\site-packages\\matplotlib\\colors.py:487\u001b[0m, in \u001b[0;36mto_rgba_array\u001b[1;34m(c, alpha)\u001b[0m\n\u001b[0;32m    486\u001b[0m \u001b[39melse\u001b[39;00m:\n\u001b[1;32m--> 487\u001b[0m     rgba \u001b[39m=\u001b[39m np\u001b[39m.\u001b[39marray([to_rgba(cc) \u001b[39mfor\u001b[39;49;00m cc \u001b[39min\u001b[39;49;00m c])\n\u001b[0;32m    489\u001b[0m \u001b[39mif\u001b[39;00m alpha \u001b[39mis\u001b[39;00m \u001b[39mnot\u001b[39;00m \u001b[39mNone\u001b[39;00m:\n",
      "File \u001b[1;32mc:\\Users\\Philip\\AppData\\Local\\Programs\\Python\\Python311\\Lib\\site-packages\\matplotlib\\colors.py:487\u001b[0m, in \u001b[0;36m<listcomp>\u001b[1;34m(.0)\u001b[0m\n\u001b[0;32m    486\u001b[0m \u001b[39melse\u001b[39;00m:\n\u001b[1;32m--> 487\u001b[0m     rgba \u001b[39m=\u001b[39m np\u001b[39m.\u001b[39marray([to_rgba(cc) \u001b[39mfor\u001b[39;00m cc \u001b[39min\u001b[39;00m c])\n\u001b[0;32m    489\u001b[0m \u001b[39mif\u001b[39;00m alpha \u001b[39mis\u001b[39;00m \u001b[39mnot\u001b[39;00m \u001b[39mNone\u001b[39;00m:\n",
      "File \u001b[1;32mc:\\Users\\Philip\\AppData\\Local\\Programs\\Python\\Python311\\Lib\\site-packages\\matplotlib\\colors.py:299\u001b[0m, in \u001b[0;36mto_rgba\u001b[1;34m(c, alpha)\u001b[0m\n\u001b[0;32m    298\u001b[0m \u001b[39mif\u001b[39;00m rgba \u001b[39mis\u001b[39;00m \u001b[39mNone\u001b[39;00m:  \u001b[39m# Suppress exception chaining of cache lookup failure.\u001b[39;00m\n\u001b[1;32m--> 299\u001b[0m     rgba \u001b[39m=\u001b[39m _to_rgba_no_colorcycle(c, alpha)\n\u001b[0;32m    300\u001b[0m     \u001b[39mtry\u001b[39;00m:\n",
      "File \u001b[1;32mc:\\Users\\Philip\\AppData\\Local\\Programs\\Python\\Python311\\Lib\\site-packages\\matplotlib\\colors.py:381\u001b[0m, in \u001b[0;36m_to_rgba_no_colorcycle\u001b[1;34m(c, alpha)\u001b[0m\n\u001b[0;32m    380\u001b[0m \u001b[39mif\u001b[39;00m \u001b[39mnot\u001b[39;00m np\u001b[39m.\u001b[39miterable(c):\n\u001b[1;32m--> 381\u001b[0m     \u001b[39mraise\u001b[39;00m \u001b[39mValueError\u001b[39;00m(\u001b[39mf\u001b[39m\u001b[39m\"\u001b[39m\u001b[39mInvalid RGBA argument: \u001b[39m\u001b[39m{\u001b[39;00morig_c\u001b[39m!r}\u001b[39;00m\u001b[39m\"\u001b[39m)\n\u001b[0;32m    382\u001b[0m \u001b[39mif\u001b[39;00m \u001b[39mlen\u001b[39m(c) \u001b[39mnot\u001b[39;00m \u001b[39min\u001b[39;00m [\u001b[39m3\u001b[39m, \u001b[39m4\u001b[39m]:\n",
      "\u001b[1;31mValueError\u001b[0m: Invalid RGBA argument: 0",
      "\nThe above exception was the direct cause of the following exception:\n",
      "\u001b[1;31mValueError\u001b[0m                                Traceback (most recent call last)",
      "Cell \u001b[1;32mIn[27], line 1\u001b[0m\n\u001b[1;32m----> 1\u001b[0m plt\u001b[39m.\u001b[39;49mscatter(\u001b[39m*\u001b[39;49mtsne1\u001b[39m.\u001b[39;49mT, s\u001b[39m=\u001b[39;49m\u001b[39m2\u001b[39;49m, color \u001b[39m=\u001b[39;49m db\u001b[39m.\u001b[39;49mlabels_)\n",
      "File \u001b[1;32mc:\\Users\\Philip\\AppData\\Local\\Programs\\Python\\Python311\\Lib\\site-packages\\matplotlib\\pyplot.py:2790\u001b[0m, in \u001b[0;36mscatter\u001b[1;34m(x, y, s, c, marker, cmap, norm, vmin, vmax, alpha, linewidths, edgecolors, plotnonfinite, data, **kwargs)\u001b[0m\n\u001b[0;32m   2785\u001b[0m \u001b[39m@_copy_docstring_and_deprecators\u001b[39m(Axes\u001b[39m.\u001b[39mscatter)\n\u001b[0;32m   2786\u001b[0m \u001b[39mdef\u001b[39;00m \u001b[39mscatter\u001b[39m(\n\u001b[0;32m   2787\u001b[0m         x, y, s\u001b[39m=\u001b[39m\u001b[39mNone\u001b[39;00m, c\u001b[39m=\u001b[39m\u001b[39mNone\u001b[39;00m, marker\u001b[39m=\u001b[39m\u001b[39mNone\u001b[39;00m, cmap\u001b[39m=\u001b[39m\u001b[39mNone\u001b[39;00m, norm\u001b[39m=\u001b[39m\u001b[39mNone\u001b[39;00m,\n\u001b[0;32m   2788\u001b[0m         vmin\u001b[39m=\u001b[39m\u001b[39mNone\u001b[39;00m, vmax\u001b[39m=\u001b[39m\u001b[39mNone\u001b[39;00m, alpha\u001b[39m=\u001b[39m\u001b[39mNone\u001b[39;00m, linewidths\u001b[39m=\u001b[39m\u001b[39mNone\u001b[39;00m, \u001b[39m*\u001b[39m,\n\u001b[0;32m   2789\u001b[0m         edgecolors\u001b[39m=\u001b[39m\u001b[39mNone\u001b[39;00m, plotnonfinite\u001b[39m=\u001b[39m\u001b[39mFalse\u001b[39;00m, data\u001b[39m=\u001b[39m\u001b[39mNone\u001b[39;00m, \u001b[39m*\u001b[39m\u001b[39m*\u001b[39mkwargs):\n\u001b[1;32m-> 2790\u001b[0m     __ret \u001b[39m=\u001b[39m gca()\u001b[39m.\u001b[39;49mscatter(\n\u001b[0;32m   2791\u001b[0m         x, y, s\u001b[39m=\u001b[39;49ms, c\u001b[39m=\u001b[39;49mc, marker\u001b[39m=\u001b[39;49mmarker, cmap\u001b[39m=\u001b[39;49mcmap, norm\u001b[39m=\u001b[39;49mnorm,\n\u001b[0;32m   2792\u001b[0m         vmin\u001b[39m=\u001b[39;49mvmin, vmax\u001b[39m=\u001b[39;49mvmax, alpha\u001b[39m=\u001b[39;49malpha, linewidths\u001b[39m=\u001b[39;49mlinewidths,\n\u001b[0;32m   2793\u001b[0m         edgecolors\u001b[39m=\u001b[39;49medgecolors, plotnonfinite\u001b[39m=\u001b[39;49mplotnonfinite,\n\u001b[0;32m   2794\u001b[0m         \u001b[39m*\u001b[39;49m\u001b[39m*\u001b[39;49m({\u001b[39m\"\u001b[39;49m\u001b[39mdata\u001b[39;49m\u001b[39m\"\u001b[39;49m: data} \u001b[39mif\u001b[39;49;00m data \u001b[39mis\u001b[39;49;00m \u001b[39mnot\u001b[39;49;00m \u001b[39mNone\u001b[39;49;00m \u001b[39melse\u001b[39;49;00m {}), \u001b[39m*\u001b[39;49m\u001b[39m*\u001b[39;49mkwargs)\n\u001b[0;32m   2795\u001b[0m     sci(__ret)\n\u001b[0;32m   2796\u001b[0m     \u001b[39mreturn\u001b[39;00m __ret\n",
      "File \u001b[1;32mc:\\Users\\Philip\\AppData\\Local\\Programs\\Python\\Python311\\Lib\\site-packages\\matplotlib\\__init__.py:1423\u001b[0m, in \u001b[0;36m_preprocess_data.<locals>.inner\u001b[1;34m(ax, data, *args, **kwargs)\u001b[0m\n\u001b[0;32m   1420\u001b[0m \u001b[39m@functools\u001b[39m\u001b[39m.\u001b[39mwraps(func)\n\u001b[0;32m   1421\u001b[0m \u001b[39mdef\u001b[39;00m \u001b[39minner\u001b[39m(ax, \u001b[39m*\u001b[39margs, data\u001b[39m=\u001b[39m\u001b[39mNone\u001b[39;00m, \u001b[39m*\u001b[39m\u001b[39m*\u001b[39mkwargs):\n\u001b[0;32m   1422\u001b[0m     \u001b[39mif\u001b[39;00m data \u001b[39mis\u001b[39;00m \u001b[39mNone\u001b[39;00m:\n\u001b[1;32m-> 1423\u001b[0m         \u001b[39mreturn\u001b[39;00m func(ax, \u001b[39m*\u001b[39;49m\u001b[39mmap\u001b[39;49m(sanitize_sequence, args), \u001b[39m*\u001b[39;49m\u001b[39m*\u001b[39;49mkwargs)\n\u001b[0;32m   1425\u001b[0m     bound \u001b[39m=\u001b[39m new_sig\u001b[39m.\u001b[39mbind(ax, \u001b[39m*\u001b[39margs, \u001b[39m*\u001b[39m\u001b[39m*\u001b[39mkwargs)\n\u001b[0;32m   1426\u001b[0m     auto_label \u001b[39m=\u001b[39m (bound\u001b[39m.\u001b[39marguments\u001b[39m.\u001b[39mget(label_namer)\n\u001b[0;32m   1427\u001b[0m                   \u001b[39mor\u001b[39;00m bound\u001b[39m.\u001b[39mkwargs\u001b[39m.\u001b[39mget(label_namer))\n",
      "File \u001b[1;32mc:\\Users\\Philip\\AppData\\Local\\Programs\\Python\\Python311\\Lib\\site-packages\\matplotlib\\axes\\_axes.py:4538\u001b[0m, in \u001b[0;36mAxes.scatter\u001b[1;34m(self, x, y, s, c, marker, cmap, norm, vmin, vmax, alpha, linewidths, edgecolors, plotnonfinite, **kwargs)\u001b[0m\n\u001b[0;32m   4535\u001b[0m \u001b[39mif\u001b[39;00m edgecolors \u001b[39mis\u001b[39;00m \u001b[39mNone\u001b[39;00m:\n\u001b[0;32m   4536\u001b[0m     orig_edgecolor \u001b[39m=\u001b[39m kwargs\u001b[39m.\u001b[39mget(\u001b[39m'\u001b[39m\u001b[39medgecolor\u001b[39m\u001b[39m'\u001b[39m, \u001b[39mNone\u001b[39;00m)\n\u001b[0;32m   4537\u001b[0m c, colors, edgecolors \u001b[39m=\u001b[39m \\\n\u001b[1;32m-> 4538\u001b[0m     \u001b[39mself\u001b[39;49m\u001b[39m.\u001b[39;49m_parse_scatter_color_args(\n\u001b[0;32m   4539\u001b[0m         c, edgecolors, kwargs, x\u001b[39m.\u001b[39;49msize,\n\u001b[0;32m   4540\u001b[0m         get_next_color_func\u001b[39m=\u001b[39;49m\u001b[39mself\u001b[39;49m\u001b[39m.\u001b[39;49m_get_patches_for_fill\u001b[39m.\u001b[39;49mget_next_color)\n\u001b[0;32m   4542\u001b[0m \u001b[39mif\u001b[39;00m plotnonfinite \u001b[39mand\u001b[39;00m colors \u001b[39mis\u001b[39;00m \u001b[39mNone\u001b[39;00m:\n\u001b[0;32m   4543\u001b[0m     c \u001b[39m=\u001b[39m np\u001b[39m.\u001b[39mma\u001b[39m.\u001b[39mmasked_invalid(c)\n",
      "File \u001b[1;32mc:\\Users\\Philip\\AppData\\Local\\Programs\\Python\\Python311\\Lib\\site-packages\\matplotlib\\axes\\_axes.py:4316\u001b[0m, in \u001b[0;36mAxes._parse_scatter_color_args\u001b[1;34m(c, edgecolors, kwargs, xsize, get_next_color_func)\u001b[0m\n\u001b[0;32m   4314\u001b[0m     mcolors\u001b[39m.\u001b[39mto_rgba_array(kwcolor)\n\u001b[0;32m   4315\u001b[0m \u001b[39mexcept\u001b[39;00m \u001b[39mValueError\u001b[39;00m \u001b[39mas\u001b[39;00m err:\n\u001b[1;32m-> 4316\u001b[0m     \u001b[39mraise\u001b[39;00m \u001b[39mValueError\u001b[39;00m(\n\u001b[0;32m   4317\u001b[0m         \u001b[39m\"\u001b[39m\u001b[39m'\u001b[39m\u001b[39mcolor\u001b[39m\u001b[39m'\u001b[39m\u001b[39m kwarg must be a color or sequence of color \u001b[39m\u001b[39m\"\u001b[39m\n\u001b[0;32m   4318\u001b[0m         \u001b[39m\"\u001b[39m\u001b[39mspecs.  For a sequence of values to be color-mapped, use \u001b[39m\u001b[39m\"\u001b[39m\n\u001b[0;32m   4319\u001b[0m         \u001b[39m\"\u001b[39m\u001b[39mthe \u001b[39m\u001b[39m'\u001b[39m\u001b[39mc\u001b[39m\u001b[39m'\u001b[39m\u001b[39m argument instead.\u001b[39m\u001b[39m\"\u001b[39m) \u001b[39mfrom\u001b[39;00m \u001b[39merr\u001b[39;00m\n\u001b[0;32m   4320\u001b[0m \u001b[39mif\u001b[39;00m edgecolors \u001b[39mis\u001b[39;00m \u001b[39mNone\u001b[39;00m:\n\u001b[0;32m   4321\u001b[0m     edgecolors \u001b[39m=\u001b[39m kwcolor\n",
      "\u001b[1;31mValueError\u001b[0m: 'color' kwarg must be a color or sequence of color specs.  For a sequence of values to be color-mapped, use the 'c' argument instead."
     ]
    },
    {
     "data": {
      "image/png": "[encoded data removed]",
      "text/plain": [
       "<Figure size 560x400 with 1 Axes>"
      ]
     },
     "metadata": {},
     "output_type": "display_data"
    }
   ],
   "source": [
    "plt.scatter(*tsne1.T, s=2, color = db.labels_)"
   ]
  },
  {
   "cell_type": "code",
   "execution_count": 67,
   "metadata": {},
   "outputs": [
    {
     "name": "stdout",
     "output_type": "stream",
     "text": [
      "<lightgbm.basic.Booster object at 0x000002B98F0AB5D0>\n"
     ]
    }
   ],
   "source": [
    "lgbm_reg_model = LGBMRegressor(**params2).fit(train[imp_keys2][train[\"Truth\"].values == 1], train[\"p_truth_E\"][train[\"Truth\"].values == 1].values)\n"
   ]
  },
  {
   "cell_type": "code",
   "execution_count": 68,
   "metadata": {},
   "outputs": [
    {
     "data": {
      "text/plain": [
       "array([[ 7.60738488e-02,  6.24435435e-01,  1.67445286e-03, ...,\n",
       "         0.00000000e+00,  4.97397535e-01,  1.34756876e-02],\n",
       "       [-1.12259315e-01, -1.07804525e+00,  2.72831929e-01, ...,\n",
       "         0.00000000e+00, -4.19248364e-02,  6.24068813e-01],\n",
       "       [ 1.08887822e+00, -2.23371930e-01, -2.80186721e-01, ...,\n",
       "         0.00000000e+00,  2.03826394e-01,  1.26885800e+00],\n",
       "       ...,\n",
       "       [-4.82124193e-01,  6.07888244e-01,  1.19206577e+00, ...,\n",
       "         0.00000000e+00,  5.08322766e-01, -4.31850725e-01],\n",
       "       [-4.50487388e-01,  3.01350813e-01, -2.71452031e+00, ...,\n",
       "         0.00000000e+00, -1.13322571e+00, -4.16456058e-01],\n",
       "       [ 2.59883003e+00, -5.46137683e-01,  1.59466679e-01, ...,\n",
       "         0.00000000e+00, -1.27192104e+00,  5.42857541e-01]])"
      ]
     },
     "execution_count": 68,
     "metadata": {},
     "output_type": "execute_result"
    }
   ],
   "source": [
    "preprocessing.RobustScaler().fit_transform(train[use_keys])"
   ]
  },
  {
   "cell_type": "code",
   "execution_count": 72,
   "metadata": {},
   "outputs": [
    {
     "name": "stdout",
     "output_type": "stream",
     "text": [
      "Epoch 1/100\n",
      "65/65 [==============================] - 3s 31ms/step - loss: 0.5656 - accuracy: 0.7477 - val_loss: 0.5656 - val_accuracy: 0.7477\n",
      "Epoch 2/100\n",
      "65/65 [==============================] - 2s 23ms/step - loss: 0.5656 - accuracy: 0.7477 - val_loss: 0.5656 - val_accuracy: 0.7477\n",
      "Epoch 3/100\n",
      "65/65 [==============================] - 2s 26ms/step - loss: 0.5656 - accuracy: 0.7477 - val_loss: 0.5656 - val_accuracy: 0.7477\n",
      "Epoch 4/100\n",
      "65/65 [==============================] - 2s 24ms/step - loss: 0.5656 - accuracy: 0.7477 - val_loss: 0.5656 - val_accuracy: 0.7477\n",
      "Epoch 5/100\n",
      "65/65 [==============================] - 2s 25ms/step - loss: 0.5656 - accuracy: 0.7477 - val_loss: 0.5656 - val_accuracy: 0.7477\n",
      "Epoch 6/100\n",
      "65/65 [==============================] - 2s 26ms/step - loss: 0.5656 - accuracy: 0.7477 - val_loss: 0.5656 - val_accuracy: 0.7477\n",
      "Epoch 7/100\n",
      "65/65 [==============================] - 1s 23ms/step - loss: 0.5656 - accuracy: 0.7477 - val_loss: 0.5656 - val_accuracy: 0.7477\n",
      "Epoch 8/100\n",
      "65/65 [==============================] - 2s 24ms/step - loss: 0.5656 - accuracy: 0.7477 - val_loss: 0.5656 - val_accuracy: 0.7477\n",
      "Epoch 9/100\n",
      "65/65 [==============================] - 2s 29ms/step - loss: 0.5656 - accuracy: 0.7477 - val_loss: 0.5656 - val_accuracy: 0.7477\n",
      "Epoch 10/100\n",
      "65/65 [==============================] - 3s 39ms/step - loss: 0.5656 - accuracy: 0.7477 - val_loss: 0.5656 - val_accuracy: 0.7477\n",
      "Epoch 11/100\n",
      "65/65 [==============================] - 2s 36ms/step - loss: 0.5656 - accuracy: 0.7477 - val_loss: 0.5656 - val_accuracy: 0.7477\n",
      "Epoch 12/100\n",
      "65/65 [==============================] - 2s 30ms/step - loss: 0.5656 - accuracy: 0.7477 - val_loss: 0.5656 - val_accuracy: 0.7477\n",
      "Epoch 13/100\n",
      "65/65 [==============================] - 2s 34ms/step - loss: 0.5656 - accuracy: 0.7477 - val_loss: 0.5656 - val_accuracy: 0.7477\n",
      "Epoch 14/100\n",
      "65/65 [==============================] - 2s 39ms/step - loss: 0.5656 - accuracy: 0.7477 - val_loss: 0.5656 - val_accuracy: 0.7477\n",
      "Epoch 15/100\n",
      "65/65 [==============================] - 2s 36ms/step - loss: 0.5656 - accuracy: 0.7477 - val_loss: 0.5656 - val_accuracy: 0.7477\n",
      "Epoch 16/100\n",
      "65/65 [==============================] - 2s 37ms/step - loss: 0.5656 - accuracy: 0.7477 - val_loss: 0.5656 - val_accuracy: 0.7477\n",
      "Epoch 17/100\n",
      "65/65 [==============================] - 2s 36ms/step - loss: 0.5656 - accuracy: 0.7477 - val_loss: 0.5656 - val_accuracy: 0.7477\n",
      "Epoch 18/100\n",
      "65/65 [==============================] - 2s 34ms/step - loss: 0.5656 - accuracy: 0.7477 - val_loss: 0.5656 - val_accuracy: 0.7477\n",
      "Epoch 19/100\n",
      "65/65 [==============================] - 2s 32ms/step - loss: 0.5656 - accuracy: 0.7477 - val_loss: 0.5656 - val_accuracy: 0.7477\n",
      "Epoch 20/100\n",
      "65/65 [==============================] - 2s 29ms/step - loss: 0.5656 - accuracy: 0.7477 - val_loss: 0.5656 - val_accuracy: 0.7477\n",
      "Epoch 21/100\n",
      "65/65 [==============================] - 2s 23ms/step - loss: 0.5656 - accuracy: 0.7477 - val_loss: 0.5656 - val_accuracy: 0.7477\n",
      "Epoch 22/100\n",
      "65/65 [==============================] - 2s 23ms/step - loss: 0.5656 - accuracy: 0.7477 - val_loss: 0.5656 - val_accuracy: 0.7477\n",
      "Epoch 23/100\n",
      "65/65 [==============================] - 2s 24ms/step - loss: 0.5656 - accuracy: 0.7477 - val_loss: 0.5656 - val_accuracy: 0.7477\n",
      "Epoch 24/100\n",
      "65/65 [==============================] - 2s 23ms/step - loss: 0.5656 - accuracy: 0.7477 - val_loss: 0.5656 - val_accuracy: 0.7477\n",
      "Epoch 25/100\n",
      "65/65 [==============================] - 2s 24ms/step - loss: 0.5656 - accuracy: 0.7477 - val_loss: 0.5656 - val_accuracy: 0.7477\n",
      "Epoch 26/100\n",
      "65/65 [==============================] - 2s 23ms/step - loss: 0.5656 - accuracy: 0.7477 - val_loss: 0.5656 - val_accuracy: 0.7477\n",
      "Epoch 27/100\n",
      "65/65 [==============================] - 2s 23ms/step - loss: 0.5656 - accuracy: 0.7477 - val_loss: 0.5656 - val_accuracy: 0.7477\n",
      "Epoch 28/100\n",
      "65/65 [==============================] - 2s 23ms/step - loss: 0.5656 - accuracy: 0.7477 - val_loss: 0.5656 - val_accuracy: 0.7477\n",
      "Epoch 29/100\n",
      "65/65 [==============================] - 2s 24ms/step - loss: 0.5656 - accuracy: 0.7477 - val_loss: 0.5656 - val_accuracy: 0.7477\n",
      "Epoch 30/100\n",
      "65/65 [==============================] - 2s 23ms/step - loss: 0.5656 - accuracy: 0.7477 - val_loss: 0.5656 - val_accuracy: 0.7477\n",
      "Epoch 31/100\n",
      "65/65 [==============================] - 2s 23ms/step - loss: 0.5656 - accuracy: 0.7477 - val_loss: 0.5656 - val_accuracy: 0.7477\n",
      "Epoch 32/100\n",
      "65/65 [==============================] - 1s 23ms/step - loss: 0.5656 - accuracy: 0.7477 - val_loss: 0.5656 - val_accuracy: 0.7477\n",
      "Epoch 33/100\n",
      "65/65 [==============================] - 2s 23ms/step - loss: 0.5656 - accuracy: 0.7477 - val_loss: 0.5656 - val_accuracy: 0.7477\n",
      "Epoch 34/100\n",
      "65/65 [==============================] - 2s 24ms/step - loss: 0.5656 - accuracy: 0.7477 - val_loss: 0.5656 - val_accuracy: 0.7477\n",
      "Epoch 35/100\n",
      "65/65 [==============================] - 1s 23ms/step - loss: 0.5656 - accuracy: 0.7477 - val_loss: 0.5656 - val_accuracy: 0.7477\n",
      "Epoch 36/100\n",
      "65/65 [==============================] - 2s 23ms/step - loss: 0.5656 - accuracy: 0.7477 - val_loss: 0.5656 - val_accuracy: 0.7477\n",
      "Epoch 37/100\n",
      "65/65 [==============================] - 2s 23ms/step - loss: 0.5656 - accuracy: 0.7477 - val_loss: 0.5656 - val_accuracy: 0.7477\n",
      "Epoch 38/100\n",
      "65/65 [==============================] - 1s 23ms/step - loss: 0.5656 - accuracy: 0.7477 - val_loss: 0.5656 - val_accuracy: 0.7477\n",
      "Epoch 39/100\n",
      "65/65 [==============================] - 2s 24ms/step - loss: 0.5656 - accuracy: 0.7477 - val_loss: 0.5656 - val_accuracy: 0.7477\n",
      "Epoch 40/100\n",
      "65/65 [==============================] - 1s 23ms/step - loss: 0.5656 - accuracy: 0.7477 - val_loss: 0.5656 - val_accuracy: 0.7477\n",
      "Epoch 41/100\n",
      "65/65 [==============================] - 1s 23ms/step - loss: 0.5656 - accuracy: 0.7477 - val_loss: 0.5656 - val_accuracy: 0.7477\n",
      "Epoch 42/100\n",
      "65/65 [==============================] - 2s 23ms/step - loss: 0.5656 - accuracy: 0.7477 - val_loss: 0.5656 - val_accuracy: 0.7477\n",
      "Epoch 43/100\n",
      "65/65 [==============================] - 2s 23ms/step - loss: 0.5656 - accuracy: 0.7477 - val_loss: 0.5656 - val_accuracy: 0.7477\n",
      "Epoch 44/100\n",
      "65/65 [==============================] - 2s 27ms/step - loss: 0.5656 - accuracy: 0.7477 - val_loss: 0.5656 - val_accuracy: 0.7477\n",
      "Epoch 45/100\n",
      "65/65 [==============================] - 2s 26ms/step - loss: 0.5656 - accuracy: 0.7477 - val_loss: 0.5656 - val_accuracy: 0.7477\n",
      "Epoch 46/100\n",
      "65/65 [==============================] - 2s 25ms/step - loss: 0.5656 - accuracy: 0.7477 - val_loss: 0.5656 - val_accuracy: 0.7477\n",
      "Epoch 47/100\n",
      "65/65 [==============================] - 2s 23ms/step - loss: 0.5656 - accuracy: 0.7477 - val_loss: 0.5656 - val_accuracy: 0.7477\n",
      "Epoch 48/100\n",
      "65/65 [==============================] - 2s 32ms/step - loss: 0.5656 - accuracy: 0.7477 - val_loss: 0.5656 - val_accuracy: 0.7477\n",
      "Epoch 49/100\n",
      "32/65 [=============>................] - ETA: 0s - loss: 0.5638 - accuracy: 0.7494"
     ]
    },
    {
     "ename": "KeyboardInterrupt",
     "evalue": "",
     "output_type": "error",
     "traceback": [
      "\u001b[1;31m---------------------------------------------------------------------------\u001b[0m",
      "\u001b[1;31mKeyboardInterrupt\u001b[0m                         Traceback (most recent call last)",
      "Cell \u001b[1;32mIn[72], line 31\u001b[0m\n\u001b[0;32m     29\u001b[0m batch_size \u001b[39m=\u001b[39m \u001b[39m2000\u001b[39m\n\u001b[0;32m     30\u001b[0m X_train, X_test, y_train, y_test \u001b[39m=\u001b[39m train_test_split(preprocessing\u001b[39m.\u001b[39mStandardScaler()\u001b[39m.\u001b[39mfit_transform(train[use_keys]), train[\u001b[39m\"\u001b[39m\u001b[39mTruth\u001b[39m\u001b[39m\"\u001b[39m]\u001b[39m.\u001b[39mvalues, test_size\u001b[39m=\u001b[39m\u001b[39m0.2\u001b[39m, random_state\u001b[39m=\u001b[39m\u001b[39m42\u001b[39m)\n\u001b[1;32m---> 31\u001b[0m history \u001b[39m=\u001b[39m nn_reg\u001b[39m.\u001b[39;49mfit(X_train, y_train, epochs\u001b[39m=\u001b[39;49mn_epochs, batch_size\u001b[39m=\u001b[39;49mbatch_size,\n\u001b[0;32m     32\u001b[0m                     validation_data\u001b[39m=\u001b[39;49m(X_test, y_test))\n",
      "File \u001b[1;32m~\\AppData\\Roaming\\Python\\Python311\\site-packages\\keras\\utils\\traceback_utils.py:65\u001b[0m, in \u001b[0;36mfilter_traceback.<locals>.error_handler\u001b[1;34m(*args, **kwargs)\u001b[0m\n\u001b[0;32m     63\u001b[0m filtered_tb \u001b[39m=\u001b[39m \u001b[39mNone\u001b[39;00m\n\u001b[0;32m     64\u001b[0m \u001b[39mtry\u001b[39;00m:\n\u001b[1;32m---> 65\u001b[0m     \u001b[39mreturn\u001b[39;00m fn(\u001b[39m*\u001b[39;49margs, \u001b[39m*\u001b[39;49m\u001b[39m*\u001b[39;49mkwargs)\n\u001b[0;32m     66\u001b[0m \u001b[39mexcept\u001b[39;00m \u001b[39mException\u001b[39;00m \u001b[39mas\u001b[39;00m e:\n\u001b[0;32m     67\u001b[0m     filtered_tb \u001b[39m=\u001b[39m _process_traceback_frames(e\u001b[39m.\u001b[39m__traceback__)\n",
      "File \u001b[1;32m~\\AppData\\Roaming\\Python\\Python311\\site-packages\\keras\\engine\\training.py:1685\u001b[0m, in \u001b[0;36mModel.fit\u001b[1;34m(self, x, y, batch_size, epochs, verbose, callbacks, validation_split, validation_data, shuffle, class_weight, sample_weight, initial_epoch, steps_per_epoch, validation_steps, validation_batch_size, validation_freq, max_queue_size, workers, use_multiprocessing)\u001b[0m\n\u001b[0;32m   1677\u001b[0m \u001b[39mwith\u001b[39;00m tf\u001b[39m.\u001b[39mprofiler\u001b[39m.\u001b[39mexperimental\u001b[39m.\u001b[39mTrace(\n\u001b[0;32m   1678\u001b[0m     \u001b[39m\"\u001b[39m\u001b[39mtrain\u001b[39m\u001b[39m\"\u001b[39m,\n\u001b[0;32m   1679\u001b[0m     epoch_num\u001b[39m=\u001b[39mepoch,\n\u001b[1;32m   (...)\u001b[0m\n\u001b[0;32m   1682\u001b[0m     _r\u001b[39m=\u001b[39m\u001b[39m1\u001b[39m,\n\u001b[0;32m   1683\u001b[0m ):\n\u001b[0;32m   1684\u001b[0m     callbacks\u001b[39m.\u001b[39mon_train_batch_begin(step)\n\u001b[1;32m-> 1685\u001b[0m     tmp_logs \u001b[39m=\u001b[39m \u001b[39mself\u001b[39;49m\u001b[39m.\u001b[39;49mtrain_function(iterator)\n\u001b[0;32m   1686\u001b[0m     \u001b[39mif\u001b[39;00m data_handler\u001b[39m.\u001b[39mshould_sync:\n\u001b[0;32m   1687\u001b[0m         context\u001b[39m.\u001b[39masync_wait()\n",
      "File \u001b[1;32m~\\AppData\\Roaming\\Python\\Python311\\site-packages\\tensorflow\\python\\util\\traceback_utils.py:150\u001b[0m, in \u001b[0;36mfilter_traceback.<locals>.error_handler\u001b[1;34m(*args, **kwargs)\u001b[0m\n\u001b[0;32m    148\u001b[0m filtered_tb \u001b[39m=\u001b[39m \u001b[39mNone\u001b[39;00m\n\u001b[0;32m    149\u001b[0m \u001b[39mtry\u001b[39;00m:\n\u001b[1;32m--> 150\u001b[0m   \u001b[39mreturn\u001b[39;00m fn(\u001b[39m*\u001b[39;49margs, \u001b[39m*\u001b[39;49m\u001b[39m*\u001b[39;49mkwargs)\n\u001b[0;32m    151\u001b[0m \u001b[39mexcept\u001b[39;00m \u001b[39mException\u001b[39;00m \u001b[39mas\u001b[39;00m e:\n\u001b[0;32m    152\u001b[0m   filtered_tb \u001b[39m=\u001b[39m _process_traceback_frames(e\u001b[39m.\u001b[39m__traceback__)\n",
      "File \u001b[1;32m~\\AppData\\Roaming\\Python\\Python311\\site-packages\\tensorflow\\python\\eager\\polymorphic_function\\polymorphic_function.py:894\u001b[0m, in \u001b[0;36mFunction.__call__\u001b[1;34m(self, *args, **kwds)\u001b[0m\n\u001b[0;32m    891\u001b[0m compiler \u001b[39m=\u001b[39m \u001b[39m\"\u001b[39m\u001b[39mxla\u001b[39m\u001b[39m\"\u001b[39m \u001b[39mif\u001b[39;00m \u001b[39mself\u001b[39m\u001b[39m.\u001b[39m_jit_compile \u001b[39melse\u001b[39;00m \u001b[39m\"\u001b[39m\u001b[39mnonXla\u001b[39m\u001b[39m\"\u001b[39m\n\u001b[0;32m    893\u001b[0m \u001b[39mwith\u001b[39;00m OptionalXlaContext(\u001b[39mself\u001b[39m\u001b[39m.\u001b[39m_jit_compile):\n\u001b[1;32m--> 894\u001b[0m   result \u001b[39m=\u001b[39m \u001b[39mself\u001b[39;49m\u001b[39m.\u001b[39;49m_call(\u001b[39m*\u001b[39;49margs, \u001b[39m*\u001b[39;49m\u001b[39m*\u001b[39;49mkwds)\n\u001b[0;32m    896\u001b[0m new_tracing_count \u001b[39m=\u001b[39m \u001b[39mself\u001b[39m\u001b[39m.\u001b[39mexperimental_get_tracing_count()\n\u001b[0;32m    897\u001b[0m without_tracing \u001b[39m=\u001b[39m (tracing_count \u001b[39m==\u001b[39m new_tracing_count)\n",
      "File \u001b[1;32m~\\AppData\\Roaming\\Python\\Python311\\site-packages\\tensorflow\\python\\eager\\polymorphic_function\\polymorphic_function.py:926\u001b[0m, in \u001b[0;36mFunction._call\u001b[1;34m(self, *args, **kwds)\u001b[0m\n\u001b[0;32m    923\u001b[0m   \u001b[39mself\u001b[39m\u001b[39m.\u001b[39m_lock\u001b[39m.\u001b[39mrelease()\n\u001b[0;32m    924\u001b[0m   \u001b[39m# In this case we have created variables on the first call, so we run the\u001b[39;00m\n\u001b[0;32m    925\u001b[0m   \u001b[39m# defunned version which is guaranteed to never create variables.\u001b[39;00m\n\u001b[1;32m--> 926\u001b[0m   \u001b[39mreturn\u001b[39;00m \u001b[39mself\u001b[39;49m\u001b[39m.\u001b[39;49m_no_variable_creation_fn(\u001b[39m*\u001b[39;49margs, \u001b[39m*\u001b[39;49m\u001b[39m*\u001b[39;49mkwds)  \u001b[39m# pylint: disable=not-callable\u001b[39;00m\n\u001b[0;32m    927\u001b[0m \u001b[39melif\u001b[39;00m \u001b[39mself\u001b[39m\u001b[39m.\u001b[39m_variable_creation_fn \u001b[39mis\u001b[39;00m \u001b[39mnot\u001b[39;00m \u001b[39mNone\u001b[39;00m:\n\u001b[0;32m    928\u001b[0m   \u001b[39m# Release the lock early so that multiple threads can perform the call\u001b[39;00m\n\u001b[0;32m    929\u001b[0m   \u001b[39m# in parallel.\u001b[39;00m\n\u001b[0;32m    930\u001b[0m   \u001b[39mself\u001b[39m\u001b[39m.\u001b[39m_lock\u001b[39m.\u001b[39mrelease()\n",
      "File \u001b[1;32m~\\AppData\\Roaming\\Python\\Python311\\site-packages\\tensorflow\\python\\eager\\polymorphic_function\\tracing_compiler.py:143\u001b[0m, in \u001b[0;36mTracingCompiler.__call__\u001b[1;34m(self, *args, **kwargs)\u001b[0m\n\u001b[0;32m    140\u001b[0m \u001b[39mwith\u001b[39;00m \u001b[39mself\u001b[39m\u001b[39m.\u001b[39m_lock:\n\u001b[0;32m    141\u001b[0m   (concrete_function,\n\u001b[0;32m    142\u001b[0m    filtered_flat_args) \u001b[39m=\u001b[39m \u001b[39mself\u001b[39m\u001b[39m.\u001b[39m_maybe_define_function(args, kwargs)\n\u001b[1;32m--> 143\u001b[0m \u001b[39mreturn\u001b[39;00m concrete_function\u001b[39m.\u001b[39;49m_call_flat(\n\u001b[0;32m    144\u001b[0m     filtered_flat_args, captured_inputs\u001b[39m=\u001b[39;49mconcrete_function\u001b[39m.\u001b[39;49mcaptured_inputs)\n",
      "File \u001b[1;32m~\\AppData\\Roaming\\Python\\Python311\\site-packages\\tensorflow\\python\\eager\\polymorphic_function\\monomorphic_function.py:1757\u001b[0m, in \u001b[0;36mConcreteFunction._call_flat\u001b[1;34m(self, args, captured_inputs, cancellation_manager)\u001b[0m\n\u001b[0;32m   1753\u001b[0m possible_gradient_type \u001b[39m=\u001b[39m gradients_util\u001b[39m.\u001b[39mPossibleTapeGradientTypes(args)\n\u001b[0;32m   1754\u001b[0m \u001b[39mif\u001b[39;00m (possible_gradient_type \u001b[39m==\u001b[39m gradients_util\u001b[39m.\u001b[39mPOSSIBLE_GRADIENT_TYPES_NONE\n\u001b[0;32m   1755\u001b[0m     \u001b[39mand\u001b[39;00m executing_eagerly):\n\u001b[0;32m   1756\u001b[0m   \u001b[39m# No tape is watching; skip to running the function.\u001b[39;00m\n\u001b[1;32m-> 1757\u001b[0m   \u001b[39mreturn\u001b[39;00m \u001b[39mself\u001b[39m\u001b[39m.\u001b[39m_build_call_outputs(\u001b[39mself\u001b[39;49m\u001b[39m.\u001b[39;49m_inference_function\u001b[39m.\u001b[39;49mcall(\n\u001b[0;32m   1758\u001b[0m       ctx, args, cancellation_manager\u001b[39m=\u001b[39;49mcancellation_manager))\n\u001b[0;32m   1759\u001b[0m forward_backward \u001b[39m=\u001b[39m \u001b[39mself\u001b[39m\u001b[39m.\u001b[39m_select_forward_and_backward_functions(\n\u001b[0;32m   1760\u001b[0m     args,\n\u001b[0;32m   1761\u001b[0m     possible_gradient_type,\n\u001b[0;32m   1762\u001b[0m     executing_eagerly)\n\u001b[0;32m   1763\u001b[0m forward_function, args_with_tangents \u001b[39m=\u001b[39m forward_backward\u001b[39m.\u001b[39mforward()\n",
      "File \u001b[1;32m~\\AppData\\Roaming\\Python\\Python311\\site-packages\\tensorflow\\python\\eager\\polymorphic_function\\monomorphic_function.py:381\u001b[0m, in \u001b[0;36m_EagerDefinedFunction.call\u001b[1;34m(self, ctx, args, cancellation_manager)\u001b[0m\n\u001b[0;32m    379\u001b[0m \u001b[39mwith\u001b[39;00m _InterpolateFunctionError(\u001b[39mself\u001b[39m):\n\u001b[0;32m    380\u001b[0m   \u001b[39mif\u001b[39;00m cancellation_manager \u001b[39mis\u001b[39;00m \u001b[39mNone\u001b[39;00m:\n\u001b[1;32m--> 381\u001b[0m     outputs \u001b[39m=\u001b[39m execute\u001b[39m.\u001b[39;49mexecute(\n\u001b[0;32m    382\u001b[0m         \u001b[39mstr\u001b[39;49m(\u001b[39mself\u001b[39;49m\u001b[39m.\u001b[39;49msignature\u001b[39m.\u001b[39;49mname),\n\u001b[0;32m    383\u001b[0m         num_outputs\u001b[39m=\u001b[39;49m\u001b[39mself\u001b[39;49m\u001b[39m.\u001b[39;49m_num_outputs,\n\u001b[0;32m    384\u001b[0m         inputs\u001b[39m=\u001b[39;49margs,\n\u001b[0;32m    385\u001b[0m         attrs\u001b[39m=\u001b[39;49mattrs,\n\u001b[0;32m    386\u001b[0m         ctx\u001b[39m=\u001b[39;49mctx)\n\u001b[0;32m    387\u001b[0m   \u001b[39melse\u001b[39;00m:\n\u001b[0;32m    388\u001b[0m     outputs \u001b[39m=\u001b[39m execute\u001b[39m.\u001b[39mexecute_with_cancellation(\n\u001b[0;32m    389\u001b[0m         \u001b[39mstr\u001b[39m(\u001b[39mself\u001b[39m\u001b[39m.\u001b[39msignature\u001b[39m.\u001b[39mname),\n\u001b[0;32m    390\u001b[0m         num_outputs\u001b[39m=\u001b[39m\u001b[39mself\u001b[39m\u001b[39m.\u001b[39m_num_outputs,\n\u001b[1;32m   (...)\u001b[0m\n\u001b[0;32m    393\u001b[0m         ctx\u001b[39m=\u001b[39mctx,\n\u001b[0;32m    394\u001b[0m         cancellation_manager\u001b[39m=\u001b[39mcancellation_manager)\n",
      "File \u001b[1;32m~\\AppData\\Roaming\\Python\\Python311\\site-packages\\tensorflow\\python\\eager\\execute.py:52\u001b[0m, in \u001b[0;36mquick_execute\u001b[1;34m(op_name, num_outputs, inputs, attrs, ctx, name)\u001b[0m\n\u001b[0;32m     50\u001b[0m \u001b[39mtry\u001b[39;00m:\n\u001b[0;32m     51\u001b[0m   ctx\u001b[39m.\u001b[39mensure_initialized()\n\u001b[1;32m---> 52\u001b[0m   tensors \u001b[39m=\u001b[39m pywrap_tfe\u001b[39m.\u001b[39;49mTFE_Py_Execute(ctx\u001b[39m.\u001b[39;49m_handle, device_name, op_name,\n\u001b[0;32m     53\u001b[0m                                       inputs, attrs, num_outputs)\n\u001b[0;32m     54\u001b[0m \u001b[39mexcept\u001b[39;00m core\u001b[39m.\u001b[39m_NotOkStatusException \u001b[39mas\u001b[39;00m e:\n\u001b[0;32m     55\u001b[0m   \u001b[39mif\u001b[39;00m name \u001b[39mis\u001b[39;00m \u001b[39mnot\u001b[39;00m \u001b[39mNone\u001b[39;00m:\n",
      "\u001b[1;31mKeyboardInterrupt\u001b[0m: "
     ]
    }
   ],
   "source": [
    "from tensorflow.keras.layers import Input, BatchNormalization, Dense\n",
    "from tensorflow.keras.optimizers.experimental import SGD\n",
    "n_inputs = 15\n",
    "n_hidden1 = 300\n",
    "n_hidden2 = 200\n",
    "n_hidden3 = 100\n",
    "n_outputs = 1\n",
    "batch_norm_momentum = 0.9\n",
    "learning_rate = 0.1\n",
    "init = tf.keras.initializers.VarianceScaling(scale=1.0, mode='fan_in')\n",
    "centropy = tf.keras.losses.SparseCategoricalCrossentropy(from_logits=True)\n",
    "\n",
    "# network structure\n",
    "nn_reg = tf.keras.models.Sequential([\n",
    "  Dense(n_inputs),\n",
    "  BatchNormalization(),\n",
    "  Dense(n_hidden1, activation =tf.nn.relu),\n",
    "  BatchNormalization(),\n",
    "  Dense(n_hidden2, activation =tf.nn.relu),\n",
    "  BatchNormalization(),\n",
    "  Dense(n_outputs, activation =tf.nn.softmax),\n",
    "])\n",
    "\n",
    "nn_reg.compile(loss=tf.keras.losses.BinaryCrossentropy(from_logits=True), optimizer=SGD(), metrics=['accuracy'])\n",
    "\n",
    "use_keys = [\"p_sigmad0\", \"p_deltaEta1\", \"p_deltaPhiRescaled2\", \"p_ptconecoreTrackPtrCorrection\", \"p_Rphi\", \"p_Reta\", \"p_ethad\", \"p_nTracks\", \"p_E7x11_Lr3\", \"p_numberOfPixelHits\", \"p_deltaPhiFromLastMeasurement\", \"p_d0\", \"p_ambiguityType\", \"p_d0Sig\", \"p_dPOverP\"]\n",
    "\n",
    "n_epochs = 100\n",
    "batch_size = 2000\n",
    "X_train, X_test, y_train, y_test = train_test_split(preprocessing.StandardScaler().fit_transform(train[use_keys]), train[\"Truth\"].values, test_size=0.2, random_state=42)\n",
    "history = nn_reg.fit(X_train, y_train, epochs=n_epochs, batch_size=batch_size,\n",
    "                    validation_data=(X_test, y_test))"
   ]
  },
  {
   "cell_type": "code",
   "execution_count": null,
   "metadata": {},
   "outputs": [],
   "source": []
  },
  {
   "cell_type": "code",
   "execution_count": 52,
   "metadata": {},
   "outputs": [
    {
     "name": "stdout",
     "output_type": "stream",
     "text": [
      "5021/5021 [==============================] - 6s 1ms/step\n"
     ]
    }
   ],
   "source": [
    "final_pred = nn_reg.predict(final_test[use_keys])"
   ]
  },
  {
   "cell_type": "code",
   "execution_count": 53,
   "metadata": {},
   "outputs": [
    {
     "name": "stdout",
     "output_type": "stream",
     "text": [
      "[[1.]\n",
      " [1.]\n",
      " [1.]\n",
      " ...\n",
      " [1.]\n",
      " [1.]\n",
      " [1.]]\n"
     ]
    }
   ],
   "source": [
    "print(final_pred)"
   ]
  },
  {
   "cell_type": "code",
   "execution_count": 23,
   "metadata": {},
   "outputs": [],
   "source": [
    "with open(\"./top_25_lgbm.txt\", \"w\") as f:\n",
    "    f.write(str(imp_keys2[:25]))"
   ]
  },
  {
   "cell_type": "code",
   "execution_count": 4,
   "metadata": {},
   "outputs": [],
   "source": [
    "with open(\"./top_25_lgbm.txt\", \"r\") as f:\n",
    "    for line in f:\n",
    "        imp_keys2 = line\n"
   ]
  },
  {
   "cell_type": "code",
   "execution_count": 14,
   "metadata": {},
   "outputs": [],
   "source": [
    "imp_keys2 = ['p_sigmad0', 'p_deltaEta1', 'p_deltaPhiRescaled2', 'p_ptconecoreTrackPtrCorrection', 'p_Rphi', 'p_Reta', 'p_ethad', 'p_nTracks', 'p_E7x11_Lr3', 'p_numberOfPixelHits', 'p_deltaPhiFromLastMeasurement', 'p_d0', 'p_ambiguityType', 'p_d0Sig', 'p_dPOverP', 'p_Rhad', 'p_numberOfSCTHits', 'p_numberOfInnermostPixelHits', 'p_EptRatio', 'p_Rhad1', 'p_E_Lr2_HiG', 'p_TRTPID', 'p_deltaPhi2', 'p_e2tsts1', 'NvtxReco']"
   ]
  },
  {
   "cell_type": "code",
   "execution_count": 15,
   "metadata": {},
   "outputs": [
    {
     "name": "stdout",
     "output_type": "stream",
     "text": [
      "|   iter    |  target   | min_ch... | num_le... |\n",
      "-------------------------------------------------\n",
      "| \u001b[0m1        \u001b[0m | \u001b[0m0.978    \u001b[0m | \u001b[0m412.4    \u001b[0m | \u001b[0m287.7    \u001b[0m |\n",
      "| \u001b[95m2        \u001b[0m | \u001b[95m0.9781   \u001b[0m | \u001b[95m519.6    \u001b[0m | \u001b[95m199.7    \u001b[0m |\n",
      "| \u001b[95m3        \u001b[0m | \u001b[95m0.9782   \u001b[0m | \u001b[95m346.8    \u001b[0m | \u001b[95m89.0     \u001b[0m |\n",
      "| \u001b[0m4        \u001b[0m | \u001b[0m0.9778   \u001b[0m | \u001b[0m317.4    \u001b[0m | \u001b[0m266.5    \u001b[0m |\n",
      "| \u001b[0m5        \u001b[0m | \u001b[0m0.9781   \u001b[0m | \u001b[0m480.3    \u001b[0m | \u001b[0m227.0    \u001b[0m |\n",
      "| \u001b[0m6        \u001b[0m | \u001b[0m0.978    \u001b[0m | \u001b[0m435.4    \u001b[0m | \u001b[0m51.01    \u001b[0m |\n",
      "| \u001b[0m7        \u001b[0m | \u001b[0m0.9782   \u001b[0m | \u001b[0m348.4    \u001b[0m | \u001b[0m89.21    \u001b[0m |\n",
      "| \u001b[0m8        \u001b[0m | \u001b[0m0.9782   \u001b[0m | \u001b[0m338.7    \u001b[0m | \u001b[0m93.01    \u001b[0m |\n",
      "| \u001b[0m9        \u001b[0m | \u001b[0m0.9782   \u001b[0m | \u001b[0m342.5    \u001b[0m | \u001b[0m80.42    \u001b[0m |\n",
      "| \u001b[0m10       \u001b[0m | \u001b[0m0.9781   \u001b[0m | \u001b[0m327.7    \u001b[0m | \u001b[0m77.58    \u001b[0m |\n",
      "| \u001b[0m11       \u001b[0m | \u001b[0m0.9781   \u001b[0m | \u001b[0m343.8    \u001b[0m | \u001b[0m64.77    \u001b[0m |\n",
      "| \u001b[0m12       \u001b[0m | \u001b[0m0.978    \u001b[0m | \u001b[0m326.5    \u001b[0m | \u001b[0m53.93    \u001b[0m |\n",
      "| \u001b[0m13       \u001b[0m | \u001b[0m0.9781   \u001b[0m | \u001b[0m357.0    \u001b[0m | \u001b[0m71.54    \u001b[0m |\n",
      "| \u001b[0m14       \u001b[0m | \u001b[0m0.9781   \u001b[0m | \u001b[0m311.2    \u001b[0m | \u001b[0m89.53    \u001b[0m |\n",
      "| \u001b[0m15       \u001b[0m | \u001b[0m0.9781   \u001b[0m | \u001b[0m304.3    \u001b[0m | \u001b[0m109.0    \u001b[0m |\n",
      "| \u001b[0m16       \u001b[0m | \u001b[0m0.9781   \u001b[0m | \u001b[0m301.9    \u001b[0m | \u001b[0m73.99    \u001b[0m |\n",
      "| \u001b[0m17       \u001b[0m | \u001b[0m0.9782   \u001b[0m | \u001b[0m336.5    \u001b[0m | \u001b[0m85.77    \u001b[0m |\n",
      "| \u001b[0m18       \u001b[0m | \u001b[0m0.9782   \u001b[0m | \u001b[0m594.2    \u001b[0m | \u001b[0m56.76    \u001b[0m |\n",
      "| \u001b[0m19       \u001b[0m | \u001b[0m0.9781   \u001b[0m | \u001b[0m588.5    \u001b[0m | \u001b[0m73.14    \u001b[0m |\n",
      "| \u001b[0m20       \u001b[0m | \u001b[0m0.9781   \u001b[0m | \u001b[0m576.5    \u001b[0m | \u001b[0m54.08    \u001b[0m |\n",
      "| \u001b[0m21       \u001b[0m | \u001b[0m0.9781   \u001b[0m | \u001b[0m554.6    \u001b[0m | \u001b[0m52.94    \u001b[0m |\n",
      "| \u001b[0m22       \u001b[0m | \u001b[0m0.9781   \u001b[0m | \u001b[0m598.3    \u001b[0m | \u001b[0m299.9    \u001b[0m |\n",
      "| \u001b[0m23       \u001b[0m | \u001b[0m0.9781   \u001b[0m | \u001b[0m391.1    \u001b[0m | \u001b[0m181.5    \u001b[0m |\n",
      "| \u001b[0m24       \u001b[0m | \u001b[0m0.9781   \u001b[0m | \u001b[0m599.9    \u001b[0m | \u001b[0m157.1    \u001b[0m |\n",
      "| \u001b[0m25       \u001b[0m | \u001b[0m0.9782   \u001b[0m | \u001b[0m343.1    \u001b[0m | \u001b[0m86.07    \u001b[0m |\n",
      "| \u001b[0m26       \u001b[0m | \u001b[0m0.9782   \u001b[0m | \u001b[0m338.3    \u001b[0m | \u001b[0m78.33    \u001b[0m |\n",
      "| \u001b[0m27       \u001b[0m | \u001b[0m0.9781   \u001b[0m | \u001b[0m344.6    \u001b[0m | \u001b[0m93.15    \u001b[0m |\n",
      "| \u001b[95m28       \u001b[0m | \u001b[95m0.9782   \u001b[0m | \u001b[95m333.2    \u001b[0m | \u001b[95m88.69    \u001b[0m |\n",
      "| \u001b[0m29       \u001b[0m | \u001b[0m0.9781   \u001b[0m | \u001b[0m345.6    \u001b[0m | \u001b[0m76.46    \u001b[0m |\n",
      "| \u001b[0m30       \u001b[0m | \u001b[0m0.9782   \u001b[0m | \u001b[0m331.6    \u001b[0m | \u001b[0m84.89    \u001b[0m |\n",
      "| \u001b[0m31       \u001b[0m | \u001b[0m0.9782   \u001b[0m | \u001b[0m331.5    \u001b[0m | \u001b[0m93.94    \u001b[0m |\n",
      "| \u001b[0m32       \u001b[0m | \u001b[0m0.9782   \u001b[0m | \u001b[0m323.9    \u001b[0m | \u001b[0m92.12    \u001b[0m |\n",
      "| \u001b[0m33       \u001b[0m | \u001b[0m0.9782   \u001b[0m | \u001b[0m323.5    \u001b[0m | \u001b[0m98.18    \u001b[0m |\n",
      "| \u001b[0m34       \u001b[0m | \u001b[0m0.9782   \u001b[0m | \u001b[0m321.6    \u001b[0m | \u001b[0m85.62    \u001b[0m |\n",
      "| \u001b[0m35       \u001b[0m | \u001b[0m0.9781   \u001b[0m | \u001b[0m316.5    \u001b[0m | \u001b[0m80.3     \u001b[0m |\n",
      "=================================================\n"
     ]
    }
   ],
   "source": [
    "param_dict_range = {\"min_child_samples\": (300, 600), \n",
    "                    \"num_leaves\": (50,300)}\n",
    "# params25 = bayes_optimize_params_cv(train[imp_keys2[:25]], train[\"Truth\"].values, LGBMClassifier, param_dict_range, rng = 42)\n",
    "params15 = bayes_optimize_params_cv(train[imp_keys2[:15]], train[\"Truth\"].values, LGBMClassifier, param_dict_range, rng = 42)"
   ]
  },
  {
   "cell_type": "code",
   "execution_count": 16,
   "metadata": {},
   "outputs": [
    {
     "name": "stdout",
     "output_type": "stream",
     "text": [
      "{'min_child_samples': 333, 'num_leaves': 88}\n"
     ]
    }
   ],
   "source": [
    "firstparamssave = params15\n",
    "print(params15)"
   ]
  },
  {
   "cell_type": "code",
   "execution_count": null,
   "metadata": {},
   "outputs": [],
   "source": [
    "RandomizedSearchCV(LGBMClassifier)"
   ]
  },
  {
   "cell_type": "code",
   "execution_count": 68,
   "metadata": {},
   "outputs": [
    {
     "name": "stdout",
     "output_type": "stream",
     "text": [
      "gbdt 15: -0.19579973547770263\n"
     ]
    }
   ],
   "source": [
    "# print(\"gbdt MinMax:\", cross_val_score(LGBMClassifier(boosting_type=\"gbdt\", **params25), preprocessing.MinMaxScaler().fit_transform(train[imp_keys2[:20]]) , train[\"Truth\"].values, scoring=\"accuracy\", cv = 5).mean())\n",
    "# print(\"gbdt Standard:\", cross_val_score(LGBMClassifier(boosting_type=\"gbdt\", **params25), preprocessing.StandardScaler().fit_transform(train[imp_keys2[:15]]) , train[\"Truth\"].values, scoring=\"accuracy\", cv = 5).mean())\n",
    "# print(\"gbdt 25:\", cross_val_score(LGBMClassifier(boosting_type=\"gbdt\", **params25), train[imp_keys2[:15]] , train[\"Truth\"].values, scoring=\"roc_auc\", cv = 5).mean())\n",
    "print(\"gbdt 15:\", cross_val_score(LGBMClassifier(boosting_type=\"gbdt\", **params15), train[imp_keys2[:15]] , train[\"Truth\"].values, scoring=\"neg_log_loss\", cv = 5).mean())\n",
    "# print(\"gbdt PCA:\", cross_val_score(LGBMClassifier(boosting_type=\"gbdt\"), KernelPCA(n_components=15, kernel='rbf').fit_transform(preprocessing.StandardScaler().fit_transform(train[imp_keys2[:15]][:10000])), train[\"Truth\"][:10000].values, scoring=\"accuracy\", cv = 5).mean())\n",
    "# print(params25)"
   ]
  },
  {
   "cell_type": "code",
   "execution_count": null,
   "metadata": {},
   "outputs": [],
   "source": []
  },
  {
   "cell_type": "code",
   "execution_count": 18,
   "metadata": {},
   "outputs": [],
   "source": [
    "class_tree = LGBMClassifier(boosting_type=\"gbdt\", **params15).fit(train[imp_keys2[:15]] , train[\"Truth\"].values)\n",
    "final = class_tree.predict_proba(final_test[imp_keys2[:15]])"
   ]
  },
  {
   "cell_type": "code",
   "execution_count": 25,
   "metadata": {},
   "outputs": [
    {
     "name": "stdout",
     "output_type": "stream",
     "text": [
      "[0.99390582 0.96420079 0.98182706 ... 0.99625534 0.00143606 0.95628384] [1. 1. 1. ... 1. 0. 1.]\n"
     ]
    }
   ],
   "source": [
    "print(class_tree.predict_proba(train[imp_keys2[:15]])[:,1], train[\"Truth\"].values)"
   ]
  },
  {
   "cell_type": "code",
   "execution_count": 30,
   "metadata": {},
   "outputs": [
    {
     "data": {
      "text/plain": [
       "None"
      ]
     },
     "metadata": {},
     "output_type": "display_data"
    }
   ],
   "source": [
    "final_df = pd.DataFrame(final[:, 1]).to_csv(\"Classification_PhilipKofoed-Djursner_lightgbm.txt\", header = None)\n",
    "with open(\"Classification_PhilipKofoed-Djursner_lightgbm_VariableList.txt\", \"w\") as f:\n",
    "    for key in imp_keys2[:15]:\n",
    "        f.write(f\"{key}\\n\")\n"
   ]
  },
  {
   "cell_type": "code",
   "execution_count": 32,
   "metadata": {},
   "outputs": [],
   "source": [
    "with open(\"Classification_PhilipKofoed-Djursner_lightgbm_VariableList.txt\", \"w\") as f:\n",
    "    for key in imp_keys2[:15]:\n",
    "        f.write(f\"{key}\\n\")"
   ]
  },
  {
   "cell_type": "code",
   "execution_count": 59,
   "metadata": {},
   "outputs": [
    {
     "name": "stdout",
     "output_type": "stream",
     "text": [
      "[[-3.24442066e-02 -3.71603031e-03]\n",
      " [-3.23425944e-02  5.15558385e-05]\n",
      " [-3.85549951e-02 -1.34574071e-02]\n",
      " ...\n",
      " [-2.43698324e-02  4.44619997e-02]\n",
      " [ 3.12474836e-01 -8.08444622e-02]\n",
      " [-1.17971941e-02  1.22578610e-01]]\n"
     ]
    },
    {
     "data": {
      "text/plain": [
       "[]"
      ]
     },
     "execution_count": 59,
     "metadata": {},
     "output_type": "execute_result"
    },
    {
     "data": {
      "image/png": "[encoded data removed]",
      "text/plain": [
       "<Figure size 560x400 with 1 Axes>"
      ]
     },
     "metadata": {},
     "output_type": "display_data"
    }
   ],
   "source": [
    "pca = KernelPCA(n_components=2, kernel='rbf').fit_transform(preprocessing.MinMaxScaler().fit_transform(train[imp_keys2[:15]][:10000]))\n",
    "print(pca)\n",
    "plt.scatter(*pca[train[\"Truth\"][:10000].values==0].T, color = \"k\", label = \"not e\")\n",
    "plt.scatter(*pca[train[\"Truth\"][:10000].values==1].T, color = \"b\", label = \"e\")\n",
    "plt.legend()\n",
    "plt.plot()"
   ]
  },
  {
   "cell_type": "code",
   "execution_count": 56,
   "metadata": {},
   "outputs": [
    {
     "name": "stdout",
     "output_type": "stream",
     "text": [
      "[[-0.28965298 -0.25721647 -0.22209349 ...  0.00144804  0.41030644\n",
      "   0.63007026]\n",
      " [ 0.13601403  0.26231584  0.12528629 ...  0.52894298 -0.15128063\n",
      "  -0.11175687]]\n"
     ]
    }
   ],
   "source": [
    "print(pca.T)"
   ]
  },
  {
   "cell_type": "code",
   "execution_count": 43,
   "metadata": {},
   "outputs": [
    {
     "name": "stdout",
     "output_type": "stream",
     "text": [
      "{'min_child_samples': 399, 'num_leaves': 95} {'min_child_samples': 169, 'num_leaves': 98}\n"
     ]
    }
   ],
   "source": [
    "print(params25, params15)"
   ]
  },
  {
   "cell_type": "code",
   "execution_count": 36,
   "metadata": {},
   "outputs": [
    {
     "name": "stdout",
     "output_type": "stream",
     "text": [
      "gbdt None: 0.9427015384615384\n"
     ]
    }
   ],
   "source": [
    "print(\"gbdt None:\", cross_val_score(LGBMClassifier(boosting_type=\"gbdt\", **params25), train[imp_keys2[:15]] , train[\"Truth\"].values, scoring=\"accuracy\", cv = 5).mean())\n"
   ]
  },
  {
   "cell_type": "code",
   "execution_count": 160,
   "metadata": {},
   "outputs": [
    {
     "name": "stdout",
     "output_type": "stream",
     "text": [
      "{'max_depth': 158, 'min_child_samples': 45, 'num_leaves': 281}\n"
     ]
    },
    {
     "data": {
      "image/png": "[encoded data removed]",
      "text/plain": [
       "<Figure size 560x400 with 1 Axes>"
      ]
     },
     "metadata": {},
     "output_type": "display_data"
    },
    {
     "name": "stdout",
     "output_type": "stream",
     "text": [
      "p_sigmad0 0.0226  +/- 0.0002\n",
      "p_Rphi   0.0139  +/- 0.0000\n",
      "p_ptconecoreTrackPtrCorrection 0.0119  +/- 0.0003\n",
      "p_deltaPhiRescaled2 0.0116  +/- 0.0001\n",
      "p_nTracks 0.0099  +/- 0.0002\n",
      "p_Reta   0.0093  +/- 0.0001\n",
      "p_d0     0.0083  +/- 0.0001\n",
      "p_ambiguityType 0.0078  +/- 0.0001\n",
      "p_deltaEta1 0.0076  +/- 0.0001\n",
      "p_ethad  0.0057  +/- 0.0001\n",
      "p_numberOfPixelHits 0.0057  +/- 0.0001\n",
      "p_dPOverP 0.0057  +/- 0.0001\n",
      "p_deltaPhiFromLastMeasurement 0.0056  +/- 0.0002\n",
      "p_d0Sig  0.0054  +/- 0.0001\n",
      "p_Rhad   0.0047  +/- 0.0002\n",
      "p_numberOfInnermostPixelHits 0.0045  +/- 0.0001\n",
      "p_numberOfSCTHits 0.0034  +/- 0.0001\n",
      "p_EptRatio 0.0033  +/- 0.0001\n",
      "p_TRTPID 0.0026  +/- 0.0001\n",
      "NvtxReco 0.0026  +/- 0.0001\n",
      "p_Rhad1  0.0025  +/- 0.0001\n",
      "p_nCells_Lr2_HiG 0.0023  +/- 0.0000\n",
      "p_deltaPhi2 0.0022  +/- 0.0001\n",
      "p_pt_track 0.0021  +/- 0.0001\n",
      "p_E7x11_Lr3 0.0020  +/- 0.0001\n",
      "p_qOverP 0.0018  +/- 0.0000\n",
      "p_weta2  0.0016  +/- 0.0001\n",
      "p_E_Lr2_HiG 0.0016  +/- 0.0001\n",
      "p_chi2   0.0014  +/- 0.0001\n",
      "p_maxEcell_time 0.0014  +/- 0.0000\n",
      "p_z0     0.0014  +/- 0.0001\n",
      "p_E_Lr1_HiG 0.0014  +/- 0.0001\n",
      "p_poscs2 0.0013  +/- 0.0000\n",
      "p_deltaEta2 0.0013  +/- 0.0001\n",
      "p_maxEcell_y 0.0012  +/- 0.0001\n",
      "p_dPhiTH3 0.0012  +/- 0.0001\n",
      "p_maxEcell_x 0.0012  +/- 0.0000\n",
      "p_r33over37allcalo 0.0012  +/- 0.0000\n",
      "p_z0theta 0.0012  +/- 0.0001\n",
      "p_deltaPhiRescaled1 0.0012  +/- 0.0001\n",
      "p_DeltaE 0.0011  +/- 0.0001\n",
      "p_Eratio 0.0011  +/- 0.0000\n",
      "p_phiModCalo 0.0011  +/- 0.0001\n",
      "p_ehad1  0.0011  +/- 0.0000\n",
      "p_f3     0.0011  +/- 0.0000\n",
      "p_deltaPhiRescaled3 0.0010  +/- 0.0000\n",
      "p_deltaEta3 0.0010  +/- 0.0000\n",
      "p_nCells_Lr1_HiG 0.0010  +/- 0.0000\n",
      "actualInteractionsPerCrossing 0.0010  +/- 0.0001\n",
      "p_core57cellsEnergyCorrection 0.0010  +/- 0.0001\n",
      "p_etaModCalo 0.0010  +/- 0.0000\n",
      "p_ethad1 0.0010  +/- 0.0001\n",
      "p_emins1 0.0009  +/- 0.0001\n",
      "p_deltaPhi1 0.0009  +/- 0.0000\n",
      "p_f3core 0.0009  +/- 0.0000\n",
      "p_cellIndexCluster 0.0009  +/- 0.0001\n",
      "p_widths1 0.0009  +/- 0.0000\n",
      "p_E3x5_Lr1 0.0008  +/- 0.0001\n",
      "p_e2ts1  0.0008  +/- 0.0001\n",
      "p_E_Lr1_MedG 0.0008  +/- 0.0000\n",
      "p_f1core 0.0008  +/- 0.0001\n",
      "p_maxEcell_energy 0.0008  +/- 0.0001\n",
      "p_nCells_Lr3_HiG 0.0008  +/- 0.0001\n",
      "p_E3x5_Lr0 0.0007  +/- 0.0000\n",
      "p_eAccCluster 0.0007  +/- 0.0001\n",
      "p_pos    0.0007  +/- 0.0001\n",
      "p_fracs1 0.0007  +/- 0.0000\n",
      "p_phiCluster 0.0007  +/- 0.0000\n",
      "p_pos7   0.0007  +/- 0.0000\n",
      "p_e2tsts1 0.0007  +/- 0.0001\n",
      "p_R12    0.0007  +/- 0.0001\n",
      "p_E7x11_Lr1 0.0006  +/- 0.0001\n",
      "p_deltaPhi3 0.0006  +/- 0.0000\n",
      "p_weta1  0.0006  +/- 0.0001\n",
      "p_poscs1 0.0006  +/- 0.0000\n",
      "p_E7x7_Lr3 0.0006  +/- 0.0000\n",
      "p_E5x7_Lr3 0.0006  +/- 0.0001\n",
      "p_wtots1 0.0006  +/- 0.0000\n",
      "p_E3x5_Lr3 0.0006  +/- 0.0000\n",
      "p_e277   0.0006  +/- 0.0000\n",
      "p_ecore  0.0005  +/- 0.0000\n",
      "p_barys1 0.0005  +/- 0.0000\n",
      "p_maxEcell_z 0.0005  +/- 0.0000\n",
      "p_eCluster 0.0005  +/- 0.0000\n",
      "p_topoetconecoreConeSCEnergyCorrection 0.0004  +/- 0.0001\n",
      "p_emaxs1 0.0004  +/- 0.0001\n",
      "p_eta    0.0004  +/- 0.0001\n",
      "p_ndof   0.0004  +/- 0.0000\n",
      "p_E_Lr2_MedG 0.0004  +/- 0.0000\n",
      "p_asy1   0.0004  +/- 0.0000\n",
      "p_topoetconecoreConeEnergyCorrection 0.0004  +/- 0.0001\n",
      "p_eClusterLr1 0.0004  +/- 0.0000\n",
      "p_f1     0.0004  +/- 0.0000\n",
      "p_TRTTrackOccupancy 0.0004  +/- 0.0000\n",
      "p_phi    0.0004  +/- 0.0000\n",
      "p_e132   0.0003  +/- 0.0001\n",
      "p_deltaEta0 0.0003  +/- 0.0000\n",
      "p_numberOfTRTXenonHits 0.0003  +/- 0.0000\n",
      "p_numberOfTRTHits 0.0002  +/- 0.0000\n",
      "p_e1152  0.0002  +/- 0.0000\n"
     ]
    }
   ],
   "source": [
    "params2, imp_keys2 = optimize_tree_sk_classifier(train[imp_keys[:100]], train[\"Truth\"].values, LGBMClassifier, param_dict_range, pre_process=preprocessing.StandardScaler())"
   ]
  },
  {
   "cell_type": "code",
   "execution_count": 182,
   "metadata": {},
   "outputs": [
    {
     "name": "stdout",
     "output_type": "stream",
     "text": [
      "0.9894076923076923\n",
      "0.9360307692307692\n"
     ]
    }
   ],
   "source": [
    "X_train, X_test, y_train, y_test = train_test_split(pd.DataFrame(preprocessing.StandardScaler().fit_transform(train[imp_keys2[15:]])), train[\"Truth\"], test_size=0.2, random_state=4)\n",
    "model = LGBMClassifier(**params2)\n",
    "model.fit(X_train, y_train)\n",
    "print(model.score(X_train, y_train))\n",
    "print(model.score(X_test, y_test))"
   ]
  },
  {
   "cell_type": "code",
   "execution_count": 174,
   "metadata": {},
   "outputs": [],
   "source": [
    "with open(\"./second_lgbm_model.txt\", \"w\") as f:\n",
    "    f.write(\"Parameters used \\n\")\n",
    "    f.write(str(imp_keys2[15:]) + \"\\n\")\n",
    "    f.write(\"Hyperparameters used \\n\")\n",
    "    f.write(str(params2) + \"\\n\")\n",
    "    f.write(\"Evaluation on 0.2 \\n\")\n",
    "    f.write(str(model.score(X_test, y_test)))"
   ]
  },
  {
   "cell_type": "code",
   "execution_count": 129,
   "metadata": {},
   "outputs": [
    {
     "name": "stdout",
     "output_type": "stream",
     "text": [
      "800000\n"
     ]
    }
   ],
   "source": [
    "print(5000*160)"
   ]
  },
  {
   "cell_type": "code",
   "execution_count": 109,
   "metadata": {},
   "outputs": [],
   "source": [
    "from bayes_opt import BayesianOptimization\n",
    "from sklearn.model_selection import cross_val_score\n",
    "\n",
    "def DecisionTree_CrossValidation(max_depth, min_samples_leaf, num_leaves, data, targets):\n",
    "    \"\"\"Decision Tree cross validation.\n",
    "       Fits a Decision Tree with the given paramaters to the target \n",
    "       given data, calculated a CV accuracy score and returns the mean.\n",
    "       The goal is to find combinations of max_depth, min_samples_leaf \n",
    "       that maximize the accuracy\n",
    "    \"\"\"\n",
    "    \n",
    "    estimator = LGBMClassifier(random_state=42, \n",
    "                                       max_depth=max_depth, \n",
    "                                       min_samples_leaf=min_samples_leaf,\n",
    "                                       num_leaves=num_leaves)\n",
    "    \n",
    "    cval = cross_val_score(estimator, data, targets, scoring='accuracy', cv=8)\n",
    "    \n",
    "    return cval.mean()\n",
    "\n",
    "def optimize_DecisionTree(data, targets, pars, n_iter=5):\n",
    "    \"\"\"Apply Bayesian Optimization to Decision Tree parameters.\"\"\"\n",
    "    \n",
    "    def crossval_wrapper(max_depth, min_samples_leaf, num_leaves):\n",
    "        \"\"\"Wrapper of Decision Tree cross validation. \n",
    "           Notice how we ensure max_depth, min_samples_leaf \n",
    "           are casted to integer before we pass them along.\n",
    "        \"\"\"\n",
    "        return DecisionTree_CrossValidation(max_depth=int(max_depth), \n",
    "                                            min_samples_leaf=int(min_samples_leaf),\n",
    "                                            num_leaves = int(num_leaves),\n",
    "                                            data=data, \n",
    "                                            targets=targets)\n",
    "\n",
    "    optimizer = BayesianOptimization(f=crossval_wrapper, \n",
    "                                     pbounds=pars, \n",
    "                                     random_state=42, \n",
    "                                     verbose=2)\n",
    "    optimizer.maximize(init_points=8, n_iter=n_iter)\n",
    "\n",
    "    return optimizer"
   ]
  },
  {
   "cell_type": "code",
   "execution_count": 21,
   "metadata": {},
   "outputs": [
    {
     "name": "stdout",
     "output_type": "stream",
     "text": [
      "|   iter    |  target   | max_depth | min_sa... | num_le... |\n",
      "-------------------------------------------------------------\n",
      "[LightGBM] [Warning] min_data_in_leaf is set with min_child_samples=20, will be overridden by min_samples_leaf=95. Current value: min_data_in_leaf=95\n",
      "[LightGBM] [Warning] min_data_in_leaf is set with min_child_samples=20, will be overridden by min_samples_leaf=95. Current value: min_data_in_leaf=95\n",
      "[LightGBM] [Warning] min_data_in_leaf is set with min_child_samples=20, will be overridden by min_samples_leaf=95. Current value: min_data_in_leaf=95\n",
      "[LightGBM] [Warning] min_data_in_leaf is set with min_child_samples=20, will be overridden by min_samples_leaf=95. Current value: min_data_in_leaf=95\n",
      "[LightGBM] [Warning] min_data_in_leaf is set with min_child_samples=20, will be overridden by min_samples_leaf=95. Current value: min_data_in_leaf=95\n",
      "[LightGBM] [Warning] min_data_in_leaf is set with min_child_samples=20, will be overridden by min_samples_leaf=95. Current value: min_data_in_leaf=95\n",
      "[LightGBM] [Warning] min_data_in_leaf is set with min_child_samples=20, will be overridden by min_samples_leaf=95. Current value: min_data_in_leaf=95\n",
      "[LightGBM] [Warning] min_data_in_leaf is set with min_child_samples=20, will be overridden by min_samples_leaf=95. Current value: min_data_in_leaf=95\n",
      "| \u001b[0m1        \u001b[0m | \u001b[0m0.9318   \u001b[0m | \u001b[0m38.08    \u001b[0m | \u001b[0m95.12    \u001b[0m | \u001b[0m75.88    \u001b[0m |\n",
      "[LightGBM] [Warning] min_data_in_leaf is set with min_child_samples=20, will be overridden by min_samples_leaf=16. Current value: min_data_in_leaf=16\n",
      "[LightGBM] [Warning] min_data_in_leaf is set with min_child_samples=20, will be overridden by min_samples_leaf=16. Current value: min_data_in_leaf=16\n",
      "[LightGBM] [Warning] min_data_in_leaf is set with min_child_samples=20, will be overridden by min_samples_leaf=16. Current value: min_data_in_leaf=16\n",
      "[LightGBM] [Warning] min_data_in_leaf is set with min_child_samples=20, will be overridden by min_samples_leaf=16. Current value: min_data_in_leaf=16\n",
      "[LightGBM] [Warning] min_data_in_leaf is set with min_child_samples=20, will be overridden by min_samples_leaf=16. Current value: min_data_in_leaf=16\n",
      "[LightGBM] [Warning] min_data_in_leaf is set with min_child_samples=20, will be overridden by min_samples_leaf=16. Current value: min_data_in_leaf=16\n",
      "[LightGBM] [Warning] min_data_in_leaf is set with min_child_samples=20, will be overridden by min_samples_leaf=16. Current value: min_data_in_leaf=16\n",
      "[LightGBM] [Warning] min_data_in_leaf is set with min_child_samples=20, will be overridden by min_samples_leaf=16. Current value: min_data_in_leaf=16\n",
      "| \u001b[95m2        \u001b[0m | \u001b[95m0.9338   \u001b[0m | \u001b[95m60.27    \u001b[0m | \u001b[95m16.45    \u001b[0m | \u001b[95m24.04    \u001b[0m |\n",
      "[LightGBM] [Warning] min_data_in_leaf is set with min_child_samples=20, will be overridden by min_samples_leaf=86. Current value: min_data_in_leaf=86\n",
      "[LightGBM] [Warning] min_data_in_leaf is set with min_child_samples=20, will be overridden by min_samples_leaf=86. Current value: min_data_in_leaf=86\n",
      "[LightGBM] [Warning] min_data_in_leaf is set with min_child_samples=20, will be overridden by min_samples_leaf=86. Current value: min_data_in_leaf=86\n",
      "[LightGBM] [Warning] min_data_in_leaf is set with min_child_samples=20, will be overridden by min_samples_leaf=86. Current value: min_data_in_leaf=86\n",
      "[LightGBM] [Warning] min_data_in_leaf is set with min_child_samples=20, will be overridden by min_samples_leaf=86. Current value: min_data_in_leaf=86\n",
      "[LightGBM] [Warning] min_data_in_leaf is set with min_child_samples=20, will be overridden by min_samples_leaf=86. Current value: min_data_in_leaf=86\n",
      "[LightGBM] [Warning] min_data_in_leaf is set with min_child_samples=20, will be overridden by min_samples_leaf=86. Current value: min_data_in_leaf=86\n",
      "[LightGBM] [Warning] min_data_in_leaf is set with min_child_samples=20, will be overridden by min_samples_leaf=86. Current value: min_data_in_leaf=86\n",
      "| \u001b[0m3        \u001b[0m | \u001b[0m0.9318   \u001b[0m | \u001b[0m6.75     \u001b[0m | \u001b[0m86.75    \u001b[0m | \u001b[0m64.1     \u001b[0m |\n",
      "[LightGBM] [Warning] min_data_in_leaf is set with min_child_samples=20, will be overridden by min_samples_leaf=3. Current value: min_data_in_leaf=3\n",
      "[LightGBM] [Warning] min_data_in_leaf is set with min_child_samples=20, will be overridden by min_samples_leaf=3. Current value: min_data_in_leaf=3\n",
      "[LightGBM] [Warning] min_data_in_leaf is set with min_child_samples=20, will be overridden by min_samples_leaf=3. Current value: min_data_in_leaf=3\n",
      "[LightGBM] [Warning] min_data_in_leaf is set with min_child_samples=20, will be overridden by min_samples_leaf=3. Current value: min_data_in_leaf=3\n",
      "[LightGBM] [Warning] min_data_in_leaf is set with min_child_samples=20, will be overridden by min_samples_leaf=3. Current value: min_data_in_leaf=3\n",
      "[LightGBM] [Warning] min_data_in_leaf is set with min_child_samples=20, will be overridden by min_samples_leaf=3. Current value: min_data_in_leaf=3\n",
      "[LightGBM] [Warning] min_data_in_leaf is set with min_child_samples=20, will be overridden by min_samples_leaf=3. Current value: min_data_in_leaf=3\n",
      "[LightGBM] [Warning] min_data_in_leaf is set with min_child_samples=20, will be overridden by min_samples_leaf=3. Current value: min_data_in_leaf=3\n",
      "| \u001b[0m4        \u001b[0m | \u001b[0m0.931    \u001b[0m | \u001b[0m71.1     \u001b[0m | \u001b[0m3.038    \u001b[0m | \u001b[0m97.29    \u001b[0m |\n",
      "[LightGBM] [Warning] min_data_in_leaf is set with min_child_samples=20, will be overridden by min_samples_leaf=12. Current value: min_data_in_leaf=12\n",
      "[LightGBM] [Warning] min_data_in_leaf is set with min_child_samples=20, will be overridden by min_samples_leaf=12. Current value: min_data_in_leaf=12\n",
      "[LightGBM] [Warning] min_data_in_leaf is set with min_child_samples=20, will be overridden by min_samples_leaf=12. Current value: min_data_in_leaf=12\n",
      "[LightGBM] [Warning] min_data_in_leaf is set with min_child_samples=20, will be overridden by min_samples_leaf=12. Current value: min_data_in_leaf=12\n",
      "[LightGBM] [Warning] min_data_in_leaf is set with min_child_samples=20, will be overridden by min_samples_leaf=12. Current value: min_data_in_leaf=12\n",
      "[LightGBM] [Warning] min_data_in_leaf is set with min_child_samples=20, will be overridden by min_samples_leaf=12. Current value: min_data_in_leaf=12\n",
      "[LightGBM] [Warning] min_data_in_leaf is set with min_child_samples=20, will be overridden by min_samples_leaf=12. Current value: min_data_in_leaf=12\n",
      "[LightGBM] [Warning] min_data_in_leaf is set with min_child_samples=20, will be overridden by min_samples_leaf=12. Current value: min_data_in_leaf=12\n",
      "| \u001b[0m5        \u001b[0m | \u001b[0m0.9324   \u001b[0m | \u001b[0m40.26    \u001b[0m | \u001b[0m12.01    \u001b[0m | \u001b[0m12.87    \u001b[0m |\n",
      "[LightGBM] [Warning] min_data_in_leaf is set with min_child_samples=20, will be overridden by min_samples_leaf=15. Current value: min_data_in_leaf=15\n",
      "[LightGBM] [Warning] min_data_in_leaf is set with min_child_samples=20, will be overridden by min_samples_leaf=15. Current value: min_data_in_leaf=15\n",
      "[LightGBM] [Warning] min_data_in_leaf is set with min_child_samples=20, will be overridden by min_samples_leaf=15. Current value: min_data_in_leaf=15\n",
      "[LightGBM] [Warning] min_data_in_leaf is set with min_child_samples=20, will be overridden by min_samples_leaf=15. Current value: min_data_in_leaf=15\n",
      "[LightGBM] [Warning] min_data_in_leaf is set with min_child_samples=20, will be overridden by min_samples_leaf=15. Current value: min_data_in_leaf=15\n",
      "[LightGBM] [Warning] min_data_in_leaf is set with min_child_samples=20, will be overridden by min_samples_leaf=15. Current value: min_data_in_leaf=15\n",
      "[LightGBM] [Warning] min_data_in_leaf is set with min_child_samples=20, will be overridden by min_samples_leaf=15. Current value: min_data_in_leaf=15\n",
      "[LightGBM] [Warning] min_data_in_leaf is set with min_child_samples=20, will be overridden by min_samples_leaf=15. Current value: min_data_in_leaf=15\n",
      "| \u001b[0m6        \u001b[0m | \u001b[0m0.9326   \u001b[0m | \u001b[0m60.33    \u001b[0m | \u001b[0m15.48    \u001b[0m | \u001b[0m22.82    \u001b[0m |\n",
      "[LightGBM] [Warning] min_data_in_leaf is set with min_child_samples=20, will be overridden by min_samples_leaf=16. Current value: min_data_in_leaf=16\n",
      "[LightGBM] [Warning] min_data_in_leaf is set with min_child_samples=20, will be overridden by min_samples_leaf=16. Current value: min_data_in_leaf=16\n",
      "[LightGBM] [Warning] min_data_in_leaf is set with min_child_samples=20, will be overridden by min_samples_leaf=16. Current value: min_data_in_leaf=16\n",
      "[LightGBM] [Warning] min_data_in_leaf is set with min_child_samples=20, will be overridden by min_samples_leaf=16. Current value: min_data_in_leaf=16\n",
      "[LightGBM] [Warning] min_data_in_leaf is set with min_child_samples=20, will be overridden by min_samples_leaf=16. Current value: min_data_in_leaf=16\n",
      "[LightGBM] [Warning] min_data_in_leaf is set with min_child_samples=20, will be overridden by min_samples_leaf=16. Current value: min_data_in_leaf=16\n",
      "[LightGBM] [Warning] min_data_in_leaf is set with min_child_samples=20, will be overridden by min_samples_leaf=16. Current value: min_data_in_leaf=16\n",
      "[LightGBM] [Warning] min_data_in_leaf is set with min_child_samples=20, will be overridden by min_samples_leaf=16. Current value: min_data_in_leaf=16\n",
      "| \u001b[95m7        \u001b[0m | \u001b[95m0.9348   \u001b[0m | \u001b[95m61.11    \u001b[0m | \u001b[95m16.53    \u001b[0m | \u001b[95m22.7     \u001b[0m |\n",
      "[LightGBM] [Warning] min_data_in_leaf is set with min_child_samples=20, will be overridden by min_samples_leaf=15. Current value: min_data_in_leaf=15\n",
      "[LightGBM] [Warning] min_data_in_leaf is set with min_child_samples=20, will be overridden by min_samples_leaf=15. Current value: min_data_in_leaf=15\n",
      "[LightGBM] [Warning] min_data_in_leaf is set with min_child_samples=20, will be overridden by min_samples_leaf=15. Current value: min_data_in_leaf=15\n",
      "[LightGBM] [Warning] min_data_in_leaf is set with min_child_samples=20, will be overridden by min_samples_leaf=15. Current value: min_data_in_leaf=15\n",
      "[LightGBM] [Warning] min_data_in_leaf is set with min_child_samples=20, will be overridden by min_samples_leaf=15. Current value: min_data_in_leaf=15\n",
      "[LightGBM] [Warning] min_data_in_leaf is set with min_child_samples=20, will be overridden by min_samples_leaf=15. Current value: min_data_in_leaf=15\n",
      "[LightGBM] [Warning] min_data_in_leaf is set with min_child_samples=20, will be overridden by min_samples_leaf=15. Current value: min_data_in_leaf=15\n",
      "[LightGBM] [Warning] min_data_in_leaf is set with min_child_samples=20, will be overridden by min_samples_leaf=15. Current value: min_data_in_leaf=15\n",
      "| \u001b[0m8        \u001b[0m | \u001b[0m0.9336   \u001b[0m | \u001b[0m62.05    \u001b[0m | \u001b[0m15.46    \u001b[0m | \u001b[0m21.71    \u001b[0m |\n",
      "[LightGBM] [Warning] min_data_in_leaf is set with min_child_samples=20, will be overridden by min_samples_leaf=16. Current value: min_data_in_leaf=16\n",
      "[LightGBM] [Warning] min_data_in_leaf is set with min_child_samples=20, will be overridden by min_samples_leaf=16. Current value: min_data_in_leaf=16\n",
      "[LightGBM] [Warning] min_data_in_leaf is set with min_child_samples=20, will be overridden by min_samples_leaf=16. Current value: min_data_in_leaf=16\n",
      "[LightGBM] [Warning] min_data_in_leaf is set with min_child_samples=20, will be overridden by min_samples_leaf=16. Current value: min_data_in_leaf=16\n",
      "[LightGBM] [Warning] min_data_in_leaf is set with min_child_samples=20, will be overridden by min_samples_leaf=16. Current value: min_data_in_leaf=16\n",
      "[LightGBM] [Warning] min_data_in_leaf is set with min_child_samples=20, will be overridden by min_samples_leaf=16. Current value: min_data_in_leaf=16\n",
      "[LightGBM] [Warning] min_data_in_leaf is set with min_child_samples=20, will be overridden by min_samples_leaf=16. Current value: min_data_in_leaf=16\n",
      "[LightGBM] [Warning] min_data_in_leaf is set with min_child_samples=20, will be overridden by min_samples_leaf=16. Current value: min_data_in_leaf=16\n",
      "| \u001b[0m9        \u001b[0m | \u001b[0m0.9336   \u001b[0m | \u001b[0m58.05    \u001b[0m | \u001b[0m16.43    \u001b[0m | \u001b[0m23.91    \u001b[0m |\n",
      "=============================================================\n",
      "{'target': 0.9348, 'params': {'max_depth': 61.105215829971996, 'min_samples_leaf': 16.528206758878795, 'num_leaves': 22.698698100246013}}\n"
     ]
    }
   ],
   "source": [
    "parameters_BayesianOptimization = {\"max_depth\": (1, 100), \n",
    "                                   \"min_samples_leaf\": (1, 100),\n",
    "                                   \"num_leaves\": (10,100)\n",
    "                                  }\n",
    "''\n",
    "BayesianOptimization = optimize_DecisionTree(X_train_sub, \n",
    "                                             y_train_sub, \n",
    "                                             parameters_BayesianOptimization, \n",
    "                                             n_iter=5)\n",
    "print(BayesianOptimization.max)"
   ]
  },
  {
   "cell_type": "code",
   "execution_count": 22,
   "metadata": {},
   "outputs": [],
   "source": [
    "params = BayesianOptimization.max[\"params\"]\n",
    "for param in params:\n",
    "    params[param] = int(params[param])\n"
   ]
  },
  {
   "cell_type": "code",
   "execution_count": 27,
   "metadata": {},
   "outputs": [
    {
     "name": "stdout",
     "output_type": "stream",
     "text": [
      "[LightGBM] [Warning] min_data_in_leaf is set with min_child_samples=20, will be overridden by min_samples_leaf=16. Current value: min_data_in_leaf=16\n",
      "0.9494384615384616\n",
      "0.9421846153846154\n"
     ]
    }
   ],
   "source": [
    "model = LGBMClassifier(**params)\n",
    "model.fit(X_train, y_train)\n",
    "print(model.score(X_train, y_train))\n",
    "print(model.score(X_test, y_test))"
   ]
  },
  {
   "cell_type": "code",
   "execution_count": 28,
   "metadata": {},
   "outputs": [
    {
     "name": "stdout",
     "output_type": "stream",
     "text": [
      "0.9528846153846153\n",
      "0.9434153846153847\n"
     ]
    }
   ],
   "source": [
    "model2 = LGBMClassifier()\n",
    "model2.fit(X_train, y_train)\n",
    "print(model2.score(X_train, y_train))\n",
    "print(model2.score(X_test, y_test))"
   ]
  },
  {
   "cell_type": "code",
   "execution_count": 25,
   "metadata": {},
   "outputs": [],
   "source": [
    "X_test_sub, y_test_sub = X_test[:2000], y_test[:2000]"
   ]
  },
  {
   "cell_type": "code",
   "execution_count": null,
   "metadata": {},
   "outputs": [],
   "source": [
    "\n",
    "r = permutation_importance(model2, X_test_sub, y_test_sub, n_repeats=30, random_state=0)\n"
   ]
  },
  {
   "cell_type": "code",
   "execution_count": 32,
   "metadata": {},
   "outputs": [
    {
     "name": "stdout",
     "output_type": "stream",
     "text": [
      "p_ptconecoreTrackPtrCorrection 0.009  +/- 0.002\n",
      "p_deltaEta1 0.008  +/- 0.002\n",
      "p_sigmad0 0.007  +/- 0.003\n",
      "p_Rhad   0.007  +/- 0.002\n",
      "p_deltaPhiRescaled2 0.007  +/- 0.002\n",
      "p_Rphi   0.004  +/- 0.002\n",
      "p_Reta   0.004  +/- 0.002\n",
      "p_ethad  0.004  +/- 0.002\n",
      "p_qOverP 0.004  +/- 0.001\n",
      "p_numberOfSCTHits 0.003  +/- 0.001\n",
      "p_E7x11_Lr3 0.003  +/- 0.001\n",
      "p_EptRatio 0.003  +/- 0.001\n",
      "p_deltaPhi2 0.003  +/- 0.001\n",
      "p_numberOfPixelHits 0.003  +/- 0.001\n",
      "p_d0Sig  0.002  +/- 0.001\n",
      "p_fracs1 0.002  +/- 0.001\n",
      "p_E7x11_Lr2 0.001  +/- 0.001\n",
      "p_ndof   0.001  +/- 0.000\n"
     ]
    }
   ],
   "source": [
    "important_keys = []\n",
    "\n",
    "for i in r.importances_mean.argsort()[::-1]:\n",
    "    if r.importances_mean[i] - 2 * r.importances_std[i] > 0:\n",
    "            print(f\"{model.feature_name_[i]:<8}\",\n",
    "            f\"{r.importances_mean[i]:.3f}\",\n",
    "            f\" +/- {r.importances_std[i]:.3f}\")\n",
    "            important_keys.append(model.feature_name_[i])"
   ]
  },
  {
   "cell_type": "code",
   "execution_count": 42,
   "metadata": {},
   "outputs": [],
   "source": [
    "train_corr = pd.concat([X_train, y_train], axis = 1).corr()\n",
    "corr_keys = pd.concat([train_corr[\"Truth\"][:-1].abs().rank(ascending=False), train_corr[\"Truth\"][:-1]], axis = 1, keys = [\"rank\", \"corr\"]).sort_values(by = \"rank\").index[:15]\n"
   ]
  },
  {
   "cell_type": "code",
   "execution_count": 43,
   "metadata": {},
   "outputs": [
    {
     "name": "stdout",
     "output_type": "stream",
     "text": [
      "Index(['p_Reta', 'p_Rphi', 'p_Rhad', 'p_ehad1', 'p_Rhad1', 'p_ethad',\n",
      "       'p_ethad1', 'p_weta2', 'p_r33over37allcalo', 'p_E7x11_Lr3', 'p_Eratio',\n",
      "       'p_e2ts1', 'p_e2tsts1', 'p_E7x7_Lr3', 'p_E5x7_Lr3'],\n",
      "      dtype='object')\n"
     ]
    }
   ],
   "source": []
  },
  {
   "cell_type": "code",
   "execution_count": 48,
   "metadata": {},
   "outputs": [
    {
     "name": "stdout",
     "output_type": "stream",
     "text": [
      "0.9474307692307692\n",
      "0.94\n"
     ]
    }
   ],
   "source": [
    "X_train, X_test, y_train, y_test = train_test_split(train[important_keys[:15]], train[\"Truth\"], test_size=0.2, random_state=42)\n",
    "\n",
    "model2 = LGBMClassifier()\n",
    "model2.fit(X_train, y_train)\n",
    "print(model2.score(X_train, y_train))\n",
    "print(model2.score(X_test, y_test))"
   ]
  },
  {
   "cell_type": "code",
   "execution_count": 72,
   "metadata": {},
   "outputs": [],
   "source": [
    "X = pd.DataFrame(preprocessing.StandardScaler().fit_transform(train[use_keys]), columns=use_keys)\n",
    "X_train, X_test, y_train, y_test = train_test_split(X, train[\"Truth\"], test_size=0.2, random_state=42)\n",
    "X_train_sub = X_train.iloc[:5000]\n",
    "y_train_sub = y_train.iloc[:5000]\n",
    "X_test_sub = X_test.iloc[:10000]\n",
    "y_test_sub = y_test.iloc[:10000]"
   ]
  },
  {
   "cell_type": "code",
   "execution_count": 69,
   "metadata": {},
   "outputs": [
    {
     "name": "stdout",
     "output_type": "stream",
     "text": [
      "0.9527230769230769\n",
      "0.9437538461538462\n"
     ]
    }
   ],
   "source": [
    "model2 = LGBMClassifier()\n",
    "model2.fit(X_train, y_train)\n",
    "print(model2.score(X_train, y_train))\n",
    "print(model2.score(X_test, y_test))"
   ]
  },
  {
   "cell_type": "code",
   "execution_count": null,
   "metadata": {},
   "outputs": [],
   "source": []
  },
  {
   "cell_type": "code",
   "execution_count": 75,
   "metadata": {},
   "outputs": [],
   "source": [
    "\n",
    "r = permutation_importance(model2, X_test_sub, y_test_sub, n_repeats=30, random_state=0)"
   ]
  },
  {
   "cell_type": "code",
   "execution_count": 80,
   "metadata": {},
   "outputs": [
    {
     "name": "stdout",
     "output_type": "stream",
     "text": [
      "p_deltaEta1 0.009  +/- 0.001\n",
      "p_sigmad0 0.007  +/- 0.001\n",
      "p_ptconecoreTrackPtrCorrection 0.006  +/- 0.001\n",
      "p_Reta   0.006  +/- 0.001\n",
      "p_Rhad   0.004  +/- 0.001\n",
      "p_deltaPhiRescaled2 0.004  +/- 0.001\n",
      "p_ethad  0.003  +/- 0.001\n",
      "p_numberOfPixelHits 0.003  +/- 0.000\n",
      "p_ambiguityType 0.003  +/- 0.001\n",
      "p_Rphi   0.002  +/- 0.001\n",
      "p_d0Sig  0.002  +/- 0.001\n",
      "p_numberOfInnermostPixelHits 0.002  +/- 0.001\n",
      "p_numberOfSCTHits 0.001  +/- 0.001\n",
      "p_d0     0.001  +/- 0.000\n",
      "p_E7x11_Lr3 0.001  +/- 0.000\n",
      "p_TRTPID 0.001  +/- 0.000\n",
      "p_EptRatio 0.001  +/- 0.000\n",
      "p_DeltaE 0.000  +/- 0.000\n",
      "p_z0     0.000  +/- 0.000\n",
      "p_f3core 0.000  +/- 0.000\n",
      "p_maxEcell_energy 0.000  +/- 0.000\n",
      "p_emins1 0.000  +/- 0.000\n"
     ]
    }
   ],
   "source": [
    "important_keys3 = []\n",
    "\n",
    "for i in r.importances_mean.argsort()[::-1]:\n",
    "    if r.importances_mean[i] - 2 * r.importances_std[i] > 0:\n",
    "            print(f\"{model.feature_name_[i]:<8}\",\n",
    "            f\"{r.importances_mean[i]:.3f}\",\n",
    "            f\" +/- {r.importances_std[i]:.3f}\")\n",
    "            important_keys3.append(model.feature_name_[i])"
   ]
  },
  {
   "cell_type": "code",
   "execution_count": 106,
   "metadata": {},
   "outputs": [],
   "source": [
    "X = pd.DataFrame(preprocessing.StandardScaler().fit_transform(train[important_keys3[:15]]), columns=important_keys3[:15])\n",
    "X_train, X_test, y_train, y_test = train_test_split(X, train[\"Truth\"], test_size=0.2, random_state=42)\n",
    "X_train_sub = X_train.iloc[:5000]\n",
    "y_train_sub = y_train.iloc[:5000]\n",
    "X_test_sub = X_test.iloc[:10000]\n",
    "y_test_sub = y_test.iloc[:10000]"
   ]
  },
  {
   "cell_type": "code",
   "execution_count": 107,
   "metadata": {},
   "outputs": [
    {
     "name": "stdout",
     "output_type": "stream",
     "text": [
      "0.9473846153846154\n",
      "0.9392615384615385\n"
     ]
    }
   ],
   "source": [
    "model2 = LGBMClassifier()\n",
    "model2.fit(X_train, y_train)\n",
    "print(model2.score(X_train, y_train))\n",
    "print(model2.score(X_test, y_test))"
   ]
  },
  {
   "cell_type": "code",
   "execution_count": 111,
   "metadata": {},
   "outputs": [
    {
     "name": "stdout",
     "output_type": "stream",
     "text": [
      "|   iter    |  target   | max_depth | min_sa... | num_le... |\n",
      "-------------------------------------------------------------\n",
      "[LightGBM] [Warning] min_data_in_leaf is set with min_child_samples=20, will be overridden by min_samples_leaf=285. Current value: min_data_in_leaf=285\n",
      "[LightGBM] [Warning] min_data_in_leaf is set with min_child_samples=20, will be overridden by min_samples_leaf=285. Current value: min_data_in_leaf=285\n",
      "[LightGBM] [Warning] min_data_in_leaf is set with min_child_samples=20, will be overridden by min_samples_leaf=285. Current value: min_data_in_leaf=285\n",
      "[LightGBM] [Warning] min_data_in_leaf is set with min_child_samples=20, will be overridden by min_samples_leaf=285. Current value: min_data_in_leaf=285\n",
      "[LightGBM] [Warning] min_data_in_leaf is set with min_child_samples=20, will be overridden by min_samples_leaf=285. Current value: min_data_in_leaf=285\n",
      "[LightGBM] [Warning] min_data_in_leaf is set with min_child_samples=20, will be overridden by min_samples_leaf=285. Current value: min_data_in_leaf=285\n",
      "[LightGBM] [Warning] min_data_in_leaf is set with min_child_samples=20, will be overridden by min_samples_leaf=285. Current value: min_data_in_leaf=285\n",
      "| \u001b[0m1        \u001b[0m | \u001b[0m0.9426   \u001b[0m | \u001b[0m38.08    \u001b[0m | \u001b[0m285.3    \u001b[0m | \u001b[0m75.88    \u001b[0m |\n",
      "[LightGBM] [Warning] min_data_in_leaf is set with min_child_samples=20, will be overridden by min_samples_leaf=47. Current value: min_data_in_leaf=47\n",
      "[LightGBM] [Warning] min_data_in_leaf is set with min_child_samples=20, will be overridden by min_samples_leaf=47. Current value: min_data_in_leaf=47\n",
      "[LightGBM] [Warning] min_data_in_leaf is set with min_child_samples=20, will be overridden by min_samples_leaf=47. Current value: min_data_in_leaf=47\n",
      "[LightGBM] [Warning] min_data_in_leaf is set with min_child_samples=20, will be overridden by min_samples_leaf=47. Current value: min_data_in_leaf=47\n",
      "[LightGBM] [Warning] min_data_in_leaf is set with min_child_samples=20, will be overridden by min_samples_leaf=47. Current value: min_data_in_leaf=47\n",
      "[LightGBM] [Warning] min_data_in_leaf is set with min_child_samples=20, will be overridden by min_samples_leaf=47. Current value: min_data_in_leaf=47\n",
      "[LightGBM] [Warning] min_data_in_leaf is set with min_child_samples=20, will be overridden by min_samples_leaf=47. Current value: min_data_in_leaf=47\n",
      "[LightGBM] [Warning] min_data_in_leaf is set with min_child_samples=20, will be overridden by min_samples_leaf=47. Current value: min_data_in_leaf=47\n",
      "| \u001b[0m2        \u001b[0m | \u001b[0m0.9418   \u001b[0m | \u001b[0m60.27    \u001b[0m | \u001b[0m47.65    \u001b[0m | \u001b[0m24.04    \u001b[0m |\n",
      "[LightGBM] [Warning] min_data_in_leaf is set with min_child_samples=20, will be overridden by min_samples_leaf=259. Current value: min_data_in_leaf=259\n",
      "[LightGBM] [Warning] min_data_in_leaf is set with min_child_samples=20, will be overridden by min_samples_leaf=259. Current value: min_data_in_leaf=259\n",
      "[LightGBM] [Warning] min_data_in_leaf is set with min_child_samples=20, will be overridden by min_samples_leaf=259. Current value: min_data_in_leaf=259\n",
      "[LightGBM] [Warning] min_data_in_leaf is set with min_child_samples=20, will be overridden by min_samples_leaf=259. Current value: min_data_in_leaf=259\n",
      "[LightGBM] [Warning] min_data_in_leaf is set with min_child_samples=20, will be overridden by min_samples_leaf=259. Current value: min_data_in_leaf=259\n",
      "[LightGBM] [Warning] min_data_in_leaf is set with min_child_samples=20, will be overridden by min_samples_leaf=259. Current value: min_data_in_leaf=259\n",
      "[LightGBM] [Warning] min_data_in_leaf is set with min_child_samples=20, will be overridden by min_samples_leaf=259. Current value: min_data_in_leaf=259\n",
      "[LightGBM] [Warning] min_data_in_leaf is set with min_child_samples=20, will be overridden by min_samples_leaf=259. Current value: min_data_in_leaf=259\n",
      "| \u001b[0m3        \u001b[0m | \u001b[0m0.9414   \u001b[0m | \u001b[0m6.75     \u001b[0m | \u001b[0m260.0    \u001b[0m | \u001b[0m64.1     \u001b[0m |\n",
      "[LightGBM] [Warning] min_data_in_leaf is set with min_child_samples=20, will be overridden by min_samples_leaf=7. Current value: min_data_in_leaf=7\n",
      "[LightGBM] [Warning] min_data_in_leaf is set with min_child_samples=20, will be overridden by min_samples_leaf=7. Current value: min_data_in_leaf=7\n",
      "[LightGBM] [Warning] min_data_in_leaf is set with min_child_samples=20, will be overridden by min_samples_leaf=7. Current value: min_data_in_leaf=7\n",
      "[LightGBM] [Warning] min_data_in_leaf is set with min_child_samples=20, will be overridden by min_samples_leaf=7. Current value: min_data_in_leaf=7\n",
      "[LightGBM] [Warning] min_data_in_leaf is set with min_child_samples=20, will be overridden by min_samples_leaf=7. Current value: min_data_in_leaf=7\n",
      "[LightGBM] [Warning] min_data_in_leaf is set with min_child_samples=20, will be overridden by min_samples_leaf=7. Current value: min_data_in_leaf=7\n",
      "[LightGBM] [Warning] min_data_in_leaf is set with min_child_samples=20, will be overridden by min_samples_leaf=7. Current value: min_data_in_leaf=7\n",
      "[LightGBM] [Warning] min_data_in_leaf is set with min_child_samples=20, will be overridden by min_samples_leaf=7. Current value: min_data_in_leaf=7\n",
      "| \u001b[0m4        \u001b[0m | \u001b[0m0.9421   \u001b[0m | \u001b[0m71.1     \u001b[0m | \u001b[0m7.155    \u001b[0m | \u001b[0m97.29    \u001b[0m |\n",
      "[LightGBM] [Warning] min_data_in_leaf is set with min_child_samples=20, will be overridden by min_samples_leaf=64. Current value: min_data_in_leaf=64\n",
      "[LightGBM] [Warning] min_data_in_leaf is set with min_child_samples=20, will be overridden by min_samples_leaf=64. Current value: min_data_in_leaf=64\n",
      "[LightGBM] [Warning] min_data_in_leaf is set with min_child_samples=20, will be overridden by min_samples_leaf=64. Current value: min_data_in_leaf=64\n",
      "[LightGBM] [Warning] min_data_in_leaf is set with min_child_samples=20, will be overridden by min_samples_leaf=64. Current value: min_data_in_leaf=64\n",
      "[LightGBM] [Warning] min_data_in_leaf is set with min_child_samples=20, will be overridden by min_samples_leaf=64. Current value: min_data_in_leaf=64\n",
      "[LightGBM] [Warning] min_data_in_leaf is set with min_child_samples=20, will be overridden by min_samples_leaf=64. Current value: min_data_in_leaf=64\n",
      "[LightGBM] [Warning] min_data_in_leaf is set with min_child_samples=20, will be overridden by min_samples_leaf=64. Current value: min_data_in_leaf=64\n",
      "[LightGBM] [Warning] min_data_in_leaf is set with min_child_samples=20, will be overridden by min_samples_leaf=64. Current value: min_data_in_leaf=64\n",
      "| \u001b[0m5        \u001b[0m | \u001b[0m0.9417   \u001b[0m | \u001b[0m83.41    \u001b[0m | \u001b[0m64.49    \u001b[0m | \u001b[0m26.36    \u001b[0m |\n",
      "[LightGBM] [Warning] min_data_in_leaf is set with min_child_samples=20, will be overridden by min_samples_leaf=91. Current value: min_data_in_leaf=91\n",
      "[LightGBM] [Warning] min_data_in_leaf is set with min_child_samples=20, will be overridden by min_samples_leaf=91. Current value: min_data_in_leaf=91\n",
      "[LightGBM] [Warning] min_data_in_leaf is set with min_child_samples=20, will be overridden by min_samples_leaf=91. Current value: min_data_in_leaf=91\n",
      "[LightGBM] [Warning] min_data_in_leaf is set with min_child_samples=20, will be overridden by min_samples_leaf=91. Current value: min_data_in_leaf=91\n",
      "[LightGBM] [Warning] min_data_in_leaf is set with min_child_samples=20, will be overridden by min_samples_leaf=91. Current value: min_data_in_leaf=91\n",
      "[LightGBM] [Warning] min_data_in_leaf is set with min_child_samples=20, will be overridden by min_samples_leaf=91. Current value: min_data_in_leaf=91\n",
      "[LightGBM] [Warning] min_data_in_leaf is set with min_child_samples=20, will be overridden by min_samples_leaf=91. Current value: min_data_in_leaf=91\n",
      "[LightGBM] [Warning] min_data_in_leaf is set with min_child_samples=20, will be overridden by min_samples_leaf=91. Current value: min_data_in_leaf=91\n",
      "| \u001b[0m6        \u001b[0m | \u001b[0m0.9422   \u001b[0m | \u001b[0m19.16    \u001b[0m | \u001b[0m91.97    \u001b[0m | \u001b[0m57.23    \u001b[0m |\n",
      "[LightGBM] [Warning] min_data_in_leaf is set with min_child_samples=20, will be overridden by min_samples_leaf=88. Current value: min_data_in_leaf=88\n",
      "[LightGBM] [Warning] min_data_in_leaf is set with min_child_samples=20, will be overridden by min_samples_leaf=88. Current value: min_data_in_leaf=88\n",
      "[LightGBM] [Warning] min_data_in_leaf is set with min_child_samples=20, will be overridden by min_samples_leaf=88. Current value: min_data_in_leaf=88\n",
      "[LightGBM] [Warning] min_data_in_leaf is set with min_child_samples=20, will be overridden by min_samples_leaf=88. Current value: min_data_in_leaf=88\n",
      "[LightGBM] [Warning] min_data_in_leaf is set with min_child_samples=20, will be overridden by min_samples_leaf=88. Current value: min_data_in_leaf=88\n",
      "[LightGBM] [Warning] min_data_in_leaf is set with min_child_samples=20, will be overridden by min_samples_leaf=88. Current value: min_data_in_leaf=88\n",
      "[LightGBM] [Warning] min_data_in_leaf is set with min_child_samples=20, will be overridden by min_samples_leaf=88. Current value: min_data_in_leaf=88\n",
      "[LightGBM] [Warning] min_data_in_leaf is set with min_child_samples=20, will be overridden by min_samples_leaf=88. Current value: min_data_in_leaf=88\n",
      "| \u001b[0m7        \u001b[0m | \u001b[0m0.9424   \u001b[0m | \u001b[0m43.76    \u001b[0m | \u001b[0m88.08    \u001b[0m | \u001b[0m65.07    \u001b[0m |\n",
      "[LightGBM] [Warning] min_data_in_leaf is set with min_child_samples=20, will be overridden by min_samples_leaf=88. Current value: min_data_in_leaf=88\n",
      "[LightGBM] [Warning] min_data_in_leaf is set with min_child_samples=20, will be overridden by min_samples_leaf=88. Current value: min_data_in_leaf=88\n",
      "[LightGBM] [Warning] min_data_in_leaf is set with min_child_samples=20, will be overridden by min_samples_leaf=88. Current value: min_data_in_leaf=88\n",
      "[LightGBM] [Warning] min_data_in_leaf is set with min_child_samples=20, will be overridden by min_samples_leaf=88. Current value: min_data_in_leaf=88\n",
      "[LightGBM] [Warning] min_data_in_leaf is set with min_child_samples=20, will be overridden by min_samples_leaf=88. Current value: min_data_in_leaf=88\n",
      "[LightGBM] [Warning] min_data_in_leaf is set with min_child_samples=20, will be overridden by min_samples_leaf=88. Current value: min_data_in_leaf=88\n",
      "[LightGBM] [Warning] min_data_in_leaf is set with min_child_samples=20, will be overridden by min_samples_leaf=88. Current value: min_data_in_leaf=88\n",
      "[LightGBM] [Warning] min_data_in_leaf is set with min_child_samples=20, will be overridden by min_samples_leaf=88. Current value: min_data_in_leaf=88\n",
      "| \u001b[0m8        \u001b[0m | \u001b[0m0.9418   \u001b[0m | \u001b[0m14.81    \u001b[0m | \u001b[0m88.35    \u001b[0m | \u001b[0m42.97    \u001b[0m |\n",
      "[LightGBM] [Warning] min_data_in_leaf is set with min_child_samples=20, will be overridden by min_samples_leaf=290. Current value: min_data_in_leaf=290\n",
      "[LightGBM] [Warning] min_data_in_leaf is set with min_child_samples=20, will be overridden by min_samples_leaf=290. Current value: min_data_in_leaf=290\n",
      "[LightGBM] [Warning] min_data_in_leaf is set with min_child_samples=20, will be overridden by min_samples_leaf=290. Current value: min_data_in_leaf=290\n",
      "[LightGBM] [Warning] min_data_in_leaf is set with min_child_samples=20, will be overridden by min_samples_leaf=290. Current value: min_data_in_leaf=290\n",
      "[LightGBM] [Warning] min_data_in_leaf is set with min_child_samples=20, will be overridden by min_samples_leaf=290. Current value: min_data_in_leaf=290\n",
      "[LightGBM] [Warning] min_data_in_leaf is set with min_child_samples=20, will be overridden by min_samples_leaf=290. Current value: min_data_in_leaf=290\n",
      "[LightGBM] [Warning] min_data_in_leaf is set with min_child_samples=20, will be overridden by min_samples_leaf=290. Current value: min_data_in_leaf=290\n",
      "[LightGBM] [Warning] min_data_in_leaf is set with min_child_samples=20, will be overridden by min_samples_leaf=290. Current value: min_data_in_leaf=290\n",
      "| \u001b[0m9        \u001b[0m | \u001b[0m0.9423   \u001b[0m | \u001b[0m50.93    \u001b[0m | \u001b[0m290.2    \u001b[0m | \u001b[0m72.29    \u001b[0m |\n",
      "[LightGBM] [Warning] min_data_in_leaf is set with min_child_samples=20, will be overridden by min_samples_leaf=284. Current value: min_data_in_leaf=284\n",
      "[LightGBM] [Warning] min_data_in_leaf is set with min_child_samples=20, will be overridden by min_samples_leaf=284. Current value: min_data_in_leaf=284\n",
      "[LightGBM] [Warning] min_data_in_leaf is set with min_child_samples=20, will be overridden by min_samples_leaf=284. Current value: min_data_in_leaf=284\n",
      "[LightGBM] [Warning] min_data_in_leaf is set with min_child_samples=20, will be overridden by min_samples_leaf=284. Current value: min_data_in_leaf=284\n",
      "[LightGBM] [Warning] min_data_in_leaf is set with min_child_samples=20, will be overridden by min_samples_leaf=284. Current value: min_data_in_leaf=284\n",
      "[LightGBM] [Warning] min_data_in_leaf is set with min_child_samples=20, will be overridden by min_samples_leaf=284. Current value: min_data_in_leaf=284\n",
      "[LightGBM] [Warning] min_data_in_leaf is set with min_child_samples=20, will be overridden by min_samples_leaf=284. Current value: min_data_in_leaf=284\n",
      "[LightGBM] [Warning] min_data_in_leaf is set with min_child_samples=20, will be overridden by min_samples_leaf=284. Current value: min_data_in_leaf=284\n",
      "| \u001b[95m10       \u001b[0m | \u001b[95m0.9426   \u001b[0m | \u001b[95m38.22    \u001b[0m | \u001b[95m284.5    \u001b[0m | \u001b[95m78.49    \u001b[0m |\n",
      "[LightGBM] [Warning] min_data_in_leaf is set with min_child_samples=20, will be overridden by min_samples_leaf=299. Current value: min_data_in_leaf=299\n",
      "[LightGBM] [Warning] min_data_in_leaf is set with min_child_samples=20, will be overridden by min_samples_leaf=299. Current value: min_data_in_leaf=299\n",
      "[LightGBM] [Warning] min_data_in_leaf is set with min_child_samples=20, will be overridden by min_samples_leaf=299. Current value: min_data_in_leaf=299\n",
      "[LightGBM] [Warning] min_data_in_leaf is set with min_child_samples=20, will be overridden by min_samples_leaf=299. Current value: min_data_in_leaf=299\n",
      "[LightGBM] [Warning] min_data_in_leaf is set with min_child_samples=20, will be overridden by min_samples_leaf=299. Current value: min_data_in_leaf=299\n",
      "[LightGBM] [Warning] min_data_in_leaf is set with min_child_samples=20, will be overridden by min_samples_leaf=299. Current value: min_data_in_leaf=299\n",
      "[LightGBM] [Warning] min_data_in_leaf is set with min_child_samples=20, will be overridden by min_samples_leaf=299. Current value: min_data_in_leaf=299\n",
      "[LightGBM] [Warning] min_data_in_leaf is set with min_child_samples=20, will be overridden by min_samples_leaf=299. Current value: min_data_in_leaf=299\n",
      "| \u001b[0m11       \u001b[0m | \u001b[0m0.9424   \u001b[0m | \u001b[0m27.52    \u001b[0m | \u001b[0m299.8    \u001b[0m | \u001b[0m97.73    \u001b[0m |\n",
      "[LightGBM] [Warning] min_data_in_leaf is set with min_child_samples=20, will be overridden by min_samples_leaf=102. Current value: min_data_in_leaf=102\n",
      "[LightGBM] [Warning] min_data_in_leaf is set with min_child_samples=20, will be overridden by min_samples_leaf=102. Current value: min_data_in_leaf=102\n",
      "[LightGBM] [Warning] min_data_in_leaf is set with min_child_samples=20, will be overridden by min_samples_leaf=102. Current value: min_data_in_leaf=102\n",
      "[LightGBM] [Warning] min_data_in_leaf is set with min_child_samples=20, will be overridden by min_samples_leaf=102. Current value: min_data_in_leaf=102\n",
      "[LightGBM] [Warning] min_data_in_leaf is set with min_child_samples=20, will be overridden by min_samples_leaf=102. Current value: min_data_in_leaf=102\n",
      "[LightGBM] [Warning] min_data_in_leaf is set with min_child_samples=20, will be overridden by min_samples_leaf=102. Current value: min_data_in_leaf=102\n",
      "[LightGBM] [Warning] min_data_in_leaf is set with min_child_samples=20, will be overridden by min_samples_leaf=102. Current value: min_data_in_leaf=102\n",
      "[LightGBM] [Warning] min_data_in_leaf is set with min_child_samples=20, will be overridden by min_samples_leaf=102. Current value: min_data_in_leaf=102\n",
      "| \u001b[0m12       \u001b[0m | \u001b[0m0.9425   \u001b[0m | \u001b[0m34.28    \u001b[0m | \u001b[0m102.5    \u001b[0m | \u001b[0m89.15    \u001b[0m |\n",
      "[LightGBM] [Warning] min_data_in_leaf is set with min_child_samples=20, will be overridden by min_samples_leaf=75. Current value: min_data_in_leaf=75\n",
      "[LightGBM] [Warning] min_data_in_leaf is set with min_child_samples=20, will be overridden by min_samples_leaf=75. Current value: min_data_in_leaf=75\n",
      "[LightGBM] [Warning] min_data_in_leaf is set with min_child_samples=20, will be overridden by min_samples_leaf=75. Current value: min_data_in_leaf=75\n",
      "[LightGBM] [Warning] min_data_in_leaf is set with min_child_samples=20, will be overridden by min_samples_leaf=75. Current value: min_data_in_leaf=75\n",
      "[LightGBM] [Warning] min_data_in_leaf is set with min_child_samples=20, will be overridden by min_samples_leaf=75. Current value: min_data_in_leaf=75\n",
      "[LightGBM] [Warning] min_data_in_leaf is set with min_child_samples=20, will be overridden by min_samples_leaf=75. Current value: min_data_in_leaf=75\n",
      "[LightGBM] [Warning] min_data_in_leaf is set with min_child_samples=20, will be overridden by min_samples_leaf=75. Current value: min_data_in_leaf=75\n",
      "[LightGBM] [Warning] min_data_in_leaf is set with min_child_samples=20, will be overridden by min_samples_leaf=75. Current value: min_data_in_leaf=75\n",
      "| \u001b[0m13       \u001b[0m | \u001b[0m0.9424   \u001b[0m | \u001b[0m34.9     \u001b[0m | \u001b[0m75.12    \u001b[0m | \u001b[0m96.96    \u001b[0m |\n",
      "=============================================================\n",
      "{'target': 0.9425769230769231, 'params': {'max_depth': 38.21862695661519, 'min_samples_leaf': 284.5480746796132, 'num_leaves': 78.49179661563204}}\n"
     ]
    }
   ],
   "source": [
    "parameters_BayesianOptimization = {\"max_depth\": (1, 100), \n",
    "                                   \"min_samples_leaf\": (1, 300),\n",
    "                                   \"num_leaves\": (10,100)\n",
    "                                  }\n",
    "''\n",
    "BayesianOptimization = optimize_DecisionTree(X_train, \n",
    "                                             y_train, \n",
    "                                             parameters_BayesianOptimization, \n",
    "                                             n_iter=5)\n",
    "print(BayesianOptimization.max)"
   ]
  },
  {
   "cell_type": "code",
   "execution_count": 112,
   "metadata": {},
   "outputs": [],
   "source": [
    "params_3 = BayesianOptimization.max[\"params\"]\n",
    "for param in params:\n",
    "    params_3[param] = int(params_3[param])"
   ]
  },
  {
   "cell_type": "code",
   "execution_count": 113,
   "metadata": {},
   "outputs": [
    {
     "name": "stdout",
     "output_type": "stream",
     "text": [
      "[LightGBM] [Warning] min_data_in_leaf is set with min_child_samples=20, will be overridden by min_samples_leaf=284. Current value: min_data_in_leaf=284\n",
      "0.9528538461538462\n",
      "0.9400615384615385\n"
     ]
    }
   ],
   "source": [
    "model2 = LGBMClassifier(**params_3)\n",
    "model2.fit(X_train, y_train)\n",
    "print(model2.score(X_train, y_train))\n",
    "print(model2.score(X_test, y_test))"
   ]
  },
  {
   "cell_type": "code",
   "execution_count": 94,
   "metadata": {},
   "outputs": [],
   "source": [
    "r = permutation_importance(model2, X_test, y_test, n_repeats=30, random_state=0)"
   ]
  },
  {
   "cell_type": "code",
   "execution_count": 95,
   "metadata": {},
   "outputs": [
    {
     "name": "stdout",
     "output_type": "stream",
     "text": [
      "p_sigmad0 0.026  +/- 0.001\n",
      "p_deltaEta1 0.021  +/- 0.001\n",
      "p_ptconecoreTrackPtrCorrection 0.008  +/- 0.001\n",
      "p_Rhad   0.007  +/- 0.001\n",
      "p_Reta   0.006  +/- 0.001\n",
      "p_Rphi   0.006  +/- 0.001\n",
      "p_deltaPhiRescaled2 0.006  +/- 0.001\n",
      "p_EptRatio 0.004  +/- 0.000\n",
      "p_ethad  0.004  +/- 0.000\n",
      "p_E7x11_Lr3 0.003  +/- 0.001\n",
      "p_d0     0.003  +/- 0.000\n",
      "p_ambiguityType 0.002  +/- 0.000\n",
      "p_numberOfPixelHits 0.002  +/- 0.000\n",
      "p_d0Sig  0.002  +/- 0.000\n",
      "p_numberOfSCTHits 0.002  +/- 0.000\n",
      "p_numberOfInnermostPixelHits 0.002  +/- 0.000\n",
      "p_TRTPID 0.001  +/- 0.000\n",
      "p_DeltaE 0.001  +/- 0.000\n",
      "p_maxEcell_energy 0.001  +/- 0.000\n",
      "p_emins1 0.001  +/- 0.000\n",
      "p_f3core 0.001  +/- 0.000\n"
     ]
    }
   ],
   "source": [
    "important_keys4 = []\n",
    "\n",
    "for i in r.importances_mean.argsort()[::-1]:\n",
    "    if r.importances_mean[i] - 2 * r.importances_std[i] > 0:\n",
    "            print(f\"{model2.feature_name_[i]:<8}\",\n",
    "            f\"{r.importances_mean[i]:.3f}\",\n",
    "            f\" +/- {r.importances_std[i]:.3f}\")\n",
    "            important_keys4.append(model2.feature_name_[i])"
   ]
  },
  {
   "cell_type": "code",
   "execution_count": 97,
   "metadata": {},
   "outputs": [],
   "source": [
    "X = pd.DataFrame(preprocessing.StandardScaler().fit_transform(train[important_keys4[:15]]), columns=important_keys4[:15])\n",
    "X_train, X_test, y_train, y_test = train_test_split(X, train[\"Truth\"], test_size=0.2, random_state=42)"
   ]
  },
  {
   "cell_type": "code",
   "execution_count": 98,
   "metadata": {},
   "outputs": [
    {
     "name": "stdout",
     "output_type": "stream",
     "text": [
      "0.948\n",
      "0.9402153846153846\n"
     ]
    }
   ],
   "source": [
    "model2 = LGBMClassifier()\n",
    "model2.fit(X_train, y_train)\n",
    "print(model2.score(X_train, y_train))\n",
    "print(model2.score(X_test, y_test))"
   ]
  },
  {
   "cell_type": "code",
   "execution_count": 102,
   "metadata": {},
   "outputs": [
    {
     "name": "stdout",
     "output_type": "stream",
     "text": [
      "|   iter    |  target   | max_depth | min_sa... | num_le... |\n",
      "-------------------------------------------------------------\n",
      "[LightGBM] [Warning] min_data_in_leaf is set with min_child_samples=20, will be overridden by min_samples_leaf=285. Current value: min_data_in_leaf=285\n",
      "[LightGBM] [Warning] min_data_in_leaf is set with min_child_samples=20, will be overridden by min_samples_leaf=285. Current value: min_data_in_leaf=285\n",
      "[LightGBM] [Warning] min_data_in_leaf is set with min_child_samples=20, will be overridden by min_samples_leaf=285. Current value: min_data_in_leaf=285\n",
      "[LightGBM] [Warning] min_data_in_leaf is set with min_child_samples=20, will be overridden by min_samples_leaf=285. Current value: min_data_in_leaf=285\n",
      "[LightGBM] [Warning] min_data_in_leaf is set with min_child_samples=20, will be overridden by min_samples_leaf=285. Current value: min_data_in_leaf=285\n",
      "[LightGBM] [Warning] min_data_in_leaf is set with min_child_samples=20, will be overridden by min_samples_leaf=285. Current value: min_data_in_leaf=285\n",
      "[LightGBM] [Warning] min_data_in_leaf is set with min_child_samples=20, will be overridden by min_samples_leaf=285. Current value: min_data_in_leaf=285\n",
      "[LightGBM] [Warning] min_data_in_leaf is set with min_child_samples=20, will be overridden by min_samples_leaf=285. Current value: min_data_in_leaf=285\n",
      "| \u001b[0m1        \u001b[0m | \u001b[0m0.9429   \u001b[0m | \u001b[0m38.08    \u001b[0m | \u001b[0m285.3    \u001b[0m | \u001b[0m75.88    \u001b[0m |\n",
      "[LightGBM] [Warning] min_data_in_leaf is set with min_child_samples=20, will be overridden by min_samples_leaf=47. Current value: min_data_in_leaf=47\n",
      "[LightGBM] [Warning] min_data_in_leaf is set with min_child_samples=20, will be overridden by min_samples_leaf=47. Current value: min_data_in_leaf=47\n",
      "[LightGBM] [Warning] min_data_in_leaf is set with min_child_samples=20, will be overridden by min_samples_leaf=47. Current value: min_data_in_leaf=47\n",
      "[LightGBM] [Warning] min_data_in_leaf is set with min_child_samples=20, will be overridden by min_samples_leaf=47. Current value: min_data_in_leaf=47\n",
      "[LightGBM] [Warning] min_data_in_leaf is set with min_child_samples=20, will be overridden by min_samples_leaf=47. Current value: min_data_in_leaf=47\n",
      "[LightGBM] [Warning] min_data_in_leaf is set with min_child_samples=20, will be overridden by min_samples_leaf=47. Current value: min_data_in_leaf=47\n",
      "[LightGBM] [Warning] min_data_in_leaf is set with min_child_samples=20, will be overridden by min_samples_leaf=47. Current value: min_data_in_leaf=47\n",
      "[LightGBM] [Warning] min_data_in_leaf is set with min_child_samples=20, will be overridden by min_samples_leaf=47. Current value: min_data_in_leaf=47\n",
      "| \u001b[0m2        \u001b[0m | \u001b[0m0.9416   \u001b[0m | \u001b[0m60.27    \u001b[0m | \u001b[0m47.65    \u001b[0m | \u001b[0m24.04    \u001b[0m |\n",
      "[LightGBM] [Warning] min_data_in_leaf is set with min_child_samples=20, will be overridden by min_samples_leaf=259. Current value: min_data_in_leaf=259\n",
      "[LightGBM] [Warning] min_data_in_leaf is set with min_child_samples=20, will be overridden by min_samples_leaf=259. Current value: min_data_in_leaf=259\n",
      "[LightGBM] [Warning] min_data_in_leaf is set with min_child_samples=20, will be overridden by min_samples_leaf=259. Current value: min_data_in_leaf=259\n",
      "[LightGBM] [Warning] min_data_in_leaf is set with min_child_samples=20, will be overridden by min_samples_leaf=259. Current value: min_data_in_leaf=259\n",
      "[LightGBM] [Warning] min_data_in_leaf is set with min_child_samples=20, will be overridden by min_samples_leaf=259. Current value: min_data_in_leaf=259\n",
      "[LightGBM] [Warning] min_data_in_leaf is set with min_child_samples=20, will be overridden by min_samples_leaf=259. Current value: min_data_in_leaf=259\n",
      "[LightGBM] [Warning] min_data_in_leaf is set with min_child_samples=20, will be overridden by min_samples_leaf=259. Current value: min_data_in_leaf=259\n",
      "[LightGBM] [Warning] min_data_in_leaf is set with min_child_samples=20, will be overridden by min_samples_leaf=259. Current value: min_data_in_leaf=259\n",
      "| \u001b[0m3        \u001b[0m | \u001b[0m0.9421   \u001b[0m | \u001b[0m6.75     \u001b[0m | \u001b[0m260.0    \u001b[0m | \u001b[0m64.1     \u001b[0m |\n",
      "[LightGBM] [Warning] min_data_in_leaf is set with min_child_samples=20, will be overridden by min_samples_leaf=7. Current value: min_data_in_leaf=7\n",
      "[LightGBM] [Warning] min_data_in_leaf is set with min_child_samples=20, will be overridden by min_samples_leaf=7. Current value: min_data_in_leaf=7\n",
      "[LightGBM] [Warning] min_data_in_leaf is set with min_child_samples=20, will be overridden by min_samples_leaf=7. Current value: min_data_in_leaf=7\n",
      "[LightGBM] [Warning] min_data_in_leaf is set with min_child_samples=20, will be overridden by min_samples_leaf=7. Current value: min_data_in_leaf=7\n",
      "[LightGBM] [Warning] min_data_in_leaf is set with min_child_samples=20, will be overridden by min_samples_leaf=7. Current value: min_data_in_leaf=7\n",
      "[LightGBM] [Warning] min_data_in_leaf is set with min_child_samples=20, will be overridden by min_samples_leaf=7. Current value: min_data_in_leaf=7\n",
      "[LightGBM] [Warning] min_data_in_leaf is set with min_child_samples=20, will be overridden by min_samples_leaf=7. Current value: min_data_in_leaf=7\n",
      "[LightGBM] [Warning] min_data_in_leaf is set with min_child_samples=20, will be overridden by min_samples_leaf=7. Current value: min_data_in_leaf=7\n",
      "| \u001b[0m4        \u001b[0m | \u001b[0m0.9425   \u001b[0m | \u001b[0m71.1     \u001b[0m | \u001b[0m7.155    \u001b[0m | \u001b[0m97.29    \u001b[0m |\n",
      "[LightGBM] [Warning] min_data_in_leaf is set with min_child_samples=20, will be overridden by min_samples_leaf=64. Current value: min_data_in_leaf=64\n",
      "[LightGBM] [Warning] min_data_in_leaf is set with min_child_samples=20, will be overridden by min_samples_leaf=64. Current value: min_data_in_leaf=64\n",
      "[LightGBM] [Warning] min_data_in_leaf is set with min_child_samples=20, will be overridden by min_samples_leaf=64. Current value: min_data_in_leaf=64\n",
      "[LightGBM] [Warning] min_data_in_leaf is set with min_child_samples=20, will be overridden by min_samples_leaf=64. Current value: min_data_in_leaf=64\n",
      "[LightGBM] [Warning] min_data_in_leaf is set with min_child_samples=20, will be overridden by min_samples_leaf=64. Current value: min_data_in_leaf=64\n",
      "[LightGBM] [Warning] min_data_in_leaf is set with min_child_samples=20, will be overridden by min_samples_leaf=64. Current value: min_data_in_leaf=64\n",
      "[LightGBM] [Warning] min_data_in_leaf is set with min_child_samples=20, will be overridden by min_samples_leaf=64. Current value: min_data_in_leaf=64\n",
      "[LightGBM] [Warning] min_data_in_leaf is set with min_child_samples=20, will be overridden by min_samples_leaf=64. Current value: min_data_in_leaf=64\n",
      "| \u001b[0m5        \u001b[0m | \u001b[0m0.9419   \u001b[0m | \u001b[0m83.41    \u001b[0m | \u001b[0m64.49    \u001b[0m | \u001b[0m26.36    \u001b[0m |\n",
      "[LightGBM] [Warning] min_data_in_leaf is set with min_child_samples=20, will be overridden by min_samples_leaf=91. Current value: min_data_in_leaf=91\n",
      "[LightGBM] [Warning] min_data_in_leaf is set with min_child_samples=20, will be overridden by min_samples_leaf=91. Current value: min_data_in_leaf=91\n",
      "[LightGBM] [Warning] min_data_in_leaf is set with min_child_samples=20, will be overridden by min_samples_leaf=91. Current value: min_data_in_leaf=91\n",
      "[LightGBM] [Warning] min_data_in_leaf is set with min_child_samples=20, will be overridden by min_samples_leaf=91. Current value: min_data_in_leaf=91\n",
      "[LightGBM] [Warning] min_data_in_leaf is set with min_child_samples=20, will be overridden by min_samples_leaf=91. Current value: min_data_in_leaf=91\n",
      "[LightGBM] [Warning] min_data_in_leaf is set with min_child_samples=20, will be overridden by min_samples_leaf=91. Current value: min_data_in_leaf=91\n",
      "[LightGBM] [Warning] min_data_in_leaf is set with min_child_samples=20, will be overridden by min_samples_leaf=91. Current value: min_data_in_leaf=91\n",
      "[LightGBM] [Warning] min_data_in_leaf is set with min_child_samples=20, will be overridden by min_samples_leaf=91. Current value: min_data_in_leaf=91\n",
      "| \u001b[95m6        \u001b[0m | \u001b[95m0.943    \u001b[0m | \u001b[95m19.16    \u001b[0m | \u001b[95m91.97    \u001b[0m | \u001b[95m57.23    \u001b[0m |\n",
      "[LightGBM] [Warning] min_data_in_leaf is set with min_child_samples=20, will be overridden by min_samples_leaf=88. Current value: min_data_in_leaf=88\n",
      "[LightGBM] [Warning] min_data_in_leaf is set with min_child_samples=20, will be overridden by min_samples_leaf=88. Current value: min_data_in_leaf=88\n",
      "[LightGBM] [Warning] min_data_in_leaf is set with min_child_samples=20, will be overridden by min_samples_leaf=88. Current value: min_data_in_leaf=88\n",
      "[LightGBM] [Warning] min_data_in_leaf is set with min_child_samples=20, will be overridden by min_samples_leaf=88. Current value: min_data_in_leaf=88\n",
      "[LightGBM] [Warning] min_data_in_leaf is set with min_child_samples=20, will be overridden by min_samples_leaf=88. Current value: min_data_in_leaf=88\n",
      "[LightGBM] [Warning] min_data_in_leaf is set with min_child_samples=20, will be overridden by min_samples_leaf=88. Current value: min_data_in_leaf=88\n",
      "[LightGBM] [Warning] min_data_in_leaf is set with min_child_samples=20, will be overridden by min_samples_leaf=88. Current value: min_data_in_leaf=88\n",
      "[LightGBM] [Warning] min_data_in_leaf is set with min_child_samples=20, will be overridden by min_samples_leaf=88. Current value: min_data_in_leaf=88\n",
      "| \u001b[0m7        \u001b[0m | \u001b[0m0.9429   \u001b[0m | \u001b[0m43.76    \u001b[0m | \u001b[0m88.08    \u001b[0m | \u001b[0m65.07    \u001b[0m |\n",
      "[LightGBM] [Warning] min_data_in_leaf is set with min_child_samples=20, will be overridden by min_samples_leaf=88. Current value: min_data_in_leaf=88\n",
      "[LightGBM] [Warning] min_data_in_leaf is set with min_child_samples=20, will be overridden by min_samples_leaf=88. Current value: min_data_in_leaf=88\n",
      "[LightGBM] [Warning] min_data_in_leaf is set with min_child_samples=20, will be overridden by min_samples_leaf=88. Current value: min_data_in_leaf=88\n",
      "[LightGBM] [Warning] min_data_in_leaf is set with min_child_samples=20, will be overridden by min_samples_leaf=88. Current value: min_data_in_leaf=88\n",
      "[LightGBM] [Warning] min_data_in_leaf is set with min_child_samples=20, will be overridden by min_samples_leaf=88. Current value: min_data_in_leaf=88\n",
      "[LightGBM] [Warning] min_data_in_leaf is set with min_child_samples=20, will be overridden by min_samples_leaf=88. Current value: min_data_in_leaf=88\n",
      "[LightGBM] [Warning] min_data_in_leaf is set with min_child_samples=20, will be overridden by min_samples_leaf=88. Current value: min_data_in_leaf=88\n",
      "[LightGBM] [Warning] min_data_in_leaf is set with min_child_samples=20, will be overridden by min_samples_leaf=88. Current value: min_data_in_leaf=88\n",
      "| \u001b[0m8        \u001b[0m | \u001b[0m0.9429   \u001b[0m | \u001b[0m14.81    \u001b[0m | \u001b[0m88.35    \u001b[0m | \u001b[0m42.97    \u001b[0m |\n",
      "[LightGBM] [Warning] min_data_in_leaf is set with min_child_samples=20, will be overridden by min_samples_leaf=295. Current value: min_data_in_leaf=295\n",
      "[LightGBM] [Warning] min_data_in_leaf is set with min_child_samples=20, will be overridden by min_samples_leaf=295. Current value: min_data_in_leaf=295\n",
      "[LightGBM] [Warning] min_data_in_leaf is set with min_child_samples=20, will be overridden by min_samples_leaf=295. Current value: min_data_in_leaf=295\n",
      "[LightGBM] [Warning] min_data_in_leaf is set with min_child_samples=20, will be overridden by min_samples_leaf=295. Current value: min_data_in_leaf=295\n",
      "[LightGBM] [Warning] min_data_in_leaf is set with min_child_samples=20, will be overridden by min_samples_leaf=295. Current value: min_data_in_leaf=295\n",
      "[LightGBM] [Warning] min_data_in_leaf is set with min_child_samples=20, will be overridden by min_samples_leaf=295. Current value: min_data_in_leaf=295\n",
      "[LightGBM] [Warning] min_data_in_leaf is set with min_child_samples=20, will be overridden by min_samples_leaf=295. Current value: min_data_in_leaf=295\n",
      "[LightGBM] [Warning] min_data_in_leaf is set with min_child_samples=20, will be overridden by min_samples_leaf=295. Current value: min_data_in_leaf=295\n",
      "| \u001b[95m9        \u001b[0m | \u001b[95m0.943    \u001b[0m | \u001b[95m76.29    \u001b[0m | \u001b[95m295.5    \u001b[0m | \u001b[95m95.12    \u001b[0m |\n",
      "[LightGBM] [Warning] min_data_in_leaf is set with min_child_samples=20, will be overridden by min_samples_leaf=89. Current value: min_data_in_leaf=89\n",
      "[LightGBM] [Warning] min_data_in_leaf is set with min_child_samples=20, will be overridden by min_samples_leaf=89. Current value: min_data_in_leaf=89\n",
      "[LightGBM] [Warning] min_data_in_leaf is set with min_child_samples=20, will be overridden by min_samples_leaf=89. Current value: min_data_in_leaf=89\n",
      "[LightGBM] [Warning] min_data_in_leaf is set with min_child_samples=20, will be overridden by min_samples_leaf=89. Current value: min_data_in_leaf=89\n",
      "[LightGBM] [Warning] min_data_in_leaf is set with min_child_samples=20, will be overridden by min_samples_leaf=89. Current value: min_data_in_leaf=89\n",
      "[LightGBM] [Warning] min_data_in_leaf is set with min_child_samples=20, will be overridden by min_samples_leaf=89. Current value: min_data_in_leaf=89\n",
      "[LightGBM] [Warning] min_data_in_leaf is set with min_child_samples=20, will be overridden by min_samples_leaf=89. Current value: min_data_in_leaf=89\n",
      "[LightGBM] [Warning] min_data_in_leaf is set with min_child_samples=20, will be overridden by min_samples_leaf=89. Current value: min_data_in_leaf=89\n",
      "| \u001b[0m10       \u001b[0m | \u001b[0m0.9425   \u001b[0m | \u001b[0m16.44    \u001b[0m | \u001b[0m89.73    \u001b[0m | \u001b[0m42.61    \u001b[0m |\n",
      "[LightGBM] [Warning] min_data_in_leaf is set with min_child_samples=20, will be overridden by min_samples_leaf=292. Current value: min_data_in_leaf=292\n",
      "[LightGBM] [Warning] min_data_in_leaf is set with min_child_samples=20, will be overridden by min_samples_leaf=292. Current value: min_data_in_leaf=292\n",
      "[LightGBM] [Warning] min_data_in_leaf is set with min_child_samples=20, will be overridden by min_samples_leaf=292. Current value: min_data_in_leaf=292\n",
      "[LightGBM] [Warning] min_data_in_leaf is set with min_child_samples=20, will be overridden by min_samples_leaf=292. Current value: min_data_in_leaf=292\n",
      "[LightGBM] [Warning] min_data_in_leaf is set with min_child_samples=20, will be overridden by min_samples_leaf=292. Current value: min_data_in_leaf=292\n",
      "[LightGBM] [Warning] min_data_in_leaf is set with min_child_samples=20, will be overridden by min_samples_leaf=292. Current value: min_data_in_leaf=292\n",
      "[LightGBM] [Warning] min_data_in_leaf is set with min_child_samples=20, will be overridden by min_samples_leaf=292. Current value: min_data_in_leaf=292\n",
      "[LightGBM] [Warning] min_data_in_leaf is set with min_child_samples=20, will be overridden by min_samples_leaf=292. Current value: min_data_in_leaf=292\n",
      "| \u001b[95m11       \u001b[0m | \u001b[95m0.9431   \u001b[0m | \u001b[95m78.9     \u001b[0m | \u001b[95m292.8    \u001b[0m | \u001b[95m95.86    \u001b[0m |\n",
      "[LightGBM] [Warning] min_data_in_leaf is set with min_child_samples=20, will be overridden by min_samples_leaf=290. Current value: min_data_in_leaf=290\n",
      "[LightGBM] [Warning] min_data_in_leaf is set with min_child_samples=20, will be overridden by min_samples_leaf=290. Current value: min_data_in_leaf=290\n",
      "[LightGBM] [Warning] min_data_in_leaf is set with min_child_samples=20, will be overridden by min_samples_leaf=290. Current value: min_data_in_leaf=290\n",
      "[LightGBM] [Warning] min_data_in_leaf is set with min_child_samples=20, will be overridden by min_samples_leaf=290. Current value: min_data_in_leaf=290\n",
      "[LightGBM] [Warning] min_data_in_leaf is set with min_child_samples=20, will be overridden by min_samples_leaf=290. Current value: min_data_in_leaf=290\n",
      "[LightGBM] [Warning] min_data_in_leaf is set with min_child_samples=20, will be overridden by min_samples_leaf=290. Current value: min_data_in_leaf=290\n",
      "[LightGBM] [Warning] min_data_in_leaf is set with min_child_samples=20, will be overridden by min_samples_leaf=290. Current value: min_data_in_leaf=290\n",
      "[LightGBM] [Warning] min_data_in_leaf is set with min_child_samples=20, will be overridden by min_samples_leaf=290. Current value: min_data_in_leaf=290\n",
      "| \u001b[0m12       \u001b[0m | \u001b[0m0.943    \u001b[0m | \u001b[0m72.33    \u001b[0m | \u001b[0m290.5    \u001b[0m | \u001b[0m93.44    \u001b[0m |\n",
      "[LightGBM] [Warning] min_data_in_leaf is set with min_child_samples=20, will be overridden by min_samples_leaf=84. Current value: min_data_in_leaf=84\n",
      "[LightGBM] [Warning] min_data_in_leaf is set with min_child_samples=20, will be overridden by min_samples_leaf=84. Current value: min_data_in_leaf=84\n",
      "[LightGBM] [Warning] min_data_in_leaf is set with min_child_samples=20, will be overridden by min_samples_leaf=84. Current value: min_data_in_leaf=84\n",
      "[LightGBM] [Warning] min_data_in_leaf is set with min_child_samples=20, will be overridden by min_samples_leaf=84. Current value: min_data_in_leaf=84\n",
      "[LightGBM] [Warning] min_data_in_leaf is set with min_child_samples=20, will be overridden by min_samples_leaf=84. Current value: min_data_in_leaf=84\n",
      "[LightGBM] [Warning] min_data_in_leaf is set with min_child_samples=20, will be overridden by min_samples_leaf=84. Current value: min_data_in_leaf=84\n",
      "[LightGBM] [Warning] min_data_in_leaf is set with min_child_samples=20, will be overridden by min_samples_leaf=84. Current value: min_data_in_leaf=84\n",
      "[LightGBM] [Warning] min_data_in_leaf is set with min_child_samples=20, will be overridden by min_samples_leaf=84. Current value: min_data_in_leaf=84\n",
      "| \u001b[0m13       \u001b[0m | \u001b[0m0.9423   \u001b[0m | \u001b[0m7.524    \u001b[0m | \u001b[0m84.86    \u001b[0m | \u001b[0m47.75    \u001b[0m |\n",
      "[LightGBM] [Warning] min_data_in_leaf is set with min_child_samples=20, will be overridden by min_samples_leaf=290. Current value: min_data_in_leaf=290\n",
      "[LightGBM] [Warning] min_data_in_leaf is set with min_child_samples=20, will be overridden by min_samples_leaf=290. Current value: min_data_in_leaf=290\n",
      "[LightGBM] [Warning] min_data_in_leaf is set with min_child_samples=20, will be overridden by min_samples_leaf=290. Current value: min_data_in_leaf=290\n",
      "[LightGBM] [Warning] min_data_in_leaf is set with min_child_samples=20, will be overridden by min_samples_leaf=290. Current value: min_data_in_leaf=290\n",
      "[LightGBM] [Warning] min_data_in_leaf is set with min_child_samples=20, will be overridden by min_samples_leaf=290. Current value: min_data_in_leaf=290\n",
      "[LightGBM] [Warning] min_data_in_leaf is set with min_child_samples=20, will be overridden by min_samples_leaf=290. Current value: min_data_in_leaf=290\n",
      "[LightGBM] [Warning] min_data_in_leaf is set with min_child_samples=20, will be overridden by min_samples_leaf=290. Current value: min_data_in_leaf=290\n",
      "[LightGBM] [Warning] min_data_in_leaf is set with min_child_samples=20, will be overridden by min_samples_leaf=290. Current value: min_data_in_leaf=290\n",
      "| \u001b[0m14       \u001b[0m | \u001b[0m0.943    \u001b[0m | \u001b[0m73.01    \u001b[0m | \u001b[0m290.3    \u001b[0m | \u001b[0m99.26    \u001b[0m |\n",
      "[LightGBM] [Warning] min_data_in_leaf is set with min_child_samples=20, will be overridden by min_samples_leaf=296. Current value: min_data_in_leaf=296\n",
      "[LightGBM] [Warning] min_data_in_leaf is set with min_child_samples=20, will be overridden by min_samples_leaf=296. Current value: min_data_in_leaf=296\n",
      "[LightGBM] [Warning] min_data_in_leaf is set with min_child_samples=20, will be overridden by min_samples_leaf=296. Current value: min_data_in_leaf=296\n",
      "[LightGBM] [Warning] min_data_in_leaf is set with min_child_samples=20, will be overridden by min_samples_leaf=296. Current value: min_data_in_leaf=296\n",
      "[LightGBM] [Warning] min_data_in_leaf is set with min_child_samples=20, will be overridden by min_samples_leaf=296. Current value: min_data_in_leaf=296\n",
      "[LightGBM] [Warning] min_data_in_leaf is set with min_child_samples=20, will be overridden by min_samples_leaf=296. Current value: min_data_in_leaf=296\n",
      "[LightGBM] [Warning] min_data_in_leaf is set with min_child_samples=20, will be overridden by min_samples_leaf=296. Current value: min_data_in_leaf=296\n",
      "[LightGBM] [Warning] min_data_in_leaf is set with min_child_samples=20, will be overridden by min_samples_leaf=296. Current value: min_data_in_leaf=296\n",
      "| \u001b[95m15       \u001b[0m | \u001b[95m0.9433   \u001b[0m | \u001b[95m81.73    \u001b[0m | \u001b[95m296.5    \u001b[0m | \u001b[95m90.85    \u001b[0m |\n",
      "[LightGBM] [Warning] min_data_in_leaf is set with min_child_samples=20, will be overridden by min_samples_leaf=299. Current value: min_data_in_leaf=299\n",
      "[LightGBM] [Warning] min_data_in_leaf is set with min_child_samples=20, will be overridden by min_samples_leaf=299. Current value: min_data_in_leaf=299\n",
      "[LightGBM] [Warning] min_data_in_leaf is set with min_child_samples=20, will be overridden by min_samples_leaf=299. Current value: min_data_in_leaf=299\n",
      "[LightGBM] [Warning] min_data_in_leaf is set with min_child_samples=20, will be overridden by min_samples_leaf=299. Current value: min_data_in_leaf=299\n",
      "[LightGBM] [Warning] min_data_in_leaf is set with min_child_samples=20, will be overridden by min_samples_leaf=299. Current value: min_data_in_leaf=299\n",
      "[LightGBM] [Warning] min_data_in_leaf is set with min_child_samples=20, will be overridden by min_samples_leaf=299. Current value: min_data_in_leaf=299\n",
      "[LightGBM] [Warning] min_data_in_leaf is set with min_child_samples=20, will be overridden by min_samples_leaf=299. Current value: min_data_in_leaf=299\n",
      "[LightGBM] [Warning] min_data_in_leaf is set with min_child_samples=20, will be overridden by min_samples_leaf=299. Current value: min_data_in_leaf=299\n",
      "| \u001b[0m16       \u001b[0m | \u001b[0m0.9431   \u001b[0m | \u001b[0m82.54    \u001b[0m | \u001b[0m299.6    \u001b[0m | \u001b[0m95.66    \u001b[0m |\n",
      "[LightGBM] [Warning] min_data_in_leaf is set with min_child_samples=20, will be overridden by min_samples_leaf=67. Current value: min_data_in_leaf=67\n",
      "[LightGBM] [Warning] min_data_in_leaf is set with min_child_samples=20, will be overridden by min_samples_leaf=67. Current value: min_data_in_leaf=67\n",
      "[LightGBM] [Warning] min_data_in_leaf is set with min_child_samples=20, will be overridden by min_samples_leaf=67. Current value: min_data_in_leaf=67\n",
      "[LightGBM] [Warning] min_data_in_leaf is set with min_child_samples=20, will be overridden by min_samples_leaf=67. Current value: min_data_in_leaf=67\n",
      "[LightGBM] [Warning] min_data_in_leaf is set with min_child_samples=20, will be overridden by min_samples_leaf=67. Current value: min_data_in_leaf=67\n",
      "[LightGBM] [Warning] min_data_in_leaf is set with min_child_samples=20, will be overridden by min_samples_leaf=67. Current value: min_data_in_leaf=67\n",
      "[LightGBM] [Warning] min_data_in_leaf is set with min_child_samples=20, will be overridden by min_samples_leaf=67. Current value: min_data_in_leaf=67\n",
      "[LightGBM] [Warning] min_data_in_leaf is set with min_child_samples=20, will be overridden by min_samples_leaf=67. Current value: min_data_in_leaf=67\n",
      "| \u001b[0m17       \u001b[0m | \u001b[0m0.9429   \u001b[0m | \u001b[0m61.42    \u001b[0m | \u001b[0m67.22    \u001b[0m | \u001b[0m97.85    \u001b[0m |\n",
      "[LightGBM] [Warning] min_data_in_leaf is set with min_child_samples=20, will be overridden by min_samples_leaf=147. Current value: min_data_in_leaf=147\n",
      "[LightGBM] [Warning] min_data_in_leaf is set with min_child_samples=20, will be overridden by min_samples_leaf=147. Current value: min_data_in_leaf=147\n",
      "[LightGBM] [Warning] min_data_in_leaf is set with min_child_samples=20, will be overridden by min_samples_leaf=147. Current value: min_data_in_leaf=147\n",
      "[LightGBM] [Warning] min_data_in_leaf is set with min_child_samples=20, will be overridden by min_samples_leaf=147. Current value: min_data_in_leaf=147\n",
      "[LightGBM] [Warning] min_data_in_leaf is set with min_child_samples=20, will be overridden by min_samples_leaf=147. Current value: min_data_in_leaf=147\n",
      "[LightGBM] [Warning] min_data_in_leaf is set with min_child_samples=20, will be overridden by min_samples_leaf=147. Current value: min_data_in_leaf=147\n",
      "[LightGBM] [Warning] min_data_in_leaf is set with min_child_samples=20, will be overridden by min_samples_leaf=147. Current value: min_data_in_leaf=147\n",
      "[LightGBM] [Warning] min_data_in_leaf is set with min_child_samples=20, will be overridden by min_samples_leaf=147. Current value: min_data_in_leaf=147\n",
      "| \u001b[0m18       \u001b[0m | \u001b[0m0.9414   \u001b[0m | \u001b[0m5.045    \u001b[0m | \u001b[0m147.2    \u001b[0m | \u001b[0m63.25    \u001b[0m |\n",
      "=============================================================\n",
      "{'target': 0.9432538461538462, 'params': {'max_depth': 81.72595276058577, 'min_samples_leaf': 296.51259394082285, 'num_leaves': 90.85264541978434}}\n"
     ]
    }
   ],
   "source": [
    "parameters_BayesianOptimization = {\"max_depth\": (1, 100), \n",
    "                                   \"min_samples_leaf\": (1, 300),\n",
    "                                   \"num_leaves\": (10,100)\n",
    "                                  }\n",
    "''\n",
    "BayesianOptimization = optimize_DecisionTree(X_train, \n",
    "                                             y_train, \n",
    "                                             parameters_BayesianOptimization, \n",
    "                                             n_iter=10)\n",
    "print(BayesianOptimization.max)"
   ]
  },
  {
   "cell_type": "code",
   "execution_count": 103,
   "metadata": {},
   "outputs": [],
   "source": [
    "params_3 = BayesianOptimization.max[\"params\"]\n",
    "for param in params:\n",
    "    params_3[param] = int(params_3[param])"
   ]
  },
  {
   "cell_type": "code",
   "execution_count": 104,
   "metadata": {},
   "outputs": [
    {
     "name": "stdout",
     "output_type": "stream",
     "text": [
      "[LightGBM] [Warning] min_data_in_leaf is set with min_child_samples=20, will be overridden by min_samples_leaf=296. Current value: min_data_in_leaf=296\n",
      "0.9559153846153846\n",
      "0.9409538461538461\n"
     ]
    }
   ],
   "source": [
    "model2 = LGBMClassifier(**params_3)\n",
    "model2.fit(X_train, y_train)\n",
    "print(model2.score(X_train, y_train))\n",
    "print(model2.score(X_test, y_test))"
   ]
  },
  {
   "cell_type": "code",
   "execution_count": 7,
   "metadata": {},
   "outputs": [
    {
     "name": "stdout",
     "output_type": "stream",
     "text": [
      "(162500, 166)\n",
      "(160651, 164)\n"
     ]
    }
   ],
   "source": [
    "print(train.shape)\n",
    "print(final_test.shape)"
   ]
  },
  {
   "cell_type": "code",
   "execution_count": 105,
   "metadata": {},
   "outputs": [],
   "source": [
    "with open(\"./first_lgbm_model.txt\", \"w\") as f:\n",
    "    f.write(\"Parameters used \\n\")\n",
    "    f.write(str(important_keys4[:15]) + \"\\n\")\n",
    "    f.write(\"Hyperparameters used \\n\")\n",
    "    f.write(str(params_3) + \"\\n\")\n",
    "    f.write(\"Evaluation on 0.2 \\n\")\n",
    "    f.write(str(model2.score(X_test, y_test)))"
   ]
  }
 ],
 "metadata": {
  "kernelspec": {
   "display_name": "Python 3",
   "language": "python",
   "name": "python3"
  },
  "language_info": {
   "codemirror_mode": {
    "name": "ipython",
    "version": 3
   },
   "file_extension": ".py",
   "mimetype": "text/x-python",
   "name": "python",
   "nbconvert_exporter": "python",
   "pygments_lexer": "ipython3",
   "version": "3.11.3"
  },
  "orig_nbformat": 4
 },
 "nbformat": 4,
 "nbformat_minor": 2
}
